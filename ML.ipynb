{
  "nbformat": 4,
  "nbformat_minor": 0,
  "metadata": {
    "colab": {
      "provenance": [],
      "authorship_tag": "ABX9TyM1T5vnJ0gxHaYWbCDL/LQC",
      "include_colab_link": true
    },
    "kernelspec": {
      "name": "python3",
      "display_name": "Python 3"
    },
    "language_info": {
      "name": "python"
    }
  },
  "cells": [
    {
      "cell_type": "markdown",
      "metadata": {
        "id": "view-in-github",
        "colab_type": "text"
      },
      "source": [
        "<a href=\"https://colab.research.google.com/github/mizscrystal/Loan-Default-dataset/blob/main/ML.ipynb\" target=\"_parent\"><img src=\"https://colab.research.google.com/assets/colab-badge.svg\" alt=\"Open In Colab\"/></a>"
      ]
    },
    {
      "cell_type": "code",
      "metadata": {
        "id": "AiOaKNBVl_vs"
      },
      "source": [
        "#Loading of necessary packages\n",
        "import numpy as np\n",
        "import pandas as pd\n",
        "import seaborn as sns\n",
        "import matplotlib.pyplot as plt\n",
        "from sklearn import metrics\n",
        "from sklearn.linear_model import LogisticRegression\n",
        "from sklearn.tree import DecisionTreeClassifier\n",
        "from sklearn.ensemble import RandomForestClassifier\n",
        "from sklearn.preprocessing import StandardScaler\n",
        "from sklearn.model_selection import train_test_split\n",
        "from sklearn.model_selection import GridSearchCV, RandomizedSearchCV\n",
        "\n",
        "import warnings\n",
        "warnings.filterwarnings('ignore')\n",
        "%matplotlib inline\n",
        "\n",
        "random_state=35"
      ],
      "execution_count": null,
      "outputs": []
    },
    {
      "cell_type": "code",
      "metadata": {
        "colab": {
          "resources": {
            "http://localhost:8080/nbextensions/google.colab/files.js": {
              "data": "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",
              "ok": true,
              "headers": [
                [
                  "content-type",
                  "application/javascript"
                ]
              ],
              "status": 200,
              "status_text": ""
            }
          },
          "base_uri": "https://localhost:8080/",
          "height": 73
        },
        "id": "1X4_QDgpmM7I",
        "outputId": "77f37659-3d6a-4936-cbb0-155ae77fc018"
      },
      "source": [
        "# Importing and Reading our data from csv file \n",
        "from google.colab import files\n",
        "dataset = files.upload()\n",
        "# Reading the dataset from Colab Local Repository\n",
        "dataset = pd.read_csv(\"CarLoanDefaulters.csv\")"
      ],
      "execution_count": null,
      "outputs": [
        {
          "output_type": "display_data",
          "data": {
            "text/html": [
              "\n",
              "     <input type=\"file\" id=\"files-ab0b39a0-9965-4d4c-83c4-ced6cce8560f\" name=\"files[]\" multiple disabled\n",
              "        style=\"border:none\" />\n",
              "     <output id=\"result-ab0b39a0-9965-4d4c-83c4-ced6cce8560f\">\n",
              "      Upload widget is only available when the cell has been executed in the\n",
              "      current browser session. Please rerun this cell to enable.\n",
              "      </output>\n",
              "      <script src=\"/nbextensions/google.colab/files.js\"></script> "
            ],
            "text/plain": [
              "<IPython.core.display.HTML object>"
            ]
          },
          "metadata": {}
        },
        {
          "output_type": "stream",
          "name": "stdout",
          "text": [
            "Saving CarLoanDefaulters.csv to CarLoanDefaulters.csv\n"
          ]
        }
      ]
    },
    {
      "cell_type": "markdown",
      "metadata": {
        "id": "g5RfHQHGoh9k"
      },
      "source": [
        "Data exploration"
      ]
    },
    {
      "cell_type": "code",
      "metadata": {
        "id": "MqomnN_x1hEz",
        "colab": {
          "base_uri": "https://localhost:8080/",
          "height": 257
        },
        "outputId": "2a013570-b247-4d19-fc22-1def24056984"
      },
      "source": [
        "#data description\n",
        "print(dataset.shape)\n",
        "dataset.head()"
      ],
      "execution_count": null,
      "outputs": [
        {
          "output_type": "stream",
          "name": "stdout",
          "text": [
            "(233154, 41)\n"
          ]
        },
        {
          "output_type": "execute_result",
          "data": {
            "text/html": [
              "<div>\n",
              "<style scoped>\n",
              "    .dataframe tbody tr th:only-of-type {\n",
              "        vertical-align: middle;\n",
              "    }\n",
              "\n",
              "    .dataframe tbody tr th {\n",
              "        vertical-align: top;\n",
              "    }\n",
              "\n",
              "    .dataframe thead th {\n",
              "        text-align: right;\n",
              "    }\n",
              "</style>\n",
              "<table border=\"1\" class=\"dataframe\">\n",
              "  <thead>\n",
              "    <tr style=\"text-align: right;\">\n",
              "      <th></th>\n",
              "      <th>Individual_ID</th>\n",
              "      <th>Paid_out_amount</th>\n",
              "      <th>Asset_Cost</th>\n",
              "      <th>Loan_to_Asset_Value</th>\n",
              "      <th>Branch_ID</th>\n",
              "      <th>Provider_ID</th>\n",
              "      <th>Producer_ID</th>\n",
              "      <th>Present_Code_ID</th>\n",
              "      <th>Date_of_Birth</th>\n",
              "      <th>Type_of_Employment</th>\n",
              "      <th>Paying _out_Date</th>\n",
              "      <th>State_of_Residence_ID</th>\n",
              "      <th>Staff_code_ID</th>\n",
              "      <th>TelephoneNo_Flag</th>\n",
              "      <th>Address_flag</th>\n",
              "      <th>PAN_flag</th>\n",
              "      <th>VoterID_flag</th>\n",
              "      <th>Driving_flag</th>\n",
              "      <th>Passport_flag</th>\n",
              "      <th>Bureau_Score</th>\n",
              "      <th>Bureau_Score_Description</th>\n",
              "      <th>Number_of_loan_taken</th>\n",
              "      <th>Number_of_active_loan</th>\n",
              "      <th>Number_of _overdue_loan</th>\n",
              "      <th>Outstanding_loan_balance</th>\n",
              "      <th>Sanctioned_amount</th>\n",
              "      <th>Total_amount_disbursed</th>\n",
              "      <th>Number_of_loan_taken_indirectly</th>\n",
              "      <th>Number_of_indirect_active_loan</th>\n",
              "      <th>Number_of _overdue_indirect_loan</th>\n",
              "      <th>Indirect_loan_outstanding_balance</th>\n",
              "      <th>Sanctioned_amount_on_indirect</th>\n",
              "      <th>Total_amount_disbursed_on_indirect_loan</th>\n",
              "      <th>Installment_on_direct_loan</th>\n",
              "      <th>Installment_on_indirect_loan</th>\n",
              "      <th>New_loan_taken_in_last_six_months</th>\n",
              "      <th>Defaulted_loan_in_last_six_months</th>\n",
              "      <th>Average_loan_period</th>\n",
              "      <th>Credit_history</th>\n",
              "      <th>Number_of_loan_enquiries</th>\n",
              "      <th>loan_default</th>\n",
              "    </tr>\n",
              "  </thead>\n",
              "  <tbody>\n",
              "    <tr>\n",
              "      <th>0</th>\n",
              "      <td>420825</td>\n",
              "      <td>50578</td>\n",
              "      <td>58400</td>\n",
              "      <td>89.55</td>\n",
              "      <td>67</td>\n",
              "      <td>22807</td>\n",
              "      <td>45</td>\n",
              "      <td>1441</td>\n",
              "      <td>1/1/1984</td>\n",
              "      <td>Salaried</td>\n",
              "      <td>3/8/2018</td>\n",
              "      <td>6</td>\n",
              "      <td>1998</td>\n",
              "      <td>1</td>\n",
              "      <td>1</td>\n",
              "      <td>0</td>\n",
              "      <td>0</td>\n",
              "      <td>0</td>\n",
              "      <td>0</td>\n",
              "      <td>0</td>\n",
              "      <td>No Bureau History Available</td>\n",
              "      <td>0</td>\n",
              "      <td>0</td>\n",
              "      <td>0</td>\n",
              "      <td>0</td>\n",
              "      <td>0</td>\n",
              "      <td>0</td>\n",
              "      <td>0</td>\n",
              "      <td>0</td>\n",
              "      <td>0</td>\n",
              "      <td>0</td>\n",
              "      <td>0</td>\n",
              "      <td>0</td>\n",
              "      <td>0</td>\n",
              "      <td>0</td>\n",
              "      <td>0</td>\n",
              "      <td>0</td>\n",
              "      <td>0yrs 0mon</td>\n",
              "      <td>0yrs 0mon</td>\n",
              "      <td>0</td>\n",
              "      <td>0</td>\n",
              "    </tr>\n",
              "    <tr>\n",
              "      <th>1</th>\n",
              "      <td>537409</td>\n",
              "      <td>47145</td>\n",
              "      <td>65550</td>\n",
              "      <td>73.23</td>\n",
              "      <td>67</td>\n",
              "      <td>22807</td>\n",
              "      <td>45</td>\n",
              "      <td>1502</td>\n",
              "      <td>31-07-85</td>\n",
              "      <td>Self employed</td>\n",
              "      <td>26-09-18</td>\n",
              "      <td>6</td>\n",
              "      <td>1998</td>\n",
              "      <td>1</td>\n",
              "      <td>1</td>\n",
              "      <td>0</td>\n",
              "      <td>0</td>\n",
              "      <td>0</td>\n",
              "      <td>0</td>\n",
              "      <td>598</td>\n",
              "      <td>I-Medium Risk</td>\n",
              "      <td>1</td>\n",
              "      <td>1</td>\n",
              "      <td>1</td>\n",
              "      <td>27600</td>\n",
              "      <td>50200</td>\n",
              "      <td>50200</td>\n",
              "      <td>0</td>\n",
              "      <td>0</td>\n",
              "      <td>0</td>\n",
              "      <td>0</td>\n",
              "      <td>0</td>\n",
              "      <td>0</td>\n",
              "      <td>1991</td>\n",
              "      <td>0</td>\n",
              "      <td>0</td>\n",
              "      <td>1</td>\n",
              "      <td>1yrs 11mon</td>\n",
              "      <td>1yrs 11mon</td>\n",
              "      <td>0</td>\n",
              "      <td>1</td>\n",
              "    </tr>\n",
              "    <tr>\n",
              "      <th>2</th>\n",
              "      <td>417566</td>\n",
              "      <td>53278</td>\n",
              "      <td>61360</td>\n",
              "      <td>89.63</td>\n",
              "      <td>67</td>\n",
              "      <td>22807</td>\n",
              "      <td>45</td>\n",
              "      <td>1497</td>\n",
              "      <td>24-08-85</td>\n",
              "      <td>Self employed</td>\n",
              "      <td>1/8/2018</td>\n",
              "      <td>6</td>\n",
              "      <td>1998</td>\n",
              "      <td>1</td>\n",
              "      <td>1</td>\n",
              "      <td>0</td>\n",
              "      <td>0</td>\n",
              "      <td>0</td>\n",
              "      <td>0</td>\n",
              "      <td>0</td>\n",
              "      <td>No Bureau History Available</td>\n",
              "      <td>0</td>\n",
              "      <td>0</td>\n",
              "      <td>0</td>\n",
              "      <td>0</td>\n",
              "      <td>0</td>\n",
              "      <td>0</td>\n",
              "      <td>0</td>\n",
              "      <td>0</td>\n",
              "      <td>0</td>\n",
              "      <td>0</td>\n",
              "      <td>0</td>\n",
              "      <td>0</td>\n",
              "      <td>0</td>\n",
              "      <td>0</td>\n",
              "      <td>0</td>\n",
              "      <td>0</td>\n",
              "      <td>0yrs 0mon</td>\n",
              "      <td>0yrs 0mon</td>\n",
              "      <td>0</td>\n",
              "      <td>0</td>\n",
              "    </tr>\n",
              "    <tr>\n",
              "      <th>3</th>\n",
              "      <td>624493</td>\n",
              "      <td>57513</td>\n",
              "      <td>66113</td>\n",
              "      <td>88.48</td>\n",
              "      <td>67</td>\n",
              "      <td>22807</td>\n",
              "      <td>45</td>\n",
              "      <td>1501</td>\n",
              "      <td>30-12-93</td>\n",
              "      <td>Self employed</td>\n",
              "      <td>26-10-18</td>\n",
              "      <td>6</td>\n",
              "      <td>1998</td>\n",
              "      <td>1</td>\n",
              "      <td>1</td>\n",
              "      <td>0</td>\n",
              "      <td>0</td>\n",
              "      <td>0</td>\n",
              "      <td>0</td>\n",
              "      <td>305</td>\n",
              "      <td>L-Very High Risk</td>\n",
              "      <td>3</td>\n",
              "      <td>0</td>\n",
              "      <td>0</td>\n",
              "      <td>0</td>\n",
              "      <td>0</td>\n",
              "      <td>0</td>\n",
              "      <td>0</td>\n",
              "      <td>0</td>\n",
              "      <td>0</td>\n",
              "      <td>0</td>\n",
              "      <td>0</td>\n",
              "      <td>0</td>\n",
              "      <td>31</td>\n",
              "      <td>0</td>\n",
              "      <td>0</td>\n",
              "      <td>0</td>\n",
              "      <td>0yrs 8mon</td>\n",
              "      <td>1yrs 3mon</td>\n",
              "      <td>1</td>\n",
              "      <td>1</td>\n",
              "    </tr>\n",
              "    <tr>\n",
              "      <th>4</th>\n",
              "      <td>539055</td>\n",
              "      <td>52378</td>\n",
              "      <td>60300</td>\n",
              "      <td>88.39</td>\n",
              "      <td>67</td>\n",
              "      <td>22807</td>\n",
              "      <td>45</td>\n",
              "      <td>1495</td>\n",
              "      <td>9/12/1977</td>\n",
              "      <td>Self employed</td>\n",
              "      <td>26-09-18</td>\n",
              "      <td>6</td>\n",
              "      <td>1998</td>\n",
              "      <td>1</td>\n",
              "      <td>1</td>\n",
              "      <td>0</td>\n",
              "      <td>0</td>\n",
              "      <td>0</td>\n",
              "      <td>0</td>\n",
              "      <td>0</td>\n",
              "      <td>No Bureau History Available</td>\n",
              "      <td>0</td>\n",
              "      <td>0</td>\n",
              "      <td>0</td>\n",
              "      <td>0</td>\n",
              "      <td>0</td>\n",
              "      <td>0</td>\n",
              "      <td>0</td>\n",
              "      <td>0</td>\n",
              "      <td>0</td>\n",
              "      <td>0</td>\n",
              "      <td>0</td>\n",
              "      <td>0</td>\n",
              "      <td>0</td>\n",
              "      <td>0</td>\n",
              "      <td>0</td>\n",
              "      <td>0</td>\n",
              "      <td>0yrs 0mon</td>\n",
              "      <td>0yrs 0mon</td>\n",
              "      <td>1</td>\n",
              "      <td>1</td>\n",
              "    </tr>\n",
              "  </tbody>\n",
              "</table>\n",
              "</div>"
            ],
            "text/plain": [
              "   Individual_ID  Paid_out_amount  ...  Number_of_loan_enquiries  loan_default\n",
              "0         420825            50578  ...                         0             0\n",
              "1         537409            47145  ...                         0             1\n",
              "2         417566            53278  ...                         0             0\n",
              "3         624493            57513  ...                         1             1\n",
              "4         539055            52378  ...                         1             1\n",
              "\n",
              "[5 rows x 41 columns]"
            ]
          },
          "metadata": {},
          "execution_count": 3
        }
      ]
    },
    {
      "cell_type": "code",
      "metadata": {
        "colab": {
          "base_uri": "https://localhost:8080/"
        },
        "id": "vU3iGUrA53h2",
        "outputId": "e898b5fb-2d5f-4afa-89f0-265878f3d2f2"
      },
      "source": [
        "# To get an idea about all the features available in dataset\n",
        "dataset.info()"
      ],
      "execution_count": null,
      "outputs": [
        {
          "output_type": "stream",
          "name": "stdout",
          "text": [
            "<class 'pandas.core.frame.DataFrame'>\n",
            "RangeIndex: 233154 entries, 0 to 233153\n",
            "Data columns (total 41 columns):\n",
            " #   Column                                   Non-Null Count   Dtype  \n",
            "---  ------                                   --------------   -----  \n",
            " 0   Individual_ID                            233154 non-null  int64  \n",
            " 1   Paid_out_amount                          233154 non-null  int64  \n",
            " 2   Asset_Cost                               233154 non-null  int64  \n",
            " 3   Loan_to_Asset_Value                      233154 non-null  float64\n",
            " 4   Branch_ID                                233154 non-null  int64  \n",
            " 5   Provider_ID                              233154 non-null  int64  \n",
            " 6   Producer_ID                              233154 non-null  int64  \n",
            " 7   Present_Code_ID                          233154 non-null  int64  \n",
            " 8   Date_of_Birth                            233154 non-null  object \n",
            " 9   Type_of_Employment                       225493 non-null  object \n",
            " 10  Paying _out_Date                         233154 non-null  object \n",
            " 11  State_of_Residence_ID                    233154 non-null  int64  \n",
            " 12  Staff_code_ID                            233154 non-null  int64  \n",
            " 13  TelephoneNo_Flag                         233154 non-null  int64  \n",
            " 14  Address_flag                             233154 non-null  int64  \n",
            " 15  PAN_flag                                 233154 non-null  int64  \n",
            " 16  VoterID_flag                             233154 non-null  int64  \n",
            " 17  Driving_flag                             233154 non-null  int64  \n",
            " 18  Passport_flag                            233154 non-null  int64  \n",
            " 19  Bureau_Score                             233154 non-null  int64  \n",
            " 20  Bureau_Score_Description                 233154 non-null  object \n",
            " 21  Number_of_loan_taken                     233154 non-null  int64  \n",
            " 22  Number_of_active_loan                    233154 non-null  int64  \n",
            " 23  Number_of _overdue_loan                  233154 non-null  int64  \n",
            " 24  Outstanding_loan_balance                 233154 non-null  int64  \n",
            " 25  Sanctioned_amount                        233154 non-null  int64  \n",
            " 26  Total_amount_disbursed                   233154 non-null  int64  \n",
            " 27  Number_of_loan_taken_indirectly          233154 non-null  int64  \n",
            " 28  Number_of_indirect_active_loan           233154 non-null  int64  \n",
            " 29  Number_of _overdue_indirect_loan         233154 non-null  int64  \n",
            " 30  Indirect_loan_outstanding_balance        233154 non-null  int64  \n",
            " 31  Sanctioned_amount_on_indirect            233154 non-null  int64  \n",
            " 32  Total_amount_disbursed_on_indirect_loan  233154 non-null  int64  \n",
            " 33  Installment_on_direct_loan               233154 non-null  int64  \n",
            " 34  Installment_on_indirect_loan             233154 non-null  int64  \n",
            " 35  New_loan_taken_in_last_six_months        233154 non-null  int64  \n",
            " 36  Defaulted_loan_in_last_six_months        233154 non-null  int64  \n",
            " 37  Average_loan_period                      233154 non-null  object \n",
            " 38  Credit_history                           233154 non-null  object \n",
            " 39  Number_of_loan_enquiries                 233154 non-null  int64  \n",
            " 40  loan_default                             233154 non-null  int64  \n",
            "dtypes: float64(1), int64(34), object(6)\n",
            "memory usage: 72.9+ MB\n"
          ]
        }
      ]
    },
    {
      "cell_type": "code",
      "metadata": {
        "colab": {
          "base_uri": "https://localhost:8080/",
          "height": 332
        },
        "id": "MTeyT58b6A14",
        "outputId": "fbc01b9f-c887-4eac-ef69-10d590d1ace7"
      },
      "source": [
        "# Inspect the mean and standard deviation using the describe feature\n",
        "dataset.describe()"
      ],
      "execution_count": null,
      "outputs": [
        {
          "output_type": "execute_result",
          "data": {
            "text/html": [
              "<div>\n",
              "<style scoped>\n",
              "    .dataframe tbody tr th:only-of-type {\n",
              "        vertical-align: middle;\n",
              "    }\n",
              "\n",
              "    .dataframe tbody tr th {\n",
              "        vertical-align: top;\n",
              "    }\n",
              "\n",
              "    .dataframe thead th {\n",
              "        text-align: right;\n",
              "    }\n",
              "</style>\n",
              "<table border=\"1\" class=\"dataframe\">\n",
              "  <thead>\n",
              "    <tr style=\"text-align: right;\">\n",
              "      <th></th>\n",
              "      <th>Individual_ID</th>\n",
              "      <th>Paid_out_amount</th>\n",
              "      <th>Asset_Cost</th>\n",
              "      <th>Loan_to_Asset_Value</th>\n",
              "      <th>Branch_ID</th>\n",
              "      <th>Provider_ID</th>\n",
              "      <th>Producer_ID</th>\n",
              "      <th>Present_Code_ID</th>\n",
              "      <th>State_of_Residence_ID</th>\n",
              "      <th>Staff_code_ID</th>\n",
              "      <th>TelephoneNo_Flag</th>\n",
              "      <th>Address_flag</th>\n",
              "      <th>PAN_flag</th>\n",
              "      <th>VoterID_flag</th>\n",
              "      <th>Driving_flag</th>\n",
              "      <th>Passport_flag</th>\n",
              "      <th>Bureau_Score</th>\n",
              "      <th>Number_of_loan_taken</th>\n",
              "      <th>Number_of_active_loan</th>\n",
              "      <th>Number_of _overdue_loan</th>\n",
              "      <th>Outstanding_loan_balance</th>\n",
              "      <th>Sanctioned_amount</th>\n",
              "      <th>Total_amount_disbursed</th>\n",
              "      <th>Number_of_loan_taken_indirectly</th>\n",
              "      <th>Number_of_indirect_active_loan</th>\n",
              "      <th>Number_of _overdue_indirect_loan</th>\n",
              "      <th>Indirect_loan_outstanding_balance</th>\n",
              "      <th>Sanctioned_amount_on_indirect</th>\n",
              "      <th>Total_amount_disbursed_on_indirect_loan</th>\n",
              "      <th>Installment_on_direct_loan</th>\n",
              "      <th>Installment_on_indirect_loan</th>\n",
              "      <th>New_loan_taken_in_last_six_months</th>\n",
              "      <th>Defaulted_loan_in_last_six_months</th>\n",
              "      <th>Number_of_loan_enquiries</th>\n",
              "      <th>loan_default</th>\n",
              "    </tr>\n",
              "  </thead>\n",
              "  <tbody>\n",
              "    <tr>\n",
              "      <th>count</th>\n",
              "      <td>233154.000000</td>\n",
              "      <td>233154.000000</td>\n",
              "      <td>2.331540e+05</td>\n",
              "      <td>233154.000000</td>\n",
              "      <td>233154.000000</td>\n",
              "      <td>233154.000000</td>\n",
              "      <td>233154.000000</td>\n",
              "      <td>233154.000000</td>\n",
              "      <td>233154.000000</td>\n",
              "      <td>233154.000000</td>\n",
              "      <td>233154.0</td>\n",
              "      <td>233154.00000</td>\n",
              "      <td>233154.000000</td>\n",
              "      <td>233154.000000</td>\n",
              "      <td>233154.000000</td>\n",
              "      <td>233154.000000</td>\n",
              "      <td>233154.000000</td>\n",
              "      <td>233154.000000</td>\n",
              "      <td>233154.000000</td>\n",
              "      <td>233154.000000</td>\n",
              "      <td>2.331540e+05</td>\n",
              "      <td>2.331540e+05</td>\n",
              "      <td>2.331540e+05</td>\n",
              "      <td>233154.000000</td>\n",
              "      <td>233154.000000</td>\n",
              "      <td>233154.000000</td>\n",
              "      <td>2.331540e+05</td>\n",
              "      <td>2.331540e+05</td>\n",
              "      <td>2.331540e+05</td>\n",
              "      <td>2.331540e+05</td>\n",
              "      <td>2.331540e+05</td>\n",
              "      <td>233154.000000</td>\n",
              "      <td>233154.000000</td>\n",
              "      <td>233154.000000</td>\n",
              "      <td>233154.000000</td>\n",
              "    </tr>\n",
              "    <tr>\n",
              "      <th>mean</th>\n",
              "      <td>535917.573376</td>\n",
              "      <td>54356.993528</td>\n",
              "      <td>7.586507e+04</td>\n",
              "      <td>74.746530</td>\n",
              "      <td>72.936094</td>\n",
              "      <td>19638.635035</td>\n",
              "      <td>69.028054</td>\n",
              "      <td>3396.880247</td>\n",
              "      <td>7.262243</td>\n",
              "      <td>1549.477148</td>\n",
              "      <td>1.0</td>\n",
              "      <td>0.84032</td>\n",
              "      <td>0.075577</td>\n",
              "      <td>0.144943</td>\n",
              "      <td>0.023242</td>\n",
              "      <td>0.002127</td>\n",
              "      <td>289.462994</td>\n",
              "      <td>2.440636</td>\n",
              "      <td>1.039896</td>\n",
              "      <td>0.156549</td>\n",
              "      <td>1.659001e+05</td>\n",
              "      <td>2.185039e+05</td>\n",
              "      <td>2.180659e+05</td>\n",
              "      <td>0.059081</td>\n",
              "      <td>0.027703</td>\n",
              "      <td>0.007244</td>\n",
              "      <td>5.427793e+03</td>\n",
              "      <td>7.295923e+03</td>\n",
              "      <td>7.179998e+03</td>\n",
              "      <td>1.310548e+04</td>\n",
              "      <td>3.232684e+02</td>\n",
              "      <td>0.381833</td>\n",
              "      <td>0.097481</td>\n",
              "      <td>0.206615</td>\n",
              "      <td>0.217071</td>\n",
              "    </tr>\n",
              "    <tr>\n",
              "      <th>std</th>\n",
              "      <td>68315.693711</td>\n",
              "      <td>12971.314171</td>\n",
              "      <td>1.894478e+04</td>\n",
              "      <td>11.456636</td>\n",
              "      <td>69.834995</td>\n",
              "      <td>3491.949566</td>\n",
              "      <td>22.141304</td>\n",
              "      <td>2238.147502</td>\n",
              "      <td>4.482230</td>\n",
              "      <td>975.261278</td>\n",
              "      <td>0.0</td>\n",
              "      <td>0.36631</td>\n",
              "      <td>0.264320</td>\n",
              "      <td>0.352044</td>\n",
              "      <td>0.150672</td>\n",
              "      <td>0.046074</td>\n",
              "      <td>338.374779</td>\n",
              "      <td>5.217233</td>\n",
              "      <td>1.941496</td>\n",
              "      <td>0.548787</td>\n",
              "      <td>9.422736e+05</td>\n",
              "      <td>2.374794e+06</td>\n",
              "      <td>2.377744e+06</td>\n",
              "      <td>0.626795</td>\n",
              "      <td>0.316057</td>\n",
              "      <td>0.111079</td>\n",
              "      <td>1.702370e+05</td>\n",
              "      <td>1.831560e+05</td>\n",
              "      <td>1.825925e+05</td>\n",
              "      <td>1.513679e+05</td>\n",
              "      <td>1.555369e+04</td>\n",
              "      <td>0.955107</td>\n",
              "      <td>0.384439</td>\n",
              "      <td>0.706498</td>\n",
              "      <td>0.412252</td>\n",
              "    </tr>\n",
              "    <tr>\n",
              "      <th>min</th>\n",
              "      <td>417428.000000</td>\n",
              "      <td>13320.000000</td>\n",
              "      <td>3.700000e+04</td>\n",
              "      <td>10.030000</td>\n",
              "      <td>1.000000</td>\n",
              "      <td>10524.000000</td>\n",
              "      <td>45.000000</td>\n",
              "      <td>1.000000</td>\n",
              "      <td>1.000000</td>\n",
              "      <td>1.000000</td>\n",
              "      <td>1.0</td>\n",
              "      <td>0.00000</td>\n",
              "      <td>0.000000</td>\n",
              "      <td>0.000000</td>\n",
              "      <td>0.000000</td>\n",
              "      <td>0.000000</td>\n",
              "      <td>0.000000</td>\n",
              "      <td>0.000000</td>\n",
              "      <td>0.000000</td>\n",
              "      <td>0.000000</td>\n",
              "      <td>-6.678296e+06</td>\n",
              "      <td>0.000000e+00</td>\n",
              "      <td>0.000000e+00</td>\n",
              "      <td>0.000000</td>\n",
              "      <td>0.000000</td>\n",
              "      <td>0.000000</td>\n",
              "      <td>-5.746470e+05</td>\n",
              "      <td>0.000000e+00</td>\n",
              "      <td>0.000000e+00</td>\n",
              "      <td>0.000000e+00</td>\n",
              "      <td>0.000000e+00</td>\n",
              "      <td>0.000000</td>\n",
              "      <td>0.000000</td>\n",
              "      <td>0.000000</td>\n",
              "      <td>0.000000</td>\n",
              "    </tr>\n",
              "    <tr>\n",
              "      <th>25%</th>\n",
              "      <td>476786.250000</td>\n",
              "      <td>47145.000000</td>\n",
              "      <td>6.571700e+04</td>\n",
              "      <td>68.880000</td>\n",
              "      <td>14.000000</td>\n",
              "      <td>16535.000000</td>\n",
              "      <td>48.000000</td>\n",
              "      <td>1511.000000</td>\n",
              "      <td>4.000000</td>\n",
              "      <td>713.000000</td>\n",
              "      <td>1.0</td>\n",
              "      <td>1.00000</td>\n",
              "      <td>0.000000</td>\n",
              "      <td>0.000000</td>\n",
              "      <td>0.000000</td>\n",
              "      <td>0.000000</td>\n",
              "      <td>0.000000</td>\n",
              "      <td>0.000000</td>\n",
              "      <td>0.000000</td>\n",
              "      <td>0.000000</td>\n",
              "      <td>0.000000e+00</td>\n",
              "      <td>0.000000e+00</td>\n",
              "      <td>0.000000e+00</td>\n",
              "      <td>0.000000</td>\n",
              "      <td>0.000000</td>\n",
              "      <td>0.000000</td>\n",
              "      <td>0.000000e+00</td>\n",
              "      <td>0.000000e+00</td>\n",
              "      <td>0.000000e+00</td>\n",
              "      <td>0.000000e+00</td>\n",
              "      <td>0.000000e+00</td>\n",
              "      <td>0.000000</td>\n",
              "      <td>0.000000</td>\n",
              "      <td>0.000000</td>\n",
              "      <td>0.000000</td>\n",
              "    </tr>\n",
              "    <tr>\n",
              "      <th>50%</th>\n",
              "      <td>535978.500000</td>\n",
              "      <td>53803.000000</td>\n",
              "      <td>7.094600e+04</td>\n",
              "      <td>76.800000</td>\n",
              "      <td>61.000000</td>\n",
              "      <td>20333.000000</td>\n",
              "      <td>86.000000</td>\n",
              "      <td>2970.000000</td>\n",
              "      <td>6.000000</td>\n",
              "      <td>1451.000000</td>\n",
              "      <td>1.0</td>\n",
              "      <td>1.00000</td>\n",
              "      <td>0.000000</td>\n",
              "      <td>0.000000</td>\n",
              "      <td>0.000000</td>\n",
              "      <td>0.000000</td>\n",
              "      <td>0.000000</td>\n",
              "      <td>0.000000</td>\n",
              "      <td>0.000000</td>\n",
              "      <td>0.000000</td>\n",
              "      <td>0.000000e+00</td>\n",
              "      <td>0.000000e+00</td>\n",
              "      <td>0.000000e+00</td>\n",
              "      <td>0.000000</td>\n",
              "      <td>0.000000</td>\n",
              "      <td>0.000000</td>\n",
              "      <td>0.000000e+00</td>\n",
              "      <td>0.000000e+00</td>\n",
              "      <td>0.000000e+00</td>\n",
              "      <td>0.000000e+00</td>\n",
              "      <td>0.000000e+00</td>\n",
              "      <td>0.000000</td>\n",
              "      <td>0.000000</td>\n",
              "      <td>0.000000</td>\n",
              "      <td>0.000000</td>\n",
              "    </tr>\n",
              "    <tr>\n",
              "      <th>75%</th>\n",
              "      <td>595039.750000</td>\n",
              "      <td>60413.000000</td>\n",
              "      <td>7.920175e+04</td>\n",
              "      <td>83.670000</td>\n",
              "      <td>130.000000</td>\n",
              "      <td>23000.000000</td>\n",
              "      <td>86.000000</td>\n",
              "      <td>5677.000000</td>\n",
              "      <td>10.000000</td>\n",
              "      <td>2362.000000</td>\n",
              "      <td>1.0</td>\n",
              "      <td>1.00000</td>\n",
              "      <td>0.000000</td>\n",
              "      <td>0.000000</td>\n",
              "      <td>0.000000</td>\n",
              "      <td>0.000000</td>\n",
              "      <td>678.000000</td>\n",
              "      <td>3.000000</td>\n",
              "      <td>1.000000</td>\n",
              "      <td>0.000000</td>\n",
              "      <td>3.500650e+04</td>\n",
              "      <td>6.250000e+04</td>\n",
              "      <td>6.080000e+04</td>\n",
              "      <td>0.000000</td>\n",
              "      <td>0.000000</td>\n",
              "      <td>0.000000</td>\n",
              "      <td>0.000000e+00</td>\n",
              "      <td>0.000000e+00</td>\n",
              "      <td>0.000000e+00</td>\n",
              "      <td>1.999000e+03</td>\n",
              "      <td>0.000000e+00</td>\n",
              "      <td>0.000000</td>\n",
              "      <td>0.000000</td>\n",
              "      <td>0.000000</td>\n",
              "      <td>0.000000</td>\n",
              "    </tr>\n",
              "    <tr>\n",
              "      <th>max</th>\n",
              "      <td>671084.000000</td>\n",
              "      <td>990572.000000</td>\n",
              "      <td>1.628992e+06</td>\n",
              "      <td>95.000000</td>\n",
              "      <td>261.000000</td>\n",
              "      <td>24803.000000</td>\n",
              "      <td>156.000000</td>\n",
              "      <td>7345.000000</td>\n",
              "      <td>22.000000</td>\n",
              "      <td>3795.000000</td>\n",
              "      <td>1.0</td>\n",
              "      <td>1.00000</td>\n",
              "      <td>1.000000</td>\n",
              "      <td>1.000000</td>\n",
              "      <td>1.000000</td>\n",
              "      <td>1.000000</td>\n",
              "      <td>890.000000</td>\n",
              "      <td>453.000000</td>\n",
              "      <td>144.000000</td>\n",
              "      <td>25.000000</td>\n",
              "      <td>9.652492e+07</td>\n",
              "      <td>1.000000e+09</td>\n",
              "      <td>1.000000e+09</td>\n",
              "      <td>52.000000</td>\n",
              "      <td>36.000000</td>\n",
              "      <td>8.000000</td>\n",
              "      <td>3.603285e+07</td>\n",
              "      <td>3.000000e+07</td>\n",
              "      <td>3.000000e+07</td>\n",
              "      <td>2.564281e+07</td>\n",
              "      <td>4.170901e+06</td>\n",
              "      <td>35.000000</td>\n",
              "      <td>20.000000</td>\n",
              "      <td>36.000000</td>\n",
              "      <td>1.000000</td>\n",
              "    </tr>\n",
              "  </tbody>\n",
              "</table>\n",
              "</div>"
            ],
            "text/plain": [
              "       Individual_ID  Paid_out_amount  ...  Number_of_loan_enquiries   loan_default\n",
              "count  233154.000000    233154.000000  ...             233154.000000  233154.000000\n",
              "mean   535917.573376     54356.993528  ...                  0.206615       0.217071\n",
              "std     68315.693711     12971.314171  ...                  0.706498       0.412252\n",
              "min    417428.000000     13320.000000  ...                  0.000000       0.000000\n",
              "25%    476786.250000     47145.000000  ...                  0.000000       0.000000\n",
              "50%    535978.500000     53803.000000  ...                  0.000000       0.000000\n",
              "75%    595039.750000     60413.000000  ...                  0.000000       0.000000\n",
              "max    671084.000000    990572.000000  ...                 36.000000       1.000000\n",
              "\n",
              "[8 rows x 35 columns]"
            ]
          },
          "metadata": {},
          "execution_count": 5
        }
      ]
    },
    {
      "cell_type": "markdown",
      "metadata": {
        "id": "SxKfmYw1jM35"
      },
      "source": [
        "From our dataset we can see that there are 41 features in our dataset"
      ]
    },
    {
      "cell_type": "code",
      "metadata": {
        "colab": {
          "base_uri": "https://localhost:8080/"
        },
        "id": "ILh7pUND6Arr",
        "outputId": "941a8dc9-35ce-4283-f6b2-35d3f3dc5ea8"
      },
      "source": [
        "# We check for null value\n",
        "dataset.isnull().sum()"
      ],
      "execution_count": null,
      "outputs": [
        {
          "output_type": "execute_result",
          "data": {
            "text/plain": [
              "Individual_ID                                 0\n",
              "Paid_out_amount                               0\n",
              "Asset_Cost                                    0\n",
              "Loan_to_Asset_Value                           0\n",
              "Branch_ID                                     0\n",
              "Provider_ID                                   0\n",
              "Producer_ID                                   0\n",
              "Present_Code_ID                               0\n",
              "Date_of_Birth                                 0\n",
              "Type_of_Employment                         7661\n",
              "Paying _out_Date                              0\n",
              "State_of_Residence_ID                         0\n",
              "Staff_code_ID                                 0\n",
              "TelephoneNo_Flag                              0\n",
              "Address_flag                                  0\n",
              "PAN_flag                                      0\n",
              "VoterID_flag                                  0\n",
              "Driving_flag                                  0\n",
              "Passport_flag                                 0\n",
              "Bureau_Score                                  0\n",
              "Bureau_Score_Description                      0\n",
              "Number_of_loan_taken                          0\n",
              "Number_of_active_loan                         0\n",
              "Number_of _overdue_loan                       0\n",
              "Outstanding_loan_balance                      0\n",
              "Sanctioned_amount                             0\n",
              "Total_amount_disbursed                        0\n",
              "Number_of_loan_taken_indirectly               0\n",
              "Number_of_indirect_active_loan                0\n",
              "Number_of _overdue_indirect_loan              0\n",
              "Indirect_loan_outstanding_balance             0\n",
              "Sanctioned_amount_on_indirect                 0\n",
              "Total_amount_disbursed_on_indirect_loan       0\n",
              "Installment_on_direct_loan                    0\n",
              "Installment_on_indirect_loan                  0\n",
              "New_loan_taken_in_last_six_months             0\n",
              "Defaulted_loan_in_last_six_months             0\n",
              "Average_loan_period                           0\n",
              "Credit_history                                0\n",
              "Number_of_loan_enquiries                      0\n",
              "loan_default                                  0\n",
              "dtype: int64"
            ]
          },
          "metadata": {},
          "execution_count": 6
        }
      ]
    },
    {
      "cell_type": "markdown",
      "metadata": {
        "id": "RCq7VOADki58"
      },
      "source": [
        "As we can see that, Type_of_Employment has missing values so as part of our data preparation, we will first check the percentage of missing values and decide the best way to handle it."
      ]
    },
    {
      "cell_type": "code",
      "metadata": {
        "colab": {
          "base_uri": "https://localhost:8080/"
        },
        "id": "6OyK4qOllkw3",
        "outputId": "f6207bbf-a44f-4754-c2be-fdb855c84ce3"
      },
      "source": [
        "#First we examine the feature with missing values which is Type_of_Employment\n",
        "dataset['Type_of_Employment'].isnull().sum()"
      ],
      "execution_count": null,
      "outputs": [
        {
          "output_type": "execute_result",
          "data": {
            "text/plain": [
              "7661"
            ]
          },
          "metadata": {},
          "execution_count": 7
        }
      ]
    },
    {
      "cell_type": "code",
      "metadata": {
        "colab": {
          "base_uri": "https://localhost:8080/"
        },
        "id": "t-Zz1Rn26Ag0",
        "outputId": "8a783a4c-3c34-4769-830b-b999e44ee5b3"
      },
      "source": [
        "# Calculate missing percent value from whole dataset\n",
        "total_null = dataset.isnull().sum()\n",
        "percent_null = (total_null/(dataset.isnull().count())) * 100\n",
        "missing_data = pd.concat([total_null,percent_null], keys=['Total','Percent'],axis=1)\n",
        "print(missing_data)\n"
      ],
      "execution_count": null,
      "outputs": [
        {
          "output_type": "stream",
          "name": "stdout",
          "text": [
            "                                         Total   Percent\n",
            "Individual_ID                                0  0.000000\n",
            "Paid_out_amount                              0  0.000000\n",
            "Asset_Cost                                   0  0.000000\n",
            "Loan_to_Asset_Value                          0  0.000000\n",
            "Branch_ID                                    0  0.000000\n",
            "Provider_ID                                  0  0.000000\n",
            "Producer_ID                                  0  0.000000\n",
            "Present_Code_ID                              0  0.000000\n",
            "Date_of_Birth                                0  0.000000\n",
            "Type_of_Employment                        7661  3.285811\n",
            "Paying _out_Date                             0  0.000000\n",
            "State_of_Residence_ID                        0  0.000000\n",
            "Staff_code_ID                                0  0.000000\n",
            "TelephoneNo_Flag                             0  0.000000\n",
            "Address_flag                                 0  0.000000\n",
            "PAN_flag                                     0  0.000000\n",
            "VoterID_flag                                 0  0.000000\n",
            "Driving_flag                                 0  0.000000\n",
            "Passport_flag                                0  0.000000\n",
            "Bureau_Score                                 0  0.000000\n",
            "Bureau_Score_Description                     0  0.000000\n",
            "Number_of_loan_taken                         0  0.000000\n",
            "Number_of_active_loan                        0  0.000000\n",
            "Number_of _overdue_loan                      0  0.000000\n",
            "Outstanding_loan_balance                     0  0.000000\n",
            "Sanctioned_amount                            0  0.000000\n",
            "Total_amount_disbursed                       0  0.000000\n",
            "Number_of_loan_taken_indirectly              0  0.000000\n",
            "Number_of_indirect_active_loan               0  0.000000\n",
            "Number_of _overdue_indirect_loan             0  0.000000\n",
            "Indirect_loan_outstanding_balance            0  0.000000\n",
            "Sanctioned_amount_on_indirect                0  0.000000\n",
            "Total_amount_disbursed_on_indirect_loan      0  0.000000\n",
            "Installment_on_direct_loan                   0  0.000000\n",
            "Installment_on_indirect_loan                 0  0.000000\n",
            "New_loan_taken_in_last_six_months            0  0.000000\n",
            "Defaulted_loan_in_last_six_months            0  0.000000\n",
            "Average_loan_period                          0  0.000000\n",
            "Credit_history                               0  0.000000\n",
            "Number_of_loan_enquiries                     0  0.000000\n",
            "loan_default                                 0  0.000000\n"
          ]
        }
      ]
    },
    {
      "cell_type": "markdown",
      "metadata": {
        "id": "IPSU8H_SlLK0"
      },
      "source": [
        "Missing values contains only 3.9% of the data, hence we can drop it."
      ]
    },
    {
      "cell_type": "code",
      "metadata": {
        "colab": {
          "base_uri": "https://localhost:8080/"
        },
        "id": "OXr60TKPlX5n",
        "outputId": "8015640f-1fee-4a14-99dd-6bd78f12a923"
      },
      "source": [
        "dataset.dropna(inplace=True)\n",
        "total_null_1 = dataset.isnull().sum()\n",
        "percent_null_1 = (total_null_1/(dataset.isnull().count())) * 100\n",
        "missing_data_1 = pd.concat([total_null_1,percent_null_1], keys=['Total','Percent'],axis=1)\n",
        "print(missing_data_1)\n"
      ],
      "execution_count": null,
      "outputs": [
        {
          "output_type": "stream",
          "name": "stdout",
          "text": [
            "                                         Total  Percent\n",
            "Individual_ID                                0      0.0\n",
            "Paid_out_amount                              0      0.0\n",
            "Asset_Cost                                   0      0.0\n",
            "Loan_to_Asset_Value                          0      0.0\n",
            "Branch_ID                                    0      0.0\n",
            "Provider_ID                                  0      0.0\n",
            "Producer_ID                                  0      0.0\n",
            "Present_Code_ID                              0      0.0\n",
            "Date_of_Birth                                0      0.0\n",
            "Type_of_Employment                           0      0.0\n",
            "Paying _out_Date                             0      0.0\n",
            "State_of_Residence_ID                        0      0.0\n",
            "Staff_code_ID                                0      0.0\n",
            "TelephoneNo_Flag                             0      0.0\n",
            "Address_flag                                 0      0.0\n",
            "PAN_flag                                     0      0.0\n",
            "VoterID_flag                                 0      0.0\n",
            "Driving_flag                                 0      0.0\n",
            "Passport_flag                                0      0.0\n",
            "Bureau_Score                                 0      0.0\n",
            "Bureau_Score_Description                     0      0.0\n",
            "Number_of_loan_taken                         0      0.0\n",
            "Number_of_active_loan                        0      0.0\n",
            "Number_of _overdue_loan                      0      0.0\n",
            "Outstanding_loan_balance                     0      0.0\n",
            "Sanctioned_amount                            0      0.0\n",
            "Total_amount_disbursed                       0      0.0\n",
            "Number_of_loan_taken_indirectly              0      0.0\n",
            "Number_of_indirect_active_loan               0      0.0\n",
            "Number_of _overdue_indirect_loan             0      0.0\n",
            "Indirect_loan_outstanding_balance            0      0.0\n",
            "Sanctioned_amount_on_indirect                0      0.0\n",
            "Total_amount_disbursed_on_indirect_loan      0      0.0\n",
            "Installment_on_direct_loan                   0      0.0\n",
            "Installment_on_indirect_loan                 0      0.0\n",
            "New_loan_taken_in_last_six_months            0      0.0\n",
            "Defaulted_loan_in_last_six_months            0      0.0\n",
            "Average_loan_period                          0      0.0\n",
            "Credit_history                               0      0.0\n",
            "Number_of_loan_enquiries                     0      0.0\n",
            "loan_default                                 0      0.0\n"
          ]
        }
      ]
    },
    {
      "cell_type": "markdown",
      "metadata": {
        "id": "qLtmy10GmsrY"
      },
      "source": [
        "Feature selection"
      ]
    },
    {
      "cell_type": "code",
      "metadata": {
        "colab": {
          "base_uri": "https://localhost:8080/",
          "height": 1000
        },
        "id": "54_dPLU3mboe",
        "outputId": "743c46f6-e05c-448f-a3c8-69fd7aba45f5"
      },
      "source": [
        "#We plot histogram to show the distribution of our features.\n",
        "num_columns = ['Paid_out_amount','Asset_Cost','Loan_to_Asset_Value','Bureau_Score','Outstanding_loan_balance','Sanctioned_amount',\n",
        "            'Total_amount_disbursed','Installment_on_direct_loan','Number_of _overdue_indirect_loan','Sanctioned_amount_on_indirect','Installment_on_indirect_loan',\n",
        "            'Number_of _overdue_indirect_loan']\n",
        "\n",
        "for i in range(0, len(num_columns), 2):\n",
        "    plt.figure(figsize=(10,4))\n",
        "    plt.subplot(121)\n",
        "    sns.distplot(dataset[num_columns[i]], kde=False)\n",
        "    plt.subplot(122)            \n",
        "    sns.distplot(dataset[num_columns[i+1]], kde=False)\n",
        "    plt.tight_layout()\n",
        "    plt.show()"
      ],
      "execution_count": null,
      "outputs": [
        {
          "output_type": "display_data",
          "data": {
            "image/png": "[encoded data removed]",
            "text/plain": [
              "<Figure size 720x288 with 2 Axes>"
            ]
          },
          "metadata": {
            "needs_background": "light"
          }
        },
        {
          "output_type": "display_data",
          "data": {
            "image/png": "[encoded data removed]",
            "text/plain": [
              "<Figure size 720x288 with 2 Axes>"
            ]
          },
          "metadata": {
            "needs_background": "light"
          }
        },
        {
          "output_type": "display_data",
          "data": {
            "image/png": "[encoded data removed]",
            "text/plain": [
              "<Figure size 720x288 with 2 Axes>"
            ]
          },
          "metadata": {
            "needs_background": "light"
          }
        },
        {
          "output_type": "display_data",
          "data": {
            "image/png": "[encoded data removed]",
            "text/plain": [
              "<Figure size 720x288 with 2 Axes>"
            ]
          },
          "metadata": {
            "needs_background": "light"
          }
        },
        {
          "output_type": "display_data",
          "data": {
            "image/png": "[encoded data removed]",
            "text/plain": [
              "<Figure size 720x288 with 2 Axes>"
            ]
          },
          "metadata": {
            "needs_background": "light"
          }
        },
        {
          "output_type": "display_data",
          "data": {
            "image/png": "[encoded data removed]",
            "text/plain": [
              "<Figure size 720x288 with 2 Axes>"
            ]
          },
          "metadata": {
            "needs_background": "light"
          }
        }
      ]
    },
    {
      "cell_type": "code",
      "metadata": {
        "colab": {
          "base_uri": "https://localhost:8080/"
        },
        "id": "LGllfwFS6AUi",
        "outputId": "899a18b5-849b-4904-d314-ca5d6281d39b"
      },
      "source": [
        "#Seperating numerical and categorical features\n",
        "# List of columns with numerical features\n",
        "numerical_feature_columns = list(dataset._get_numeric_data().columns)\n",
        "numerical_feature_columns"
      ],
      "execution_count": null,
      "outputs": [
        {
          "output_type": "execute_result",
          "data": {
            "text/plain": [
              "['Individual_ID',\n",
              " 'Paid_out_amount',\n",
              " 'Asset_Cost',\n",
              " 'Loan_to_Asset_Value',\n",
              " 'Branch_ID',\n",
              " 'Provider_ID',\n",
              " 'Producer_ID',\n",
              " 'Present_Code_ID',\n",
              " 'State_of_Residence_ID',\n",
              " 'Staff_code_ID',\n",
              " 'TelephoneNo_Flag',\n",
              " 'Address_flag',\n",
              " 'PAN_flag',\n",
              " 'VoterID_flag',\n",
              " 'Driving_flag',\n",
              " 'Passport_flag',\n",
              " 'Bureau_Score',\n",
              " 'Number_of_loan_taken',\n",
              " 'Number_of_active_loan',\n",
              " 'Number_of _overdue_loan',\n",
              " 'Outstanding_loan_balance',\n",
              " 'Sanctioned_amount',\n",
              " 'Total_amount_disbursed',\n",
              " 'Number_of_loan_taken_indirectly',\n",
              " 'Number_of_indirect_active_loan',\n",
              " 'Number_of _overdue_indirect_loan',\n",
              " 'Indirect_loan_outstanding_balance',\n",
              " 'Sanctioned_amount_on_indirect',\n",
              " 'Total_amount_disbursed_on_indirect_loan',\n",
              " 'Installment_on_direct_loan',\n",
              " 'Installment_on_indirect_loan',\n",
              " 'New_loan_taken_in_last_six_months',\n",
              " 'Defaulted_loan_in_last_six_months',\n",
              " 'Number_of_loan_enquiries',\n",
              " 'loan_default']"
            ]
          },
          "metadata": {},
          "execution_count": 11
        }
      ]
    },
    {
      "cell_type": "code",
      "metadata": {
        "colab": {
          "base_uri": "https://localhost:8080/"
        },
        "id": "aXKaRfxL5__9",
        "outputId": "7d285cf1-35a2-47e1-d0c1-16ba999c8048"
      },
      "source": [
        "# List of columns with categorical features\n",
        "categorical_feature_columns = list(set(dataset.columns) - set(numerical_feature_columns))\n",
        "categorical_feature_columns"
      ],
      "execution_count": null,
      "outputs": [
        {
          "output_type": "execute_result",
          "data": {
            "text/plain": [
              "['Credit_history',\n",
              " 'Date_of_Birth',\n",
              " 'Paying _out_Date',\n",
              " 'Type_of_Employment',\n",
              " 'Average_loan_period',\n",
              " 'Bureau_Score_Description']"
            ]
          },
          "metadata": {},
          "execution_count": 12
        }
      ]
    },
    {
      "cell_type": "code",
      "metadata": {
        "colab": {
          "base_uri": "https://localhost:8080/",
          "height": 203
        },
        "id": "oATvFika5_p8",
        "outputId": "ef5e6d6c-9a64-4e01-87ff-c723e69f5d90"
      },
      "source": [
        "#Check categorical data\n",
        "dataset[categorical_feature_columns].head()"
      ],
      "execution_count": null,
      "outputs": [
        {
          "output_type": "execute_result",
          "data": {
            "text/html": [
              "<div>\n",
              "<style scoped>\n",
              "    .dataframe tbody tr th:only-of-type {\n",
              "        vertical-align: middle;\n",
              "    }\n",
              "\n",
              "    .dataframe tbody tr th {\n",
              "        vertical-align: top;\n",
              "    }\n",
              "\n",
              "    .dataframe thead th {\n",
              "        text-align: right;\n",
              "    }\n",
              "</style>\n",
              "<table border=\"1\" class=\"dataframe\">\n",
              "  <thead>\n",
              "    <tr style=\"text-align: right;\">\n",
              "      <th></th>\n",
              "      <th>Credit_history</th>\n",
              "      <th>Date_of_Birth</th>\n",
              "      <th>Paying _out_Date</th>\n",
              "      <th>Type_of_Employment</th>\n",
              "      <th>Average_loan_period</th>\n",
              "      <th>Bureau_Score_Description</th>\n",
              "    </tr>\n",
              "  </thead>\n",
              "  <tbody>\n",
              "    <tr>\n",
              "      <th>0</th>\n",
              "      <td>0yrs 0mon</td>\n",
              "      <td>1/1/1984</td>\n",
              "      <td>3/8/2018</td>\n",
              "      <td>Salaried</td>\n",
              "      <td>0yrs 0mon</td>\n",
              "      <td>No Bureau History Available</td>\n",
              "    </tr>\n",
              "    <tr>\n",
              "      <th>1</th>\n",
              "      <td>1yrs 11mon</td>\n",
              "      <td>31-07-85</td>\n",
              "      <td>26-09-18</td>\n",
              "      <td>Self employed</td>\n",
              "      <td>1yrs 11mon</td>\n",
              "      <td>I-Medium Risk</td>\n",
              "    </tr>\n",
              "    <tr>\n",
              "      <th>2</th>\n",
              "      <td>0yrs 0mon</td>\n",
              "      <td>24-08-85</td>\n",
              "      <td>1/8/2018</td>\n",
              "      <td>Self employed</td>\n",
              "      <td>0yrs 0mon</td>\n",
              "      <td>No Bureau History Available</td>\n",
              "    </tr>\n",
              "    <tr>\n",
              "      <th>3</th>\n",
              "      <td>1yrs 3mon</td>\n",
              "      <td>30-12-93</td>\n",
              "      <td>26-10-18</td>\n",
              "      <td>Self employed</td>\n",
              "      <td>0yrs 8mon</td>\n",
              "      <td>L-Very High Risk</td>\n",
              "    </tr>\n",
              "    <tr>\n",
              "      <th>4</th>\n",
              "      <td>0yrs 0mon</td>\n",
              "      <td>9/12/1977</td>\n",
              "      <td>26-09-18</td>\n",
              "      <td>Self employed</td>\n",
              "      <td>0yrs 0mon</td>\n",
              "      <td>No Bureau History Available</td>\n",
              "    </tr>\n",
              "  </tbody>\n",
              "</table>\n",
              "</div>"
            ],
            "text/plain": [
              "  Credit_history Date_of_Birth  ... Average_loan_period     Bureau_Score_Description\n",
              "0      0yrs 0mon      1/1/1984  ...           0yrs 0mon  No Bureau History Available\n",
              "1     1yrs 11mon      31-07-85  ...          1yrs 11mon                I-Medium Risk\n",
              "2      0yrs 0mon      24-08-85  ...           0yrs 0mon  No Bureau History Available\n",
              "3      1yrs 3mon      30-12-93  ...           0yrs 8mon             L-Very High Risk\n",
              "4      0yrs 0mon     9/12/1977  ...           0yrs 0mon  No Bureau History Available\n",
              "\n",
              "[5 rows x 6 columns]"
            ]
          },
          "metadata": {},
          "execution_count": 13
        }
      ]
    },
    {
      "cell_type": "code",
      "metadata": {
        "colab": {
          "base_uri": "https://localhost:8080/",
          "height": 203
        },
        "id": "q1EDGqU1_AyW",
        "outputId": "def1be04-a81a-415f-d5ef-79222c07a027"
      },
      "source": [
        "#Two features Average_loan_period and Average_loan_period need to convert in terms of years.\n",
        "dataset['Average_loan_period'] = dataset['Average_loan_period'].str.replace('yrs ','.',regex=False)\n",
        "dataset['Average_loan_period'] = dataset['Average_loan_period'].str.replace('mon','',regex=False).astype(float)\n",
        "dataset['Credit_history'] = dataset['Credit_history'].str.replace('yrs ','.',regex=False)\n",
        "dataset['Credit_history'] = dataset['Credit_history'].str.replace('mon','',regex=False).astype(float)\n",
        "dataset[categorical_feature_columns].head()"
      ],
      "execution_count": null,
      "outputs": [
        {
          "output_type": "execute_result",
          "data": {
            "text/html": [
              "<div>\n",
              "<style scoped>\n",
              "    .dataframe tbody tr th:only-of-type {\n",
              "        vertical-align: middle;\n",
              "    }\n",
              "\n",
              "    .dataframe tbody tr th {\n",
              "        vertical-align: top;\n",
              "    }\n",
              "\n",
              "    .dataframe thead th {\n",
              "        text-align: right;\n",
              "    }\n",
              "</style>\n",
              "<table border=\"1\" class=\"dataframe\">\n",
              "  <thead>\n",
              "    <tr style=\"text-align: right;\">\n",
              "      <th></th>\n",
              "      <th>Credit_history</th>\n",
              "      <th>Date_of_Birth</th>\n",
              "      <th>Paying _out_Date</th>\n",
              "      <th>Type_of_Employment</th>\n",
              "      <th>Average_loan_period</th>\n",
              "      <th>Bureau_Score_Description</th>\n",
              "    </tr>\n",
              "  </thead>\n",
              "  <tbody>\n",
              "    <tr>\n",
              "      <th>0</th>\n",
              "      <td>0.00</td>\n",
              "      <td>1/1/1984</td>\n",
              "      <td>3/8/2018</td>\n",
              "      <td>Salaried</td>\n",
              "      <td>0.00</td>\n",
              "      <td>No Bureau History Available</td>\n",
              "    </tr>\n",
              "    <tr>\n",
              "      <th>1</th>\n",
              "      <td>1.11</td>\n",
              "      <td>31-07-85</td>\n",
              "      <td>26-09-18</td>\n",
              "      <td>Self employed</td>\n",
              "      <td>1.11</td>\n",
              "      <td>I-Medium Risk</td>\n",
              "    </tr>\n",
              "    <tr>\n",
              "      <th>2</th>\n",
              "      <td>0.00</td>\n",
              "      <td>24-08-85</td>\n",
              "      <td>1/8/2018</td>\n",
              "      <td>Self employed</td>\n",
              "      <td>0.00</td>\n",
              "      <td>No Bureau History Available</td>\n",
              "    </tr>\n",
              "    <tr>\n",
              "      <th>3</th>\n",
              "      <td>1.30</td>\n",
              "      <td>30-12-93</td>\n",
              "      <td>26-10-18</td>\n",
              "      <td>Self employed</td>\n",
              "      <td>0.80</td>\n",
              "      <td>L-Very High Risk</td>\n",
              "    </tr>\n",
              "    <tr>\n",
              "      <th>4</th>\n",
              "      <td>0.00</td>\n",
              "      <td>9/12/1977</td>\n",
              "      <td>26-09-18</td>\n",
              "      <td>Self employed</td>\n",
              "      <td>0.00</td>\n",
              "      <td>No Bureau History Available</td>\n",
              "    </tr>\n",
              "  </tbody>\n",
              "</table>\n",
              "</div>"
            ],
            "text/plain": [
              "   Credit_history  ...     Bureau_Score_Description\n",
              "0            0.00  ...  No Bureau History Available\n",
              "1            1.11  ...                I-Medium Risk\n",
              "2            0.00  ...  No Bureau History Available\n",
              "3            1.30  ...             L-Very High Risk\n",
              "4            0.00  ...  No Bureau History Available\n",
              "\n",
              "[5 rows x 6 columns]"
            ]
          },
          "metadata": {},
          "execution_count": 14
        }
      ]
    },
    {
      "cell_type": "code",
      "metadata": {
        "colab": {
          "base_uri": "https://localhost:8080/"
        },
        "id": "-QalsML5_IH2",
        "outputId": "4730b472-fbbe-46d0-c54f-61c817092ef5"
      },
      "source": [
        "# Count the each category values from feature\n",
        "dataset['Type_of_Employment'].value_counts()"
      ],
      "execution_count": null,
      "outputs": [
        {
          "output_type": "execute_result",
          "data": {
            "text/plain": [
              "Self employed    127635\n",
              "Salaried          97858\n",
              "Name: Type_of_Employment, dtype: int64"
            ]
          },
          "metadata": {},
          "execution_count": 15
        }
      ]
    },
    {
      "cell_type": "code",
      "metadata": {
        "id": "D66DRjY3_H-S"
      },
      "source": [
        "# Encode the values in terms of 0 and 1\n",
        "dataset['Type_of_Employment'].replace({'Salaried': 0, 'Self employed': 1}, inplace=True)"
      ],
      "execution_count": null,
      "outputs": []
    },
    {
      "cell_type": "code",
      "metadata": {
        "colab": {
          "base_uri": "https://localhost:8080/"
        },
        "id": "kMcGk63b_H10",
        "outputId": "904e2efc-70a2-403c-8cba-6fcf09885709"
      },
      "source": [
        "# Dropping unecessary features\n",
        "dataset.drop(['Date_of_Birth','Bureau_Score_Description', 'Provider_ID', 'Paying _out_Date'], axis = 1, inplace=True)\n",
        "dataset.shape"
      ],
      "execution_count": null,
      "outputs": [
        {
          "output_type": "execute_result",
          "data": {
            "text/plain": [
              "(225493, 37)"
            ]
          },
          "metadata": {},
          "execution_count": 17
        }
      ]
    },
    {
      "cell_type": "code",
      "metadata": {
        "colab": {
          "base_uri": "https://localhost:8080/",
          "height": 364
        },
        "id": "au8wQr7q_Hhu",
        "outputId": "a6211f75-c7af-4661-c17e-c1240a2a40c3"
      },
      "source": [
        "#Plotting distribution of classes of target variable:\n",
        "print('Distribution of the loan_default in the dataset')\n",
        "print(dataset['loan_default'].value_counts()/len(dataset))\n",
        "\n",
        "sns.countplot('loan_default', data=dataset)\n",
        "plt.title('Distribution of Classes (Target variable)', fontsize=14)\n",
        "plt.show()"
      ],
      "execution_count": null,
      "outputs": [
        {
          "output_type": "stream",
          "name": "stdout",
          "text": [
            "Distribution of the loan_default in the dataset\n",
            "0    0.782845\n",
            "1    0.217155\n",
            "Name: loan_default, dtype: float64\n"
          ]
        },
        {
          "output_type": "display_data",
          "data": {
            "image/png": "[encoded data removed]",
            "text/plain": [
              "<Figure size 432x288 with 1 Axes>"
            ]
          },
          "metadata": {
            "needs_background": "light"
          }
        }
      ]
    },
    {
      "cell_type": "code",
      "metadata": {
        "id": "rvB5qL0R_HXq",
        "colab": {
          "base_uri": "https://localhost:8080/",
          "height": 240
        },
        "outputId": "dbaf575b-aeed-4ba5-e645-38544b721d90"
      },
      "source": [
        "#Here we clearly see the imbalance between two classes. We need to resolve class imbalance by oversampling class 1.\n",
        "# Over sampling to resolve imbalance\n",
        "dataset = dataset.sample(frac=1)\n",
        "loan_default_1 = dataset.loc[dataset['loan_default'] == 1]\n",
        "loan_default_0 = dataset.loc[dataset['loan_default'] == 0]\n",
        "\n",
        "normal_distributed_df = pd.concat([loan_default_1, loan_default_1, loan_default_1, loan_default_0])\n",
        "\n",
        "# Shuffle dataframe rows\n",
        "new_df = normal_distributed_df.sample(frac=1, random_state=42)\n",
        "new_df.head()\n",
        "\n"
      ],
      "execution_count": null,
      "outputs": [
        {
          "output_type": "execute_result",
          "data": {
            "text/html": [
              "<div>\n",
              "<style scoped>\n",
              "    .dataframe tbody tr th:only-of-type {\n",
              "        vertical-align: middle;\n",
              "    }\n",
              "\n",
              "    .dataframe tbody tr th {\n",
              "        vertical-align: top;\n",
              "    }\n",
              "\n",
              "    .dataframe thead th {\n",
              "        text-align: right;\n",
              "    }\n",
              "</style>\n",
              "<table border=\"1\" class=\"dataframe\">\n",
              "  <thead>\n",
              "    <tr style=\"text-align: right;\">\n",
              "      <th></th>\n",
              "      <th>Individual_ID</th>\n",
              "      <th>Paid_out_amount</th>\n",
              "      <th>Asset_Cost</th>\n",
              "      <th>Loan_to_Asset_Value</th>\n",
              "      <th>Branch_ID</th>\n",
              "      <th>Producer_ID</th>\n",
              "      <th>Present_Code_ID</th>\n",
              "      <th>Type_of_Employment</th>\n",
              "      <th>State_of_Residence_ID</th>\n",
              "      <th>Staff_code_ID</th>\n",
              "      <th>TelephoneNo_Flag</th>\n",
              "      <th>Address_flag</th>\n",
              "      <th>PAN_flag</th>\n",
              "      <th>VoterID_flag</th>\n",
              "      <th>Driving_flag</th>\n",
              "      <th>Passport_flag</th>\n",
              "      <th>Bureau_Score</th>\n",
              "      <th>Number_of_loan_taken</th>\n",
              "      <th>Number_of_active_loan</th>\n",
              "      <th>Number_of _overdue_loan</th>\n",
              "      <th>Outstanding_loan_balance</th>\n",
              "      <th>Sanctioned_amount</th>\n",
              "      <th>Total_amount_disbursed</th>\n",
              "      <th>Number_of_loan_taken_indirectly</th>\n",
              "      <th>Number_of_indirect_active_loan</th>\n",
              "      <th>Number_of _overdue_indirect_loan</th>\n",
              "      <th>Indirect_loan_outstanding_balance</th>\n",
              "      <th>Sanctioned_amount_on_indirect</th>\n",
              "      <th>Total_amount_disbursed_on_indirect_loan</th>\n",
              "      <th>Installment_on_direct_loan</th>\n",
              "      <th>Installment_on_indirect_loan</th>\n",
              "      <th>New_loan_taken_in_last_six_months</th>\n",
              "      <th>Defaulted_loan_in_last_six_months</th>\n",
              "      <th>Average_loan_period</th>\n",
              "      <th>Credit_history</th>\n",
              "      <th>Number_of_loan_enquiries</th>\n",
              "      <th>loan_default</th>\n",
              "    </tr>\n",
              "  </thead>\n",
              "  <tbody>\n",
              "    <tr>\n",
              "      <th>151265</th>\n",
              "      <td>583639</td>\n",
              "      <td>46349</td>\n",
              "      <td>61181</td>\n",
              "      <td>78.46</td>\n",
              "      <td>3</td>\n",
              "      <td>86</td>\n",
              "      <td>49</td>\n",
              "      <td>1</td>\n",
              "      <td>1</td>\n",
              "      <td>1980</td>\n",
              "      <td>1</td>\n",
              "      <td>1</td>\n",
              "      <td>0</td>\n",
              "      <td>0</td>\n",
              "      <td>0</td>\n",
              "      <td>0</td>\n",
              "      <td>738</td>\n",
              "      <td>1</td>\n",
              "      <td>1</td>\n",
              "      <td>0</td>\n",
              "      <td>2664</td>\n",
              "      <td>8000</td>\n",
              "      <td>8000</td>\n",
              "      <td>0</td>\n",
              "      <td>0</td>\n",
              "      <td>0</td>\n",
              "      <td>0</td>\n",
              "      <td>0</td>\n",
              "      <td>0</td>\n",
              "      <td>1334</td>\n",
              "      <td>0</td>\n",
              "      <td>1</td>\n",
              "      <td>0</td>\n",
              "      <td>0.3</td>\n",
              "      <td>0.3</td>\n",
              "      <td>0</td>\n",
              "      <td>0</td>\n",
              "    </tr>\n",
              "    <tr>\n",
              "      <th>36627</th>\n",
              "      <td>496028</td>\n",
              "      <td>49303</td>\n",
              "      <td>74501</td>\n",
              "      <td>68.46</td>\n",
              "      <td>65</td>\n",
              "      <td>45</td>\n",
              "      <td>6814</td>\n",
              "      <td>0</td>\n",
              "      <td>13</td>\n",
              "      <td>771</td>\n",
              "      <td>1</td>\n",
              "      <td>0</td>\n",
              "      <td>0</td>\n",
              "      <td>1</td>\n",
              "      <td>0</td>\n",
              "      <td>0</td>\n",
              "      <td>0</td>\n",
              "      <td>0</td>\n",
              "      <td>0</td>\n",
              "      <td>0</td>\n",
              "      <td>0</td>\n",
              "      <td>0</td>\n",
              "      <td>0</td>\n",
              "      <td>0</td>\n",
              "      <td>0</td>\n",
              "      <td>0</td>\n",
              "      <td>0</td>\n",
              "      <td>0</td>\n",
              "      <td>0</td>\n",
              "      <td>0</td>\n",
              "      <td>0</td>\n",
              "      <td>0</td>\n",
              "      <td>0</td>\n",
              "      <td>0.0</td>\n",
              "      <td>0.0</td>\n",
              "      <td>0</td>\n",
              "      <td>0</td>\n",
              "    </tr>\n",
              "    <tr>\n",
              "      <th>115789</th>\n",
              "      <td>611089</td>\n",
              "      <td>66882</td>\n",
              "      <td>78360</td>\n",
              "      <td>88.06</td>\n",
              "      <td>1</td>\n",
              "      <td>45</td>\n",
              "      <td>6102</td>\n",
              "      <td>1</td>\n",
              "      <td>3</td>\n",
              "      <td>851</td>\n",
              "      <td>1</td>\n",
              "      <td>0</td>\n",
              "      <td>0</td>\n",
              "      <td>1</td>\n",
              "      <td>0</td>\n",
              "      <td>0</td>\n",
              "      <td>631</td>\n",
              "      <td>1</td>\n",
              "      <td>1</td>\n",
              "      <td>0</td>\n",
              "      <td>15806</td>\n",
              "      <td>15000</td>\n",
              "      <td>15000</td>\n",
              "      <td>0</td>\n",
              "      <td>0</td>\n",
              "      <td>0</td>\n",
              "      <td>0</td>\n",
              "      <td>0</td>\n",
              "      <td>0</td>\n",
              "      <td>0</td>\n",
              "      <td>0</td>\n",
              "      <td>0</td>\n",
              "      <td>0</td>\n",
              "      <td>3.3</td>\n",
              "      <td>3.3</td>\n",
              "      <td>0</td>\n",
              "      <td>1</td>\n",
              "    </tr>\n",
              "    <tr>\n",
              "      <th>231172</th>\n",
              "      <td>594504</td>\n",
              "      <td>56713</td>\n",
              "      <td>69783</td>\n",
              "      <td>83.40</td>\n",
              "      <td>74</td>\n",
              "      <td>86</td>\n",
              "      <td>2610</td>\n",
              "      <td>0</td>\n",
              "      <td>4</td>\n",
              "      <td>176</td>\n",
              "      <td>1</td>\n",
              "      <td>1</td>\n",
              "      <td>0</td>\n",
              "      <td>0</td>\n",
              "      <td>0</td>\n",
              "      <td>0</td>\n",
              "      <td>681</td>\n",
              "      <td>3</td>\n",
              "      <td>2</td>\n",
              "      <td>0</td>\n",
              "      <td>15500</td>\n",
              "      <td>21926</td>\n",
              "      <td>21926</td>\n",
              "      <td>0</td>\n",
              "      <td>0</td>\n",
              "      <td>0</td>\n",
              "      <td>0</td>\n",
              "      <td>0</td>\n",
              "      <td>0</td>\n",
              "      <td>3606</td>\n",
              "      <td>0</td>\n",
              "      <td>2</td>\n",
              "      <td>0</td>\n",
              "      <td>0.3</td>\n",
              "      <td>0.6</td>\n",
              "      <td>1</td>\n",
              "      <td>1</td>\n",
              "    </tr>\n",
              "    <tr>\n",
              "      <th>144718</th>\n",
              "      <td>601472</td>\n",
              "      <td>44745</td>\n",
              "      <td>62320</td>\n",
              "      <td>74.78</td>\n",
              "      <td>10</td>\n",
              "      <td>48</td>\n",
              "      <td>5732</td>\n",
              "      <td>1</td>\n",
              "      <td>3</td>\n",
              "      <td>1831</td>\n",
              "      <td>1</td>\n",
              "      <td>1</td>\n",
              "      <td>0</td>\n",
              "      <td>0</td>\n",
              "      <td>0</td>\n",
              "      <td>0</td>\n",
              "      <td>0</td>\n",
              "      <td>0</td>\n",
              "      <td>0</td>\n",
              "      <td>0</td>\n",
              "      <td>0</td>\n",
              "      <td>0</td>\n",
              "      <td>0</td>\n",
              "      <td>0</td>\n",
              "      <td>0</td>\n",
              "      <td>0</td>\n",
              "      <td>0</td>\n",
              "      <td>0</td>\n",
              "      <td>0</td>\n",
              "      <td>0</td>\n",
              "      <td>0</td>\n",
              "      <td>0</td>\n",
              "      <td>0</td>\n",
              "      <td>0.0</td>\n",
              "      <td>0.0</td>\n",
              "      <td>0</td>\n",
              "      <td>0</td>\n",
              "    </tr>\n",
              "  </tbody>\n",
              "</table>\n",
              "</div>"
            ],
            "text/plain": [
              "        Individual_ID  Paid_out_amount  ...  Number_of_loan_enquiries  loan_default\n",
              "151265         583639            46349  ...                         0             0\n",
              "36627          496028            49303  ...                         0             0\n",
              "115789         611089            66882  ...                         0             1\n",
              "231172         594504            56713  ...                         1             1\n",
              "144718         601472            44745  ...                         0             0\n",
              "\n",
              "[5 rows x 37 columns]"
            ]
          },
          "metadata": {},
          "execution_count": 19
        }
      ]
    },
    {
      "cell_type": "code",
      "metadata": {
        "id": "kuxLQaCO_HN9",
        "colab": {
          "base_uri": "https://localhost:8080/",
          "height": 364
        },
        "outputId": "5836da68-874a-4291-d167-c6e2d57ce68e"
      },
      "source": [
        "print('Distribution of the loan_default in the dataset')\n",
        "print(new_df['loan_default'].value_counts()/len(new_df))\n",
        "\n",
        "sns.countplot('loan_default', data=new_df)\n",
        "plt.title('Distribution of Classes (Target variable)', fontsize=14)\n",
        "plt.show()"
      ],
      "execution_count": null,
      "outputs": [
        {
          "output_type": "stream",
          "name": "stdout",
          "text": [
            "Distribution of the loan_default in the dataset\n",
            "0    0.545799\n",
            "1    0.454201\n",
            "Name: loan_default, dtype: float64\n"
          ]
        },
        {
          "output_type": "display_data",
          "data": {
            "image/png": "[encoded data removed]",
            "text/plain": [
              "<Figure size 432x288 with 1 Axes>"
            ]
          },
          "metadata": {
            "needs_background": "light"
          }
        }
      ]
    },
    {
      "cell_type": "markdown",
      "metadata": {
        "id": "8E2U7gsvuPE3"
      },
      "source": [
        "Features seperation"
      ]
    },
    {
      "cell_type": "code",
      "metadata": {
        "id": "g3-k6tvt_HDQ"
      },
      "source": [
        "X = new_df.drop('loan_default', axis=1)\n",
        "y = new_df['loan_default'].copy()"
      ],
      "execution_count": null,
      "outputs": []
    },
    {
      "cell_type": "code",
      "metadata": {
        "id": "mXwY3VcP_G4j"
      },
      "source": [
        "#Split train and test data with 70:30 ratio\n",
        "X_train, X_test, y_train, y_test = train_test_split(X, y, test_size = 0.3, random_state = random_state)"
      ],
      "execution_count": null,
      "outputs": []
    },
    {
      "cell_type": "markdown",
      "metadata": {
        "id": "tmfLD_vCuhgX"
      },
      "source": [
        "Build and evaluate models\n",
        "\n",
        "Define evaluation function which calculates following metrics:\n",
        "\n",
        "    Confusion matrix\n",
        "    Accuracy score\n",
        "    Precision\n",
        "    Recall\n",
        "    F1 score\n",
        "    ROC AUC score.\n",
        "\n"
      ]
    },
    {
      "cell_type": "code",
      "metadata": {
        "id": "mX_YV7Rm_Gsw"
      },
      "source": [
        "def evaluate_model(y_test, y_pred):\n",
        "    print(\"Confusion Matrix: \\n\", metrics.confusion_matrix(y_test, y_pred))\n",
        "    print(\"Accuracy: \",metrics.accuracy_score(y_test, y_pred))\n",
        "    print(\"Precision: \",metrics.precision_score(y_test, y_pred))\n",
        "    print(\"Recall: \",metrics.recall_score(y_test, y_pred))\n",
        "    print(\"f1 score: \",metrics.f1_score(y_test, y_pred))\n",
        "    print(\"roc_auc_score: \",metrics.roc_auc_score(y_test, y_pred))"
      ],
      "execution_count": null,
      "outputs": []
    },
    {
      "cell_type": "code",
      "metadata": {
        "id": "JScHHUbvuq5q"
      },
      "source": [
        "#Scaling data before model training and testing\n",
        "# Scaling training and testing data\n",
        "scaler = StandardScaler()  \n",
        "X_train = scaler.fit_transform(X_train)\n",
        "X_test = scaler.transform(X_test)"
      ],
      "execution_count": null,
      "outputs": []
    },
    {
      "cell_type": "markdown",
      "metadata": {
        "id": "1RHZ24Hou5Bh"
      },
      "source": [
        "Logistic Regression"
      ]
    },
    {
      "cell_type": "code",
      "metadata": {
        "colab": {
          "base_uri": "https://localhost:8080/"
        },
        "id": "50QFJULruz-t",
        "outputId": "c9eb7b04-4630-4f35-ce4b-068dcc4ffe32"
      },
      "source": [
        "# Find best parameters using grid search\n",
        "params = {'C':[0.1, 0.5, 1, 5]}\n",
        "\n",
        "lr = LogisticRegression()\n",
        "grid = GridSearchCV(estimator=lr, param_grid=params)\n",
        "grid.fit(X_train, y_train)\n",
        "y_pred = grid.predict(X_test)\n",
        "evaluate_model(y_test, y_pred)"
      ],
      "execution_count": null,
      "outputs": [
        {
          "output_type": "stream",
          "name": "stdout",
          "text": [
            "Confusion Matrix: \n",
            " [[38291 14681]\n",
            " [24434 19623]]\n",
            "Accuracy:  0.5968730997949067\n",
            "Precision:  0.5720324160447762\n",
            "Recall:  0.44540027691399775\n",
            "f1 score:  0.5008358749888339\n",
            "roc_auc_score:  0.5841269299694961\n"
          ]
        }
      ]
    },
    {
      "cell_type": "code",
      "metadata": {
        "colab": {
          "base_uri": "https://localhost:8080/"
        },
        "id": "BJhU1INr4Y0h",
        "outputId": "2fdfe176-b0b3-4a7b-c69a-360237994bf5"
      },
      "source": [
        "params = {'criterion':['gini','entropy'], 'max_depth': [2,3,4,5]}\n",
        "dt = DecisionTreeClassifier()\n",
        "dt_clf = GridSearchCV(dt, params)\n",
        "dt_clf.fit(X_train, y_train)\n",
        "y_pred = dt_clf.predict(X_test)\n",
        "evaluate_model(y_test, y_pred)"
      ],
      "execution_count": null,
      "outputs": [
        {
          "output_type": "stream",
          "name": "stdout",
          "text": [
            "Confusion Matrix: \n",
            " [[36533 16439]\n",
            " [23474 20583]]\n",
            "Accuracy:  0.5886487544960785\n",
            "Precision:  0.5559667224893307\n",
            "Recall:  0.46719023083732436\n",
            "f1 score:  0.5077270316604793\n",
            "roc_auc_score:  0.5784282348024876\n"
          ]
        }
      ]
    },
    {
      "cell_type": "code",
      "metadata": {
        "colab": {
          "base_uri": "https://localhost:8080/"
        },
        "id": "4vHX1rqN46Fa",
        "outputId": "c4c882ca-d65a-4d88-9778-b4f9ff1d90c4"
      },
      "source": [
        "rf = RandomForestClassifier(n_estimators=250, random_state=random_state)\n",
        "rf.fit(X_train,y_train)\n",
        "y_pred = rf.predict(X_test)\n",
        "evaluate_model(y_test, y_pred)"
      ],
      "execution_count": null,
      "outputs": [
        {
          "output_type": "stream",
          "name": "stdout",
          "text": [
            "Confusion Matrix: \n",
            " [[47506  5466]\n",
            " [ 3057 41000]]\n",
            "Accuracy:  0.9121602819775531\n",
            "Precision:  0.8823656006542419\n",
            "Recall:  0.9306126154754069\n",
            "f1 score:  0.9058471327728865\n",
            "roc_auc_score:  0.9137130131669868\n"
          ]
        }
      ]
    }
  ]
}