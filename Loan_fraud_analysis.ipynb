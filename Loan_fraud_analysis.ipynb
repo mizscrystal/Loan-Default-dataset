{
  "nbformat": 4,
  "nbformat_minor": 0,
  "metadata": {
    "colab": {
      "provenance": [],
      "authorship_tag": "ABX9TyOxABijqApwSC85t1GJBpBE"
    },
    "kernelspec": {
      "name": "python3",
      "display_name": "Python 3"
    },
    "language_info": {
      "name": "python"
    }
  },
  "cells": [
    {
      "cell_type": "code",
      "source": [
        "import pandas as pd\n",
        "import numpy as np\n",
        "import matplotlib.pyplot as plt               #for plotting and EDA\n",
        "import seaborn as sns                         #for plotting and EDA\n",
        "from sklearn.model_selection import cross_val_score                      #for cross validating model\n",
        "import warnings\n",
        "warnings.filterwarnings('ignore')\n"
      ],
      "metadata": {
        "id": "4ly3uMH70YAL"
      },
      "execution_count": null,
      "outputs": []
    },
    {
      "cell_type": "code",
      "source": [
        "# Importing and Reading our data from csv file \n",
        "from google.colab import files\n",
        "df = files.upload()\n"
      ],
      "metadata": {
        "colab": {
          "resources": {
            "http://localhost:8080/nbextensions/google.colab/files.js": {
              "data": "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",
              "ok": true,
              "headers": [
                [
                  "content-type",
                  "application/javascript"
                ]
              ],
              "status": 200,
              "status_text": ""
            }
          },
          "base_uri": "https://localhost:8080/",
          "height": 74
        },
        "id": "QDI14LSuAghP",
        "outputId": "412d69cb-824c-448a-d41b-a79702508519"
      },
      "execution_count": null,
      "outputs": [
        {
          "output_type": "display_data",
          "data": {
            "text/plain": [
              "<IPython.core.display.HTML object>"
            ],
            "text/html": [
              "\n",
              "     <input type=\"file\" id=\"files-b71242c6-9b24-48bd-8eba-698e702229f3\" name=\"files[]\" multiple disabled\n",
              "        style=\"border:none\" />\n",
              "     <output id=\"result-b71242c6-9b24-48bd-8eba-698e702229f3\">\n",
              "      Upload widget is only available when the cell has been executed in the\n",
              "      current browser session. Please rerun this cell to enable.\n",
              "      </output>\n",
              "      <script src=\"/nbextensions/google.colab/files.js\"></script> "
            ]
          },
          "metadata": {}
        },
        {
          "output_type": "stream",
          "name": "stdout",
          "text": [
            "Saving insurance_claims.csv to insurance_claims.csv\n"
          ]
        }
      ]
    },
    {
      "cell_type": "code",
      "source": [
        "# Reading the dataset from Colab Local Repository\n",
        "df = pd.read_csv('insurance_claims.csv')\n",
        "# shape, this gives the dimensions of the dataset\n",
        "print('Dimensions of the dataset:',df.shape)\n"
      ],
      "metadata": {
        "colab": {
          "base_uri": "https://localhost:8080/"
        },
        "id": "M2ZbZiPq3grm",
        "outputId": "9de9f38f-e337-442c-bd6c-e6a8d6cf06e9"
      },
      "execution_count": null,
      "outputs": [
        {
          "output_type": "stream",
          "name": "stdout",
          "text": [
            "Dimensions of the dataset: (1000, 39)\n"
          ]
        }
      ]
    },
    {
      "cell_type": "code",
      "source": [
        "df"
      ],
      "metadata": {
        "colab": {
          "base_uri": "https://localhost:8080/",
          "height": 487
        },
        "id": "N0CQvHT0zTmf",
        "outputId": "1d9a74fb-f843-4fa7-cffa-f2033bfddeef"
      },
      "execution_count": null,
      "outputs": [
        {
          "output_type": "execute_result",
          "data": {
            "text/plain": [
              "     months_as_customer  age  policy_number policy_bind_date policy_state  \\\n",
              "0                   328   48         521585       17-10-2014           OH   \n",
              "1                   228   42         342868       27-06-2006           IN   \n",
              "2                   134   29         687698       06-09-2000           OH   \n",
              "3                   256   41         227811       25-05-1990           IL   \n",
              "4                   228   44         367455       06-06-2014           IL   \n",
              "..                  ...  ...            ...              ...          ...   \n",
              "995                   3   38         941851       16-07-1991           OH   \n",
              "996                 285   41         186934       05-01-2014           IL   \n",
              "997                 130   34         918516       17-02-2003           OH   \n",
              "998                 458   62         533940       18-11-2011           IL   \n",
              "999                 456   60         556080       11-11-1996           OH   \n",
              "\n",
              "    policy_csl  policy_deductable  policy_annual_premium  umbrella_limit  \\\n",
              "0      250/500               1000                1406.91               0   \n",
              "1      250/500               2000                1197.22         5000000   \n",
              "2      100/300               2000                1413.14         5000000   \n",
              "3      250/500               2000                1415.74         6000000   \n",
              "4     500/1000               1000                1583.91         6000000   \n",
              "..         ...                ...                    ...             ...   \n",
              "995   500/1000               1000                1310.80               0   \n",
              "996    100/300               1000                1436.79               0   \n",
              "997    250/500                500                1383.49         3000000   \n",
              "998   500/1000               2000                1356.92         5000000   \n",
              "999    250/500               1000                 766.19               0   \n",
              "\n",
              "     insured_zip  ... witnesses police_report_available total_claim_amount  \\\n",
              "0         466132  ...         2                     YES              71610   \n",
              "1         468176  ...         0                       ?               5070   \n",
              "2         430632  ...         3                      NO              34650   \n",
              "3         608117  ...         2                      NO              63400   \n",
              "4         610706  ...         1                      NO               6500   \n",
              "..           ...  ...       ...                     ...                ...   \n",
              "995       431289  ...         1                       ?              87200   \n",
              "996       608177  ...         3                       ?             108480   \n",
              "997       442797  ...         3                     YES              67500   \n",
              "998       441714  ...         1                     YES              46980   \n",
              "999       612260  ...         3                       ?               5060   \n",
              "\n",
              "    injury_claim property_claim  vehicle_claim   auto_make auto_model  \\\n",
              "0           6510          13020          52080        Saab        92x   \n",
              "1            780            780           3510    Mercedes       E400   \n",
              "2           7700           3850          23100       Dodge        RAM   \n",
              "3           6340           6340          50720   Chevrolet      Tahoe   \n",
              "4           1300            650           4550      Accura        RSX   \n",
              "..           ...            ...            ...         ...        ...   \n",
              "995        17440           8720          61040       Honda     Accord   \n",
              "996        18080          18080          72320  Volkswagen     Passat   \n",
              "997         7500           7500          52500      Suburu    Impreza   \n",
              "998         5220           5220          36540        Audi         A5   \n",
              "999          460            920           3680    Mercedes       E400   \n",
              "\n",
              "    auto_year fraud_reported  \n",
              "0        2004              Y  \n",
              "1        2007              Y  \n",
              "2        2007              N  \n",
              "3        2014              Y  \n",
              "4        2009              N  \n",
              "..        ...            ...  \n",
              "995      2006              N  \n",
              "996      2015              N  \n",
              "997      1996              N  \n",
              "998      1998              N  \n",
              "999      2007              N  \n",
              "\n",
              "[1000 rows x 39 columns]"
            ],
            "text/html": [
              "\n",
              "  <div id=\"df-1e8c7673-eda7-4b64-bfad-2908ac0d4c52\">\n",
              "    <div class=\"colab-df-container\">\n",
              "      <div>\n",
              "<style scoped>\n",
              "    .dataframe tbody tr th:only-of-type {\n",
              "        vertical-align: middle;\n",
              "    }\n",
              "\n",
              "    .dataframe tbody tr th {\n",
              "        vertical-align: top;\n",
              "    }\n",
              "\n",
              "    .dataframe thead th {\n",
              "        text-align: right;\n",
              "    }\n",
              "</style>\n",
              "<table border=\"1\" class=\"dataframe\">\n",
              "  <thead>\n",
              "    <tr style=\"text-align: right;\">\n",
              "      <th></th>\n",
              "      <th>months_as_customer</th>\n",
              "      <th>age</th>\n",
              "      <th>policy_number</th>\n",
              "      <th>policy_bind_date</th>\n",
              "      <th>policy_state</th>\n",
              "      <th>policy_csl</th>\n",
              "      <th>policy_deductable</th>\n",
              "      <th>policy_annual_premium</th>\n",
              "      <th>umbrella_limit</th>\n",
              "      <th>insured_zip</th>\n",
              "      <th>...</th>\n",
              "      <th>witnesses</th>\n",
              "      <th>police_report_available</th>\n",
              "      <th>total_claim_amount</th>\n",
              "      <th>injury_claim</th>\n",
              "      <th>property_claim</th>\n",
              "      <th>vehicle_claim</th>\n",
              "      <th>auto_make</th>\n",
              "      <th>auto_model</th>\n",
              "      <th>auto_year</th>\n",
              "      <th>fraud_reported</th>\n",
              "    </tr>\n",
              "  </thead>\n",
              "  <tbody>\n",
              "    <tr>\n",
              "      <th>0</th>\n",
              "      <td>328</td>\n",
              "      <td>48</td>\n",
              "      <td>521585</td>\n",
              "      <td>17-10-2014</td>\n",
              "      <td>OH</td>\n",
              "      <td>250/500</td>\n",
              "      <td>1000</td>\n",
              "      <td>1406.91</td>\n",
              "      <td>0</td>\n",
              "      <td>466132</td>\n",
              "      <td>...</td>\n",
              "      <td>2</td>\n",
              "      <td>YES</td>\n",
              "      <td>71610</td>\n",
              "      <td>6510</td>\n",
              "      <td>13020</td>\n",
              "      <td>52080</td>\n",
              "      <td>Saab</td>\n",
              "      <td>92x</td>\n",
              "      <td>2004</td>\n",
              "      <td>Y</td>\n",
              "    </tr>\n",
              "    <tr>\n",
              "      <th>1</th>\n",
              "      <td>228</td>\n",
              "      <td>42</td>\n",
              "      <td>342868</td>\n",
              "      <td>27-06-2006</td>\n",
              "      <td>IN</td>\n",
              "      <td>250/500</td>\n",
              "      <td>2000</td>\n",
              "      <td>1197.22</td>\n",
              "      <td>5000000</td>\n",
              "      <td>468176</td>\n",
              "      <td>...</td>\n",
              "      <td>0</td>\n",
              "      <td>?</td>\n",
              "      <td>5070</td>\n",
              "      <td>780</td>\n",
              "      <td>780</td>\n",
              "      <td>3510</td>\n",
              "      <td>Mercedes</td>\n",
              "      <td>E400</td>\n",
              "      <td>2007</td>\n",
              "      <td>Y</td>\n",
              "    </tr>\n",
              "    <tr>\n",
              "      <th>2</th>\n",
              "      <td>134</td>\n",
              "      <td>29</td>\n",
              "      <td>687698</td>\n",
              "      <td>06-09-2000</td>\n",
              "      <td>OH</td>\n",
              "      <td>100/300</td>\n",
              "      <td>2000</td>\n",
              "      <td>1413.14</td>\n",
              "      <td>5000000</td>\n",
              "      <td>430632</td>\n",
              "      <td>...</td>\n",
              "      <td>3</td>\n",
              "      <td>NO</td>\n",
              "      <td>34650</td>\n",
              "      <td>7700</td>\n",
              "      <td>3850</td>\n",
              "      <td>23100</td>\n",
              "      <td>Dodge</td>\n",
              "      <td>RAM</td>\n",
              "      <td>2007</td>\n",
              "      <td>N</td>\n",
              "    </tr>\n",
              "    <tr>\n",
              "      <th>3</th>\n",
              "      <td>256</td>\n",
              "      <td>41</td>\n",
              "      <td>227811</td>\n",
              "      <td>25-05-1990</td>\n",
              "      <td>IL</td>\n",
              "      <td>250/500</td>\n",
              "      <td>2000</td>\n",
              "      <td>1415.74</td>\n",
              "      <td>6000000</td>\n",
              "      <td>608117</td>\n",
              "      <td>...</td>\n",
              "      <td>2</td>\n",
              "      <td>NO</td>\n",
              "      <td>63400</td>\n",
              "      <td>6340</td>\n",
              "      <td>6340</td>\n",
              "      <td>50720</td>\n",
              "      <td>Chevrolet</td>\n",
              "      <td>Tahoe</td>\n",
              "      <td>2014</td>\n",
              "      <td>Y</td>\n",
              "    </tr>\n",
              "    <tr>\n",
              "      <th>4</th>\n",
              "      <td>228</td>\n",
              "      <td>44</td>\n",
              "      <td>367455</td>\n",
              "      <td>06-06-2014</td>\n",
              "      <td>IL</td>\n",
              "      <td>500/1000</td>\n",
              "      <td>1000</td>\n",
              "      <td>1583.91</td>\n",
              "      <td>6000000</td>\n",
              "      <td>610706</td>\n",
              "      <td>...</td>\n",
              "      <td>1</td>\n",
              "      <td>NO</td>\n",
              "      <td>6500</td>\n",
              "      <td>1300</td>\n",
              "      <td>650</td>\n",
              "      <td>4550</td>\n",
              "      <td>Accura</td>\n",
              "      <td>RSX</td>\n",
              "      <td>2009</td>\n",
              "      <td>N</td>\n",
              "    </tr>\n",
              "    <tr>\n",
              "      <th>...</th>\n",
              "      <td>...</td>\n",
              "      <td>...</td>\n",
              "      <td>...</td>\n",
              "      <td>...</td>\n",
              "      <td>...</td>\n",
              "      <td>...</td>\n",
              "      <td>...</td>\n",
              "      <td>...</td>\n",
              "      <td>...</td>\n",
              "      <td>...</td>\n",
              "      <td>...</td>\n",
              "      <td>...</td>\n",
              "      <td>...</td>\n",
              "      <td>...</td>\n",
              "      <td>...</td>\n",
              "      <td>...</td>\n",
              "      <td>...</td>\n",
              "      <td>...</td>\n",
              "      <td>...</td>\n",
              "      <td>...</td>\n",
              "      <td>...</td>\n",
              "    </tr>\n",
              "    <tr>\n",
              "      <th>995</th>\n",
              "      <td>3</td>\n",
              "      <td>38</td>\n",
              "      <td>941851</td>\n",
              "      <td>16-07-1991</td>\n",
              "      <td>OH</td>\n",
              "      <td>500/1000</td>\n",
              "      <td>1000</td>\n",
              "      <td>1310.80</td>\n",
              "      <td>0</td>\n",
              "      <td>431289</td>\n",
              "      <td>...</td>\n",
              "      <td>1</td>\n",
              "      <td>?</td>\n",
              "      <td>87200</td>\n",
              "      <td>17440</td>\n",
              "      <td>8720</td>\n",
              "      <td>61040</td>\n",
              "      <td>Honda</td>\n",
              "      <td>Accord</td>\n",
              "      <td>2006</td>\n",
              "      <td>N</td>\n",
              "    </tr>\n",
              "    <tr>\n",
              "      <th>996</th>\n",
              "      <td>285</td>\n",
              "      <td>41</td>\n",
              "      <td>186934</td>\n",
              "      <td>05-01-2014</td>\n",
              "      <td>IL</td>\n",
              "      <td>100/300</td>\n",
              "      <td>1000</td>\n",
              "      <td>1436.79</td>\n",
              "      <td>0</td>\n",
              "      <td>608177</td>\n",
              "      <td>...</td>\n",
              "      <td>3</td>\n",
              "      <td>?</td>\n",
              "      <td>108480</td>\n",
              "      <td>18080</td>\n",
              "      <td>18080</td>\n",
              "      <td>72320</td>\n",
              "      <td>Volkswagen</td>\n",
              "      <td>Passat</td>\n",
              "      <td>2015</td>\n",
              "      <td>N</td>\n",
              "    </tr>\n",
              "    <tr>\n",
              "      <th>997</th>\n",
              "      <td>130</td>\n",
              "      <td>34</td>\n",
              "      <td>918516</td>\n",
              "      <td>17-02-2003</td>\n",
              "      <td>OH</td>\n",
              "      <td>250/500</td>\n",
              "      <td>500</td>\n",
              "      <td>1383.49</td>\n",
              "      <td>3000000</td>\n",
              "      <td>442797</td>\n",
              "      <td>...</td>\n",
              "      <td>3</td>\n",
              "      <td>YES</td>\n",
              "      <td>67500</td>\n",
              "      <td>7500</td>\n",
              "      <td>7500</td>\n",
              "      <td>52500</td>\n",
              "      <td>Suburu</td>\n",
              "      <td>Impreza</td>\n",
              "      <td>1996</td>\n",
              "      <td>N</td>\n",
              "    </tr>\n",
              "    <tr>\n",
              "      <th>998</th>\n",
              "      <td>458</td>\n",
              "      <td>62</td>\n",
              "      <td>533940</td>\n",
              "      <td>18-11-2011</td>\n",
              "      <td>IL</td>\n",
              "      <td>500/1000</td>\n",
              "      <td>2000</td>\n",
              "      <td>1356.92</td>\n",
              "      <td>5000000</td>\n",
              "      <td>441714</td>\n",
              "      <td>...</td>\n",
              "      <td>1</td>\n",
              "      <td>YES</td>\n",
              "      <td>46980</td>\n",
              "      <td>5220</td>\n",
              "      <td>5220</td>\n",
              "      <td>36540</td>\n",
              "      <td>Audi</td>\n",
              "      <td>A5</td>\n",
              "      <td>1998</td>\n",
              "      <td>N</td>\n",
              "    </tr>\n",
              "    <tr>\n",
              "      <th>999</th>\n",
              "      <td>456</td>\n",
              "      <td>60</td>\n",
              "      <td>556080</td>\n",
              "      <td>11-11-1996</td>\n",
              "      <td>OH</td>\n",
              "      <td>250/500</td>\n",
              "      <td>1000</td>\n",
              "      <td>766.19</td>\n",
              "      <td>0</td>\n",
              "      <td>612260</td>\n",
              "      <td>...</td>\n",
              "      <td>3</td>\n",
              "      <td>?</td>\n",
              "      <td>5060</td>\n",
              "      <td>460</td>\n",
              "      <td>920</td>\n",
              "      <td>3680</td>\n",
              "      <td>Mercedes</td>\n",
              "      <td>E400</td>\n",
              "      <td>2007</td>\n",
              "      <td>N</td>\n",
              "    </tr>\n",
              "  </tbody>\n",
              "</table>\n",
              "<p>1000 rows × 39 columns</p>\n",
              "</div>\n",
              "      <button class=\"colab-df-convert\" onclick=\"convertToInteractive('df-1e8c7673-eda7-4b64-bfad-2908ac0d4c52')\"\n",
              "              title=\"Convert this dataframe to an interactive table.\"\n",
              "              style=\"display:none;\">\n",
              "        \n",
              "  <svg xmlns=\"http://www.w3.org/2000/svg\" height=\"24px\"viewBox=\"0 0 24 24\"\n",
              "       width=\"24px\">\n",
              "    <path d=\"M0 0h24v24H0V0z\" fill=\"none\"/>\n",
              "    <path d=\"M18.56 5.44l.94 2.06.94-2.06 2.06-.94-2.06-.94-.94-2.06-.94 2.06-2.06.94zm-11 1L8.5 8.5l.94-2.06 2.06-.94-2.06-.94L8.5 2.5l-.94 2.06-2.06.94zm10 10l.94 2.06.94-2.06 2.06-.94-2.06-.94-.94-2.06-.94 2.06-2.06.94z\"/><path d=\"M17.41 7.96l-1.37-1.37c-.4-.4-.92-.59-1.43-.59-.52 0-1.04.2-1.43.59L10.3 9.45l-7.72 7.72c-.78.78-.78 2.05 0 2.83L4 21.41c.39.39.9.59 1.41.59.51 0 1.02-.2 1.41-.59l7.78-7.78 2.81-2.81c.8-.78.8-2.07 0-2.86zM5.41 20L4 18.59l7.72-7.72 1.47 1.35L5.41 20z\"/>\n",
              "  </svg>\n",
              "      </button>\n",
              "      \n",
              "  <style>\n",
              "    .colab-df-container {\n",
              "      display:flex;\n",
              "      flex-wrap:wrap;\n",
              "      gap: 12px;\n",
              "    }\n",
              "\n",
              "    .colab-df-convert {\n",
              "      background-color: #E8F0FE;\n",
              "      border: none;\n",
              "      border-radius: 50%;\n",
              "      cursor: pointer;\n",
              "      display: none;\n",
              "      fill: #1967D2;\n",
              "      height: 32px;\n",
              "      padding: 0 0 0 0;\n",
              "      width: 32px;\n",
              "    }\n",
              "\n",
              "    .colab-df-convert:hover {\n",
              "      background-color: #E2EBFA;\n",
              "      box-shadow: 0px 1px 2px rgba(60, 64, 67, 0.3), 0px 1px 3px 1px rgba(60, 64, 67, 0.15);\n",
              "      fill: #174EA6;\n",
              "    }\n",
              "\n",
              "    [theme=dark] .colab-df-convert {\n",
              "      background-color: #3B4455;\n",
              "      fill: #D2E3FC;\n",
              "    }\n",
              "\n",
              "    [theme=dark] .colab-df-convert:hover {\n",
              "      background-color: #434B5C;\n",
              "      box-shadow: 0px 1px 3px 1px rgba(0, 0, 0, 0.15);\n",
              "      filter: drop-shadow(0px 1px 2px rgba(0, 0, 0, 0.3));\n",
              "      fill: #FFFFFF;\n",
              "    }\n",
              "  </style>\n",
              "\n",
              "      <script>\n",
              "        const buttonEl =\n",
              "          document.querySelector('#df-1e8c7673-eda7-4b64-bfad-2908ac0d4c52 button.colab-df-convert');\n",
              "        buttonEl.style.display =\n",
              "          google.colab.kernel.accessAllowed ? 'block' : 'none';\n",
              "\n",
              "        async function convertToInteractive(key) {\n",
              "          const element = document.querySelector('#df-1e8c7673-eda7-4b64-bfad-2908ac0d4c52');\n",
              "          const dataTable =\n",
              "            await google.colab.kernel.invokeFunction('convertToInteractive',\n",
              "                                                     [key], {});\n",
              "          if (!dataTable) return;\n",
              "\n",
              "          const docLinkHtml = 'Like what you see? Visit the ' +\n",
              "            '<a target=\"_blank\" href=https://colab.research.google.com/notebooks/data_table.ipynb>data table notebook</a>'\n",
              "            + ' to learn more about interactive tables.';\n",
              "          element.innerHTML = '';\n",
              "          dataTable['output_type'] = 'display_data';\n",
              "          await google.colab.output.renderOutput(dataTable, element);\n",
              "          const docLink = document.createElement('div');\n",
              "          docLink.innerHTML = docLinkHtml;\n",
              "          element.appendChild(docLink);\n",
              "        }\n",
              "      </script>\n",
              "    </div>\n",
              "  </div>\n",
              "  "
            ]
          },
          "metadata": {},
          "execution_count": 4
        }
      ]
    },
    {
      "cell_type": "markdown",
      "source": [
        "Exploratory Data Analysis (EDA):"
      ],
      "metadata": {
        "id": "GqkmgbA4MXB_"
      }
    },
    {
      "cell_type": "code",
      "source": [
        "# Checking all column names\n",
        "df.columns"
      ],
      "metadata": {
        "id": "hkq2MI33Mcqc",
        "colab": {
          "base_uri": "https://localhost:8080/"
        },
        "outputId": "75a56b96-6273-4822-9a5c-1843161b8af5"
      },
      "execution_count": null,
      "outputs": [
        {
          "output_type": "execute_result",
          "data": {
            "text/plain": [
              "Index(['months_as_customer', 'age', 'policy_number', 'policy_bind_date',\n",
              "       'policy_state', 'policy_csl', 'policy_deductable',\n",
              "       'policy_annual_premium', 'umbrella_limit', 'insured_zip', 'insured_sex',\n",
              "       'insured_education_level', 'insured_occupation', 'insured_hobbies',\n",
              "       'insured_relationship', 'capital-gains', 'capital-loss',\n",
              "       'incident_date', 'incident_type', 'collision_type', 'incident_severity',\n",
              "       'authorities_contacted', 'incident_state', 'incident_city',\n",
              "       'incident_location', 'incident_hour_of_the_day',\n",
              "       'number_of_vehicles_involved', 'property_damage', 'bodily_injuries',\n",
              "       'witnesses', 'police_report_available', 'total_claim_amount',\n",
              "       'injury_claim', 'property_claim', 'vehicle_claim', 'auto_make',\n",
              "       'auto_model', 'auto_year', 'fraud_reported'],\n",
              "      dtype='object')"
            ]
          },
          "metadata": {},
          "execution_count": 5
        }
      ]
    },
    {
      "cell_type": "code",
      "source": [
        "# Checking the data types of all columns\n",
        "df.dtypes"
      ],
      "metadata": {
        "id": "wjQC-i8CMi-_",
        "colab": {
          "base_uri": "https://localhost:8080/"
        },
        "outputId": "590dfa26-0a32-4112-a6e1-7781daf10d4c"
      },
      "execution_count": null,
      "outputs": [
        {
          "output_type": "execute_result",
          "data": {
            "text/plain": [
              "months_as_customer               int64\n",
              "age                              int64\n",
              "policy_number                    int64\n",
              "policy_bind_date                object\n",
              "policy_state                    object\n",
              "policy_csl                      object\n",
              "policy_deductable                int64\n",
              "policy_annual_premium          float64\n",
              "umbrella_limit                   int64\n",
              "insured_zip                      int64\n",
              "insured_sex                     object\n",
              "insured_education_level         object\n",
              "insured_occupation              object\n",
              "insured_hobbies                 object\n",
              "insured_relationship            object\n",
              "capital-gains                    int64\n",
              "capital-loss                     int64\n",
              "incident_date                   object\n",
              "incident_type                   object\n",
              "collision_type                  object\n",
              "incident_severity               object\n",
              "authorities_contacted           object\n",
              "incident_state                  object\n",
              "incident_city                   object\n",
              "incident_location               object\n",
              "incident_hour_of_the_day         int64\n",
              "number_of_vehicles_involved      int64\n",
              "property_damage                 object\n",
              "bodily_injuries                  int64\n",
              "witnesses                        int64\n",
              "police_report_available         object\n",
              "total_claim_amount               int64\n",
              "injury_claim                     int64\n",
              "property_claim                   int64\n",
              "vehicle_claim                    int64\n",
              "auto_make                       object\n",
              "auto_model                      object\n",
              "auto_year                        int64\n",
              "fraud_reported                  object\n",
              "dtype: object"
            ]
          },
          "metadata": {},
          "execution_count": 6
        }
      ]
    },
    {
      "cell_type": "code",
      "source": [
        "# Checking the info about dataset\n",
        "df.info()"
      ],
      "metadata": {
        "id": "xWmSWODpVdgA",
        "colab": {
          "base_uri": "https://localhost:8080/"
        },
        "outputId": "2355823b-071b-4868-f6ce-dd94b153fb2c"
      },
      "execution_count": null,
      "outputs": [
        {
          "output_type": "stream",
          "name": "stdout",
          "text": [
            "<class 'pandas.core.frame.DataFrame'>\n",
            "RangeIndex: 1000 entries, 0 to 999\n",
            "Data columns (total 39 columns):\n",
            " #   Column                       Non-Null Count  Dtype  \n",
            "---  ------                       --------------  -----  \n",
            " 0   months_as_customer           1000 non-null   int64  \n",
            " 1   age                          1000 non-null   int64  \n",
            " 2   policy_number                1000 non-null   int64  \n",
            " 3   policy_bind_date             1000 non-null   object \n",
            " 4   policy_state                 1000 non-null   object \n",
            " 5   policy_csl                   1000 non-null   object \n",
            " 6   policy_deductable            1000 non-null   int64  \n",
            " 7   policy_annual_premium        1000 non-null   float64\n",
            " 8   umbrella_limit               1000 non-null   int64  \n",
            " 9   insured_zip                  1000 non-null   int64  \n",
            " 10  insured_sex                  1000 non-null   object \n",
            " 11  insured_education_level      1000 non-null   object \n",
            " 12  insured_occupation           1000 non-null   object \n",
            " 13  insured_hobbies              1000 non-null   object \n",
            " 14  insured_relationship         1000 non-null   object \n",
            " 15  capital-gains                1000 non-null   int64  \n",
            " 16  capital-loss                 1000 non-null   int64  \n",
            " 17  incident_date                1000 non-null   object \n",
            " 18  incident_type                1000 non-null   object \n",
            " 19  collision_type               1000 non-null   object \n",
            " 20  incident_severity            1000 non-null   object \n",
            " 21  authorities_contacted        1000 non-null   object \n",
            " 22  incident_state               1000 non-null   object \n",
            " 23  incident_city                1000 non-null   object \n",
            " 24  incident_location            1000 non-null   object \n",
            " 25  incident_hour_of_the_day     1000 non-null   int64  \n",
            " 26  number_of_vehicles_involved  1000 non-null   int64  \n",
            " 27  property_damage              1000 non-null   object \n",
            " 28  bodily_injuries              1000 non-null   int64  \n",
            " 29  witnesses                    1000 non-null   int64  \n",
            " 30  police_report_available      1000 non-null   object \n",
            " 31  total_claim_amount           1000 non-null   int64  \n",
            " 32  injury_claim                 1000 non-null   int64  \n",
            " 33  property_claim               1000 non-null   int64  \n",
            " 34  vehicle_claim                1000 non-null   int64  \n",
            " 35  auto_make                    1000 non-null   object \n",
            " 36  auto_model                   1000 non-null   object \n",
            " 37  auto_year                    1000 non-null   int64  \n",
            " 38  fraud_reported               1000 non-null   object \n",
            "dtypes: float64(1), int64(17), object(21)\n",
            "memory usage: 304.8+ KB\n"
          ]
        }
      ]
    },
    {
      "cell_type": "code",
      "source": [
        "# Printing all the data type and their unique values\n",
        "for column in df.columns:\n",
        "    if df[column].dtype==object:\n",
        "        print(df[column].value_counts())\n",
        "        print('****************************************************')"
      ],
      "metadata": {
        "id": "Xw3-K9-4NAWF",
        "colab": {
          "base_uri": "https://localhost:8080/"
        },
        "outputId": "961164f6-6744-40b2-fde2-4031669ee96f"
      },
      "execution_count": null,
      "outputs": [
        {
          "output_type": "stream",
          "name": "stdout",
          "text": [
            "01-01-2006    3\n",
            "28-04-1992    3\n",
            "05-08-1992    3\n",
            "14-12-1991    2\n",
            "09-08-2004    2\n",
            "             ..\n",
            "03-06-2014    1\n",
            "12-12-1998    1\n",
            "18-02-1999    1\n",
            "30-10-1997    1\n",
            "11-11-1996    1\n",
            "Name: policy_bind_date, Length: 951, dtype: int64\n",
            "****************************************************\n",
            "OH    352\n",
            "IL    338\n",
            "IN    310\n",
            "Name: policy_state, dtype: int64\n",
            "****************************************************\n",
            "250/500     351\n",
            "100/300     349\n",
            "500/1000    300\n",
            "Name: policy_csl, dtype: int64\n",
            "****************************************************\n",
            "FEMALE    537\n",
            "MALE      463\n",
            "Name: insured_sex, dtype: int64\n",
            "****************************************************\n",
            "JD             161\n",
            "High School    160\n",
            "Associate      145\n",
            "MD             144\n",
            "Masters        143\n",
            "PhD            125\n",
            "College        122\n",
            "Name: insured_education_level, dtype: int64\n",
            "****************************************************\n",
            "machine-op-inspct    93\n",
            "prof-specialty       85\n",
            "tech-support         78\n",
            "sales                76\n",
            "exec-managerial      76\n",
            "craft-repair         74\n",
            "transport-moving     72\n",
            "other-service        71\n",
            "priv-house-serv      71\n",
            "armed-forces         69\n",
            "adm-clerical         65\n",
            "protective-serv      63\n",
            "handlers-cleaners    54\n",
            "farming-fishing      53\n",
            "Name: insured_occupation, dtype: int64\n",
            "****************************************************\n",
            "reading           64\n",
            "exercise          57\n",
            "paintball         57\n",
            "bungie-jumping    56\n",
            "movies            55\n",
            "golf              55\n",
            "camping           55\n",
            "kayaking          54\n",
            "yachting          53\n",
            "hiking            52\n",
            "video-games       50\n",
            "skydiving         49\n",
            "base-jumping      49\n",
            "board-games       48\n",
            "polo              47\n",
            "chess             46\n",
            "dancing           43\n",
            "sleeping          41\n",
            "cross-fit         35\n",
            "basketball        34\n",
            "Name: insured_hobbies, dtype: int64\n",
            "****************************************************\n",
            "own-child         183\n",
            "other-relative    177\n",
            "not-in-family     174\n",
            "husband           170\n",
            "wife              155\n",
            "unmarried         141\n",
            "Name: insured_relationship, dtype: int64\n",
            "****************************************************\n",
            "02-02-2015    28\n",
            "17-02-2015    26\n",
            "07-01-2015    25\n",
            "10-01-2015    24\n",
            "04-02-2015    24\n",
            "24-01-2015    24\n",
            "19-01-2015    23\n",
            "08-01-2015    22\n",
            "13-01-2015    21\n",
            "30-01-2015    21\n",
            "12-02-2015    20\n",
            "22-02-2015    20\n",
            "31-01-2015    20\n",
            "06-02-2015    20\n",
            "21-02-2015    19\n",
            "01-01-2015    19\n",
            "23-02-2015    19\n",
            "12-01-2015    19\n",
            "14-01-2015    19\n",
            "21-01-2015    19\n",
            "03-01-2015    18\n",
            "14-02-2015    18\n",
            "01-02-2015    18\n",
            "28-02-2015    18\n",
            "20-01-2015    18\n",
            "18-01-2015    18\n",
            "25-02-2015    18\n",
            "06-01-2015    17\n",
            "09-01-2015    17\n",
            "08-02-2015    17\n",
            "24-02-2015    17\n",
            "26-02-2015    17\n",
            "13-02-2015    16\n",
            "15-02-2015    16\n",
            "16-02-2015    16\n",
            "05-02-2015    16\n",
            "16-01-2015    16\n",
            "17-01-2015    15\n",
            "18-02-2015    15\n",
            "28-01-2015    15\n",
            "15-01-2015    15\n",
            "22-01-2015    14\n",
            "20-02-2015    14\n",
            "27-02-2015    14\n",
            "23-01-2015    13\n",
            "03-02-2015    13\n",
            "27-01-2015    13\n",
            "09-02-2015    13\n",
            "04-01-2015    12\n",
            "01-03-2015    12\n",
            "26-01-2015    11\n",
            "29-01-2015    11\n",
            "02-01-2015    11\n",
            "19-02-2015    10\n",
            "11-02-2015    10\n",
            "10-02-2015    10\n",
            "07-02-2015    10\n",
            "25-01-2015    10\n",
            "11-01-2015     9\n",
            "05-01-2015     7\n",
            "Name: incident_date, dtype: int64\n",
            "****************************************************\n",
            "Multi-vehicle Collision     419\n",
            "Single Vehicle Collision    403\n",
            "Vehicle Theft                94\n",
            "Parked Car                   84\n",
            "Name: incident_type, dtype: int64\n",
            "****************************************************\n",
            "Rear Collision     292\n",
            "Side Collision     276\n",
            "Front Collision    254\n",
            "?                  178\n",
            "Name: collision_type, dtype: int64\n",
            "****************************************************\n",
            "Minor Damage      354\n",
            "Total Loss        280\n",
            "Major Damage      276\n",
            "Trivial Damage     90\n",
            "Name: incident_severity, dtype: int64\n",
            "****************************************************\n",
            "Police       292\n",
            "Fire         223\n",
            "Other        198\n",
            "Ambulance    196\n",
            "None          91\n",
            "Name: authorities_contacted, dtype: int64\n",
            "****************************************************\n",
            "NY    262\n",
            "SC    248\n",
            "WV    217\n",
            "VA    110\n",
            "NC    110\n",
            "PA     30\n",
            "OH     23\n",
            "Name: incident_state, dtype: int64\n",
            "****************************************************\n",
            "Springfield    157\n",
            "Arlington      152\n",
            "Columbus       149\n",
            "Northbend      145\n",
            "Hillsdale      141\n",
            "Riverwood      134\n",
            "Northbrook     122\n",
            "Name: incident_city, dtype: int64\n",
            "****************************************************\n",
            "9935 4th Drive         1\n",
            "4214 MLK Ridge         1\n",
            "8548 Cherokee Ridge    1\n",
            "2352 MLK Drive         1\n",
            "9734 2nd Ridge         1\n",
            "                      ..\n",
            "6770 1st St            1\n",
            "4119 Texas St          1\n",
            "4347 2nd Ridge         1\n",
            "1091 1st Drive         1\n",
            "1416 Cherokee Ridge    1\n",
            "Name: incident_location, Length: 1000, dtype: int64\n",
            "****************************************************\n",
            "?      360\n",
            "NO     338\n",
            "YES    302\n",
            "Name: property_damage, dtype: int64\n",
            "****************************************************\n",
            "?      343\n",
            "NO     343\n",
            "YES    314\n",
            "Name: police_report_available, dtype: int64\n",
            "****************************************************\n",
            "Saab          80\n",
            "Dodge         80\n",
            "Suburu        80\n",
            "Nissan        78\n",
            "Chevrolet     76\n",
            "Ford          72\n",
            "BMW           72\n",
            "Toyota        70\n",
            "Audi          69\n",
            "Accura        68\n",
            "Volkswagen    68\n",
            "Jeep          67\n",
            "Mercedes      65\n",
            "Honda         55\n",
            "Name: auto_make, dtype: int64\n",
            "****************************************************\n",
            "RAM               43\n",
            "Wrangler          42\n",
            "A3                37\n",
            "Neon              37\n",
            "MDX               36\n",
            "Jetta             35\n",
            "Passat            33\n",
            "A5                32\n",
            "Legacy            32\n",
            "Pathfinder        31\n",
            "Malibu            30\n",
            "92x               28\n",
            "Camry             28\n",
            "Forrestor         28\n",
            "F150              27\n",
            "95                27\n",
            "E400              27\n",
            "93                25\n",
            "Grand Cherokee    25\n",
            "Escape            24\n",
            "Tahoe             24\n",
            "Maxima            24\n",
            "Ultima            23\n",
            "X5                23\n",
            "Highlander        22\n",
            "Civic             22\n",
            "Silverado         22\n",
            "Fusion            21\n",
            "ML350             20\n",
            "Impreza           20\n",
            "Corolla           20\n",
            "TL                20\n",
            "CRV               20\n",
            "C300              18\n",
            "3 Series          18\n",
            "X6                16\n",
            "M5                15\n",
            "Accord            13\n",
            "RSX               12\n",
            "Name: auto_model, dtype: int64\n",
            "****************************************************\n",
            "N    753\n",
            "Y    247\n",
            "Name: fraud_reported, dtype: int64\n",
            "****************************************************\n"
          ]
        }
      ]
    },
    {
      "cell_type": "code",
      "source": [
        "# Replacing '?' with No info\n",
        "df=df.replace('?','No Info')"
      ],
      "metadata": {
        "id": "nW_vn_1_NBnG"
      },
      "execution_count": null,
      "outputs": []
    },
    {
      "cell_type": "code",
      "source": [
        "# Printing all data type and their unique values\n",
        "for column in df.columns:\n",
        "    if df[column].dtype==object:\n",
        "        print(df[column].value_counts())\n",
        "        print('**************************************')"
      ],
      "metadata": {
        "id": "GWaiImDyNIHV",
        "colab": {
          "base_uri": "https://localhost:8080/"
        },
        "outputId": "b343902d-8512-475b-9e51-894ac41fc54c"
      },
      "execution_count": null,
      "outputs": [
        {
          "output_type": "stream",
          "name": "stdout",
          "text": [
            "01-01-2006    3\n",
            "28-04-1992    3\n",
            "05-08-1992    3\n",
            "14-12-1991    2\n",
            "09-08-2004    2\n",
            "             ..\n",
            "03-06-2014    1\n",
            "12-12-1998    1\n",
            "18-02-1999    1\n",
            "30-10-1997    1\n",
            "11-11-1996    1\n",
            "Name: policy_bind_date, Length: 951, dtype: int64\n",
            "**************************************\n",
            "OH    352\n",
            "IL    338\n",
            "IN    310\n",
            "Name: policy_state, dtype: int64\n",
            "**************************************\n",
            "250/500     351\n",
            "100/300     349\n",
            "500/1000    300\n",
            "Name: policy_csl, dtype: int64\n",
            "**************************************\n",
            "FEMALE    537\n",
            "MALE      463\n",
            "Name: insured_sex, dtype: int64\n",
            "**************************************\n",
            "JD             161\n",
            "High School    160\n",
            "Associate      145\n",
            "MD             144\n",
            "Masters        143\n",
            "PhD            125\n",
            "College        122\n",
            "Name: insured_education_level, dtype: int64\n",
            "**************************************\n",
            "machine-op-inspct    93\n",
            "prof-specialty       85\n",
            "tech-support         78\n",
            "sales                76\n",
            "exec-managerial      76\n",
            "craft-repair         74\n",
            "transport-moving     72\n",
            "other-service        71\n",
            "priv-house-serv      71\n",
            "armed-forces         69\n",
            "adm-clerical         65\n",
            "protective-serv      63\n",
            "handlers-cleaners    54\n",
            "farming-fishing      53\n",
            "Name: insured_occupation, dtype: int64\n",
            "**************************************\n",
            "reading           64\n",
            "exercise          57\n",
            "paintball         57\n",
            "bungie-jumping    56\n",
            "movies            55\n",
            "golf              55\n",
            "camping           55\n",
            "kayaking          54\n",
            "yachting          53\n",
            "hiking            52\n",
            "video-games       50\n",
            "skydiving         49\n",
            "base-jumping      49\n",
            "board-games       48\n",
            "polo              47\n",
            "chess             46\n",
            "dancing           43\n",
            "sleeping          41\n",
            "cross-fit         35\n",
            "basketball        34\n",
            "Name: insured_hobbies, dtype: int64\n",
            "**************************************\n",
            "own-child         183\n",
            "other-relative    177\n",
            "not-in-family     174\n",
            "husband           170\n",
            "wife              155\n",
            "unmarried         141\n",
            "Name: insured_relationship, dtype: int64\n",
            "**************************************\n",
            "02-02-2015    28\n",
            "17-02-2015    26\n",
            "07-01-2015    25\n",
            "10-01-2015    24\n",
            "04-02-2015    24\n",
            "24-01-2015    24\n",
            "19-01-2015    23\n",
            "08-01-2015    22\n",
            "13-01-2015    21\n",
            "30-01-2015    21\n",
            "12-02-2015    20\n",
            "22-02-2015    20\n",
            "31-01-2015    20\n",
            "06-02-2015    20\n",
            "21-02-2015    19\n",
            "01-01-2015    19\n",
            "23-02-2015    19\n",
            "12-01-2015    19\n",
            "14-01-2015    19\n",
            "21-01-2015    19\n",
            "03-01-2015    18\n",
            "14-02-2015    18\n",
            "01-02-2015    18\n",
            "28-02-2015    18\n",
            "20-01-2015    18\n",
            "18-01-2015    18\n",
            "25-02-2015    18\n",
            "06-01-2015    17\n",
            "09-01-2015    17\n",
            "08-02-2015    17\n",
            "24-02-2015    17\n",
            "26-02-2015    17\n",
            "13-02-2015    16\n",
            "15-02-2015    16\n",
            "16-02-2015    16\n",
            "05-02-2015    16\n",
            "16-01-2015    16\n",
            "17-01-2015    15\n",
            "18-02-2015    15\n",
            "28-01-2015    15\n",
            "15-01-2015    15\n",
            "22-01-2015    14\n",
            "20-02-2015    14\n",
            "27-02-2015    14\n",
            "23-01-2015    13\n",
            "03-02-2015    13\n",
            "27-01-2015    13\n",
            "09-02-2015    13\n",
            "04-01-2015    12\n",
            "01-03-2015    12\n",
            "26-01-2015    11\n",
            "29-01-2015    11\n",
            "02-01-2015    11\n",
            "19-02-2015    10\n",
            "11-02-2015    10\n",
            "10-02-2015    10\n",
            "07-02-2015    10\n",
            "25-01-2015    10\n",
            "11-01-2015     9\n",
            "05-01-2015     7\n",
            "Name: incident_date, dtype: int64\n",
            "**************************************\n",
            "Multi-vehicle Collision     419\n",
            "Single Vehicle Collision    403\n",
            "Vehicle Theft                94\n",
            "Parked Car                   84\n",
            "Name: incident_type, dtype: int64\n",
            "**************************************\n",
            "Rear Collision     292\n",
            "Side Collision     276\n",
            "Front Collision    254\n",
            "No Info            178\n",
            "Name: collision_type, dtype: int64\n",
            "**************************************\n",
            "Minor Damage      354\n",
            "Total Loss        280\n",
            "Major Damage      276\n",
            "Trivial Damage     90\n",
            "Name: incident_severity, dtype: int64\n",
            "**************************************\n",
            "Police       292\n",
            "Fire         223\n",
            "Other        198\n",
            "Ambulance    196\n",
            "None          91\n",
            "Name: authorities_contacted, dtype: int64\n",
            "**************************************\n",
            "NY    262\n",
            "SC    248\n",
            "WV    217\n",
            "VA    110\n",
            "NC    110\n",
            "PA     30\n",
            "OH     23\n",
            "Name: incident_state, dtype: int64\n",
            "**************************************\n",
            "Springfield    157\n",
            "Arlington      152\n",
            "Columbus       149\n",
            "Northbend      145\n",
            "Hillsdale      141\n",
            "Riverwood      134\n",
            "Northbrook     122\n",
            "Name: incident_city, dtype: int64\n",
            "**************************************\n",
            "9935 4th Drive         1\n",
            "4214 MLK Ridge         1\n",
            "8548 Cherokee Ridge    1\n",
            "2352 MLK Drive         1\n",
            "9734 2nd Ridge         1\n",
            "                      ..\n",
            "6770 1st St            1\n",
            "4119 Texas St          1\n",
            "4347 2nd Ridge         1\n",
            "1091 1st Drive         1\n",
            "1416 Cherokee Ridge    1\n",
            "Name: incident_location, Length: 1000, dtype: int64\n",
            "**************************************\n",
            "No Info    360\n",
            "NO         338\n",
            "YES        302\n",
            "Name: property_damage, dtype: int64\n",
            "**************************************\n",
            "No Info    343\n",
            "NO         343\n",
            "YES        314\n",
            "Name: police_report_available, dtype: int64\n",
            "**************************************\n",
            "Saab          80\n",
            "Dodge         80\n",
            "Suburu        80\n",
            "Nissan        78\n",
            "Chevrolet     76\n",
            "Ford          72\n",
            "BMW           72\n",
            "Toyota        70\n",
            "Audi          69\n",
            "Accura        68\n",
            "Volkswagen    68\n",
            "Jeep          67\n",
            "Mercedes      65\n",
            "Honda         55\n",
            "Name: auto_make, dtype: int64\n",
            "**************************************\n",
            "RAM               43\n",
            "Wrangler          42\n",
            "A3                37\n",
            "Neon              37\n",
            "MDX               36\n",
            "Jetta             35\n",
            "Passat            33\n",
            "A5                32\n",
            "Legacy            32\n",
            "Pathfinder        31\n",
            "Malibu            30\n",
            "92x               28\n",
            "Camry             28\n",
            "Forrestor         28\n",
            "F150              27\n",
            "95                27\n",
            "E400              27\n",
            "93                25\n",
            "Grand Cherokee    25\n",
            "Escape            24\n",
            "Tahoe             24\n",
            "Maxima            24\n",
            "Ultima            23\n",
            "X5                23\n",
            "Highlander        22\n",
            "Civic             22\n",
            "Silverado         22\n",
            "Fusion            21\n",
            "ML350             20\n",
            "Impreza           20\n",
            "Corolla           20\n",
            "TL                20\n",
            "CRV               20\n",
            "C300              18\n",
            "3 Series          18\n",
            "X6                16\n",
            "M5                15\n",
            "Accord            13\n",
            "RSX               12\n",
            "Name: auto_model, dtype: int64\n",
            "**************************************\n",
            "N    753\n",
            "Y    247\n",
            "Name: fraud_reported, dtype: int64\n",
            "**************************************\n"
          ]
        }
      ]
    },
    {
      "cell_type": "code",
      "source": [
        "df.describe()"
      ],
      "metadata": {
        "id": "d3tNC7LQNMkV",
        "colab": {
          "base_uri": "https://localhost:8080/",
          "height": 382
        },
        "outputId": "5a798a2a-906a-48d3-c86b-70f9fe78ad2b"
      },
      "execution_count": null,
      "outputs": [
        {
          "output_type": "execute_result",
          "data": {
            "text/plain": [
              "       months_as_customer          age  policy_number  policy_deductable  \\\n",
              "count         1000.000000  1000.000000    1000.000000        1000.000000   \n",
              "mean           203.954000    38.948000  546238.648000        1136.000000   \n",
              "std            115.113174     9.140287  257063.005276         611.864673   \n",
              "min              0.000000    19.000000  100804.000000         500.000000   \n",
              "25%            115.750000    32.000000  335980.250000         500.000000   \n",
              "50%            199.500000    38.000000  533135.000000        1000.000000   \n",
              "75%            276.250000    44.000000  759099.750000        2000.000000   \n",
              "max            479.000000    64.000000  999435.000000        2000.000000   \n",
              "\n",
              "       policy_annual_premium  umbrella_limit    insured_zip  capital-gains  \\\n",
              "count            1000.000000    1.000000e+03    1000.000000    1000.000000   \n",
              "mean             1256.406150    1.101000e+06  501214.488000   25126.100000   \n",
              "std               244.167395    2.297407e+06   71701.610941   27872.187708   \n",
              "min               433.330000   -1.000000e+06  430104.000000       0.000000   \n",
              "25%              1089.607500    0.000000e+00  448404.500000       0.000000   \n",
              "50%              1257.200000    0.000000e+00  466445.500000       0.000000   \n",
              "75%              1415.695000    0.000000e+00  603251.000000   51025.000000   \n",
              "max              2047.590000    1.000000e+07  620962.000000  100500.000000   \n",
              "\n",
              "        capital-loss  incident_hour_of_the_day  number_of_vehicles_involved  \\\n",
              "count    1000.000000               1000.000000                   1000.00000   \n",
              "mean   -26793.700000                 11.644000                      1.83900   \n",
              "std     28104.096686                  6.951373                      1.01888   \n",
              "min   -111100.000000                  0.000000                      1.00000   \n",
              "25%    -51500.000000                  6.000000                      1.00000   \n",
              "50%    -23250.000000                 12.000000                      1.00000   \n",
              "75%         0.000000                 17.000000                      3.00000   \n",
              "max         0.000000                 23.000000                      4.00000   \n",
              "\n",
              "       bodily_injuries    witnesses  total_claim_amount  injury_claim  \\\n",
              "count      1000.000000  1000.000000          1000.00000   1000.000000   \n",
              "mean          0.992000     1.487000         52761.94000   7433.420000   \n",
              "std           0.820127     1.111335         26401.53319   4880.951853   \n",
              "min           0.000000     0.000000           100.00000      0.000000   \n",
              "25%           0.000000     1.000000         41812.50000   4295.000000   \n",
              "50%           1.000000     1.000000         58055.00000   6775.000000   \n",
              "75%           2.000000     2.000000         70592.50000  11305.000000   \n",
              "max           2.000000     3.000000        114920.00000  21450.000000   \n",
              "\n",
              "       property_claim  vehicle_claim    auto_year  \n",
              "count     1000.000000    1000.000000  1000.000000  \n",
              "mean      7399.570000   37928.950000  2005.103000  \n",
              "std       4824.726179   18886.252893     6.015861  \n",
              "min          0.000000      70.000000  1995.000000  \n",
              "25%       4445.000000   30292.500000  2000.000000  \n",
              "50%       6750.000000   42100.000000  2005.000000  \n",
              "75%      10885.000000   50822.500000  2010.000000  \n",
              "max      23670.000000   79560.000000  2015.000000  "
            ],
            "text/html": [
              "\n",
              "  <div id=\"df-043b3662-e50c-4172-97fa-6f7a77dafa7a\">\n",
              "    <div class=\"colab-df-container\">\n",
              "      <div>\n",
              "<style scoped>\n",
              "    .dataframe tbody tr th:only-of-type {\n",
              "        vertical-align: middle;\n",
              "    }\n",
              "\n",
              "    .dataframe tbody tr th {\n",
              "        vertical-align: top;\n",
              "    }\n",
              "\n",
              "    .dataframe thead th {\n",
              "        text-align: right;\n",
              "    }\n",
              "</style>\n",
              "<table border=\"1\" class=\"dataframe\">\n",
              "  <thead>\n",
              "    <tr style=\"text-align: right;\">\n",
              "      <th></th>\n",
              "      <th>months_as_customer</th>\n",
              "      <th>age</th>\n",
              "      <th>policy_number</th>\n",
              "      <th>policy_deductable</th>\n",
              "      <th>policy_annual_premium</th>\n",
              "      <th>umbrella_limit</th>\n",
              "      <th>insured_zip</th>\n",
              "      <th>capital-gains</th>\n",
              "      <th>capital-loss</th>\n",
              "      <th>incident_hour_of_the_day</th>\n",
              "      <th>number_of_vehicles_involved</th>\n",
              "      <th>bodily_injuries</th>\n",
              "      <th>witnesses</th>\n",
              "      <th>total_claim_amount</th>\n",
              "      <th>injury_claim</th>\n",
              "      <th>property_claim</th>\n",
              "      <th>vehicle_claim</th>\n",
              "      <th>auto_year</th>\n",
              "    </tr>\n",
              "  </thead>\n",
              "  <tbody>\n",
              "    <tr>\n",
              "      <th>count</th>\n",
              "      <td>1000.000000</td>\n",
              "      <td>1000.000000</td>\n",
              "      <td>1000.000000</td>\n",
              "      <td>1000.000000</td>\n",
              "      <td>1000.000000</td>\n",
              "      <td>1.000000e+03</td>\n",
              "      <td>1000.000000</td>\n",
              "      <td>1000.000000</td>\n",
              "      <td>1000.000000</td>\n",
              "      <td>1000.000000</td>\n",
              "      <td>1000.00000</td>\n",
              "      <td>1000.000000</td>\n",
              "      <td>1000.000000</td>\n",
              "      <td>1000.00000</td>\n",
              "      <td>1000.000000</td>\n",
              "      <td>1000.000000</td>\n",
              "      <td>1000.000000</td>\n",
              "      <td>1000.000000</td>\n",
              "    </tr>\n",
              "    <tr>\n",
              "      <th>mean</th>\n",
              "      <td>203.954000</td>\n",
              "      <td>38.948000</td>\n",
              "      <td>546238.648000</td>\n",
              "      <td>1136.000000</td>\n",
              "      <td>1256.406150</td>\n",
              "      <td>1.101000e+06</td>\n",
              "      <td>501214.488000</td>\n",
              "      <td>25126.100000</td>\n",
              "      <td>-26793.700000</td>\n",
              "      <td>11.644000</td>\n",
              "      <td>1.83900</td>\n",
              "      <td>0.992000</td>\n",
              "      <td>1.487000</td>\n",
              "      <td>52761.94000</td>\n",
              "      <td>7433.420000</td>\n",
              "      <td>7399.570000</td>\n",
              "      <td>37928.950000</td>\n",
              "      <td>2005.103000</td>\n",
              "    </tr>\n",
              "    <tr>\n",
              "      <th>std</th>\n",
              "      <td>115.113174</td>\n",
              "      <td>9.140287</td>\n",
              "      <td>257063.005276</td>\n",
              "      <td>611.864673</td>\n",
              "      <td>244.167395</td>\n",
              "      <td>2.297407e+06</td>\n",
              "      <td>71701.610941</td>\n",
              "      <td>27872.187708</td>\n",
              "      <td>28104.096686</td>\n",
              "      <td>6.951373</td>\n",
              "      <td>1.01888</td>\n",
              "      <td>0.820127</td>\n",
              "      <td>1.111335</td>\n",
              "      <td>26401.53319</td>\n",
              "      <td>4880.951853</td>\n",
              "      <td>4824.726179</td>\n",
              "      <td>18886.252893</td>\n",
              "      <td>6.015861</td>\n",
              "    </tr>\n",
              "    <tr>\n",
              "      <th>min</th>\n",
              "      <td>0.000000</td>\n",
              "      <td>19.000000</td>\n",
              "      <td>100804.000000</td>\n",
              "      <td>500.000000</td>\n",
              "      <td>433.330000</td>\n",
              "      <td>-1.000000e+06</td>\n",
              "      <td>430104.000000</td>\n",
              "      <td>0.000000</td>\n",
              "      <td>-111100.000000</td>\n",
              "      <td>0.000000</td>\n",
              "      <td>1.00000</td>\n",
              "      <td>0.000000</td>\n",
              "      <td>0.000000</td>\n",
              "      <td>100.00000</td>\n",
              "      <td>0.000000</td>\n",
              "      <td>0.000000</td>\n",
              "      <td>70.000000</td>\n",
              "      <td>1995.000000</td>\n",
              "    </tr>\n",
              "    <tr>\n",
              "      <th>25%</th>\n",
              "      <td>115.750000</td>\n",
              "      <td>32.000000</td>\n",
              "      <td>335980.250000</td>\n",
              "      <td>500.000000</td>\n",
              "      <td>1089.607500</td>\n",
              "      <td>0.000000e+00</td>\n",
              "      <td>448404.500000</td>\n",
              "      <td>0.000000</td>\n",
              "      <td>-51500.000000</td>\n",
              "      <td>6.000000</td>\n",
              "      <td>1.00000</td>\n",
              "      <td>0.000000</td>\n",
              "      <td>1.000000</td>\n",
              "      <td>41812.50000</td>\n",
              "      <td>4295.000000</td>\n",
              "      <td>4445.000000</td>\n",
              "      <td>30292.500000</td>\n",
              "      <td>2000.000000</td>\n",
              "    </tr>\n",
              "    <tr>\n",
              "      <th>50%</th>\n",
              "      <td>199.500000</td>\n",
              "      <td>38.000000</td>\n",
              "      <td>533135.000000</td>\n",
              "      <td>1000.000000</td>\n",
              "      <td>1257.200000</td>\n",
              "      <td>0.000000e+00</td>\n",
              "      <td>466445.500000</td>\n",
              "      <td>0.000000</td>\n",
              "      <td>-23250.000000</td>\n",
              "      <td>12.000000</td>\n",
              "      <td>1.00000</td>\n",
              "      <td>1.000000</td>\n",
              "      <td>1.000000</td>\n",
              "      <td>58055.00000</td>\n",
              "      <td>6775.000000</td>\n",
              "      <td>6750.000000</td>\n",
              "      <td>42100.000000</td>\n",
              "      <td>2005.000000</td>\n",
              "    </tr>\n",
              "    <tr>\n",
              "      <th>75%</th>\n",
              "      <td>276.250000</td>\n",
              "      <td>44.000000</td>\n",
              "      <td>759099.750000</td>\n",
              "      <td>2000.000000</td>\n",
              "      <td>1415.695000</td>\n",
              "      <td>0.000000e+00</td>\n",
              "      <td>603251.000000</td>\n",
              "      <td>51025.000000</td>\n",
              "      <td>0.000000</td>\n",
              "      <td>17.000000</td>\n",
              "      <td>3.00000</td>\n",
              "      <td>2.000000</td>\n",
              "      <td>2.000000</td>\n",
              "      <td>70592.50000</td>\n",
              "      <td>11305.000000</td>\n",
              "      <td>10885.000000</td>\n",
              "      <td>50822.500000</td>\n",
              "      <td>2010.000000</td>\n",
              "    </tr>\n",
              "    <tr>\n",
              "      <th>max</th>\n",
              "      <td>479.000000</td>\n",
              "      <td>64.000000</td>\n",
              "      <td>999435.000000</td>\n",
              "      <td>2000.000000</td>\n",
              "      <td>2047.590000</td>\n",
              "      <td>1.000000e+07</td>\n",
              "      <td>620962.000000</td>\n",
              "      <td>100500.000000</td>\n",
              "      <td>0.000000</td>\n",
              "      <td>23.000000</td>\n",
              "      <td>4.00000</td>\n",
              "      <td>2.000000</td>\n",
              "      <td>3.000000</td>\n",
              "      <td>114920.00000</td>\n",
              "      <td>21450.000000</td>\n",
              "      <td>23670.000000</td>\n",
              "      <td>79560.000000</td>\n",
              "      <td>2015.000000</td>\n",
              "    </tr>\n",
              "  </tbody>\n",
              "</table>\n",
              "</div>\n",
              "      <button class=\"colab-df-convert\" onclick=\"convertToInteractive('df-043b3662-e50c-4172-97fa-6f7a77dafa7a')\"\n",
              "              title=\"Convert this dataframe to an interactive table.\"\n",
              "              style=\"display:none;\">\n",
              "        \n",
              "  <svg xmlns=\"http://www.w3.org/2000/svg\" height=\"24px\"viewBox=\"0 0 24 24\"\n",
              "       width=\"24px\">\n",
              "    <path d=\"M0 0h24v24H0V0z\" fill=\"none\"/>\n",
              "    <path d=\"M18.56 5.44l.94 2.06.94-2.06 2.06-.94-2.06-.94-.94-2.06-.94 2.06-2.06.94zm-11 1L8.5 8.5l.94-2.06 2.06-.94-2.06-.94L8.5 2.5l-.94 2.06-2.06.94zm10 10l.94 2.06.94-2.06 2.06-.94-2.06-.94-.94-2.06-.94 2.06-2.06.94z\"/><path d=\"M17.41 7.96l-1.37-1.37c-.4-.4-.92-.59-1.43-.59-.52 0-1.04.2-1.43.59L10.3 9.45l-7.72 7.72c-.78.78-.78 2.05 0 2.83L4 21.41c.39.39.9.59 1.41.59.51 0 1.02-.2 1.41-.59l7.78-7.78 2.81-2.81c.8-.78.8-2.07 0-2.86zM5.41 20L4 18.59l7.72-7.72 1.47 1.35L5.41 20z\"/>\n",
              "  </svg>\n",
              "      </button>\n",
              "      \n",
              "  <style>\n",
              "    .colab-df-container {\n",
              "      display:flex;\n",
              "      flex-wrap:wrap;\n",
              "      gap: 12px;\n",
              "    }\n",
              "\n",
              "    .colab-df-convert {\n",
              "      background-color: #E8F0FE;\n",
              "      border: none;\n",
              "      border-radius: 50%;\n",
              "      cursor: pointer;\n",
              "      display: none;\n",
              "      fill: #1967D2;\n",
              "      height: 32px;\n",
              "      padding: 0 0 0 0;\n",
              "      width: 32px;\n",
              "    }\n",
              "\n",
              "    .colab-df-convert:hover {\n",
              "      background-color: #E2EBFA;\n",
              "      box-shadow: 0px 1px 2px rgba(60, 64, 67, 0.3), 0px 1px 3px 1px rgba(60, 64, 67, 0.15);\n",
              "      fill: #174EA6;\n",
              "    }\n",
              "\n",
              "    [theme=dark] .colab-df-convert {\n",
              "      background-color: #3B4455;\n",
              "      fill: #D2E3FC;\n",
              "    }\n",
              "\n",
              "    [theme=dark] .colab-df-convert:hover {\n",
              "      background-color: #434B5C;\n",
              "      box-shadow: 0px 1px 3px 1px rgba(0, 0, 0, 0.15);\n",
              "      filter: drop-shadow(0px 1px 2px rgba(0, 0, 0, 0.3));\n",
              "      fill: #FFFFFF;\n",
              "    }\n",
              "  </style>\n",
              "\n",
              "      <script>\n",
              "        const buttonEl =\n",
              "          document.querySelector('#df-043b3662-e50c-4172-97fa-6f7a77dafa7a button.colab-df-convert');\n",
              "        buttonEl.style.display =\n",
              "          google.colab.kernel.accessAllowed ? 'block' : 'none';\n",
              "\n",
              "        async function convertToInteractive(key) {\n",
              "          const element = document.querySelector('#df-043b3662-e50c-4172-97fa-6f7a77dafa7a');\n",
              "          const dataTable =\n",
              "            await google.colab.kernel.invokeFunction('convertToInteractive',\n",
              "                                                     [key], {});\n",
              "          if (!dataTable) return;\n",
              "\n",
              "          const docLinkHtml = 'Like what you see? Visit the ' +\n",
              "            '<a target=\"_blank\" href=https://colab.research.google.com/notebooks/data_table.ipynb>data table notebook</a>'\n",
              "            + ' to learn more about interactive tables.';\n",
              "          element.innerHTML = '';\n",
              "          dataTable['output_type'] = 'display_data';\n",
              "          await google.colab.output.renderOutput(dataTable, element);\n",
              "          const docLink = document.createElement('div');\n",
              "          docLink.innerHTML = docLinkHtml;\n",
              "          element.appendChild(docLink);\n",
              "        }\n",
              "      </script>\n",
              "    </div>\n",
              "  </div>\n",
              "  "
            ]
          },
          "metadata": {},
          "execution_count": 11
        }
      ]
    },
    {
      "cell_type": "code",
      "source": [
        "df['umbrella_limit'].value_counts()"
      ],
      "metadata": {
        "id": "bjG0k9XPNv_9",
        "colab": {
          "base_uri": "https://localhost:8080/"
        },
        "outputId": "553a58dd-a7ec-4960-eac3-275fea9835e8"
      },
      "execution_count": null,
      "outputs": [
        {
          "output_type": "execute_result",
          "data": {
            "text/plain": [
              " 0           798\n",
              " 6000000      57\n",
              " 5000000      46\n",
              " 4000000      39\n",
              " 7000000      29\n",
              " 3000000      12\n",
              " 8000000       8\n",
              " 9000000       5\n",
              " 2000000       3\n",
              " 10000000      2\n",
              "-1000000       1\n",
              "Name: umbrella_limit, dtype: int64"
            ]
          },
          "metadata": {},
          "execution_count": 12
        }
      ]
    },
    {
      "cell_type": "code",
      "source": [
        "df.loc[df['umbrella_limit']==-1000000]"
      ],
      "metadata": {
        "id": "xRGi0oDwNz49",
        "colab": {
          "base_uri": "https://localhost:8080/",
          "height": 174
        },
        "outputId": "b8443725-ff4e-46e1-fffc-6e6006234b89"
      },
      "execution_count": null,
      "outputs": [
        {
          "output_type": "execute_result",
          "data": {
            "text/plain": [
              "     months_as_customer  age  policy_number policy_bind_date policy_state  \\\n",
              "290                 284   42         526039       04-05-1995           OH   \n",
              "\n",
              "    policy_csl  policy_deductable  policy_annual_premium  umbrella_limit  \\\n",
              "290    100/300                500                1338.54        -1000000   \n",
              "\n",
              "     insured_zip  ... witnesses police_report_available total_claim_amount  \\\n",
              "290       438178  ...         1                 No Info              94160   \n",
              "\n",
              "    injury_claim property_claim  vehicle_claim  auto_make auto_model  \\\n",
              "290         8560          17120          68480  Chevrolet     Malibu   \n",
              "\n",
              "    auto_year fraud_reported  \n",
              "290      1996              N  \n",
              "\n",
              "[1 rows x 39 columns]"
            ],
            "text/html": [
              "\n",
              "  <div id=\"df-4a1db5f9-ead8-4826-855e-927c1d895194\">\n",
              "    <div class=\"colab-df-container\">\n",
              "      <div>\n",
              "<style scoped>\n",
              "    .dataframe tbody tr th:only-of-type {\n",
              "        vertical-align: middle;\n",
              "    }\n",
              "\n",
              "    .dataframe tbody tr th {\n",
              "        vertical-align: top;\n",
              "    }\n",
              "\n",
              "    .dataframe thead th {\n",
              "        text-align: right;\n",
              "    }\n",
              "</style>\n",
              "<table border=\"1\" class=\"dataframe\">\n",
              "  <thead>\n",
              "    <tr style=\"text-align: right;\">\n",
              "      <th></th>\n",
              "      <th>months_as_customer</th>\n",
              "      <th>age</th>\n",
              "      <th>policy_number</th>\n",
              "      <th>policy_bind_date</th>\n",
              "      <th>policy_state</th>\n",
              "      <th>policy_csl</th>\n",
              "      <th>policy_deductable</th>\n",
              "      <th>policy_annual_premium</th>\n",
              "      <th>umbrella_limit</th>\n",
              "      <th>insured_zip</th>\n",
              "      <th>...</th>\n",
              "      <th>witnesses</th>\n",
              "      <th>police_report_available</th>\n",
              "      <th>total_claim_amount</th>\n",
              "      <th>injury_claim</th>\n",
              "      <th>property_claim</th>\n",
              "      <th>vehicle_claim</th>\n",
              "      <th>auto_make</th>\n",
              "      <th>auto_model</th>\n",
              "      <th>auto_year</th>\n",
              "      <th>fraud_reported</th>\n",
              "    </tr>\n",
              "  </thead>\n",
              "  <tbody>\n",
              "    <tr>\n",
              "      <th>290</th>\n",
              "      <td>284</td>\n",
              "      <td>42</td>\n",
              "      <td>526039</td>\n",
              "      <td>04-05-1995</td>\n",
              "      <td>OH</td>\n",
              "      <td>100/300</td>\n",
              "      <td>500</td>\n",
              "      <td>1338.54</td>\n",
              "      <td>-1000000</td>\n",
              "      <td>438178</td>\n",
              "      <td>...</td>\n",
              "      <td>1</td>\n",
              "      <td>No Info</td>\n",
              "      <td>94160</td>\n",
              "      <td>8560</td>\n",
              "      <td>17120</td>\n",
              "      <td>68480</td>\n",
              "      <td>Chevrolet</td>\n",
              "      <td>Malibu</td>\n",
              "      <td>1996</td>\n",
              "      <td>N</td>\n",
              "    </tr>\n",
              "  </tbody>\n",
              "</table>\n",
              "<p>1 rows × 39 columns</p>\n",
              "</div>\n",
              "      <button class=\"colab-df-convert\" onclick=\"convertToInteractive('df-4a1db5f9-ead8-4826-855e-927c1d895194')\"\n",
              "              title=\"Convert this dataframe to an interactive table.\"\n",
              "              style=\"display:none;\">\n",
              "        \n",
              "  <svg xmlns=\"http://www.w3.org/2000/svg\" height=\"24px\"viewBox=\"0 0 24 24\"\n",
              "       width=\"24px\">\n",
              "    <path d=\"M0 0h24v24H0V0z\" fill=\"none\"/>\n",
              "    <path d=\"M18.56 5.44l.94 2.06.94-2.06 2.06-.94-2.06-.94-.94-2.06-.94 2.06-2.06.94zm-11 1L8.5 8.5l.94-2.06 2.06-.94-2.06-.94L8.5 2.5l-.94 2.06-2.06.94zm10 10l.94 2.06.94-2.06 2.06-.94-2.06-.94-.94-2.06-.94 2.06-2.06.94z\"/><path d=\"M17.41 7.96l-1.37-1.37c-.4-.4-.92-.59-1.43-.59-.52 0-1.04.2-1.43.59L10.3 9.45l-7.72 7.72c-.78.78-.78 2.05 0 2.83L4 21.41c.39.39.9.59 1.41.59.51 0 1.02-.2 1.41-.59l7.78-7.78 2.81-2.81c.8-.78.8-2.07 0-2.86zM5.41 20L4 18.59l7.72-7.72 1.47 1.35L5.41 20z\"/>\n",
              "  </svg>\n",
              "      </button>\n",
              "      \n",
              "  <style>\n",
              "    .colab-df-container {\n",
              "      display:flex;\n",
              "      flex-wrap:wrap;\n",
              "      gap: 12px;\n",
              "    }\n",
              "\n",
              "    .colab-df-convert {\n",
              "      background-color: #E8F0FE;\n",
              "      border: none;\n",
              "      border-radius: 50%;\n",
              "      cursor: pointer;\n",
              "      display: none;\n",
              "      fill: #1967D2;\n",
              "      height: 32px;\n",
              "      padding: 0 0 0 0;\n",
              "      width: 32px;\n",
              "    }\n",
              "\n",
              "    .colab-df-convert:hover {\n",
              "      background-color: #E2EBFA;\n",
              "      box-shadow: 0px 1px 2px rgba(60, 64, 67, 0.3), 0px 1px 3px 1px rgba(60, 64, 67, 0.15);\n",
              "      fill: #174EA6;\n",
              "    }\n",
              "\n",
              "    [theme=dark] .colab-df-convert {\n",
              "      background-color: #3B4455;\n",
              "      fill: #D2E3FC;\n",
              "    }\n",
              "\n",
              "    [theme=dark] .colab-df-convert:hover {\n",
              "      background-color: #434B5C;\n",
              "      box-shadow: 0px 1px 3px 1px rgba(0, 0, 0, 0.15);\n",
              "      filter: drop-shadow(0px 1px 2px rgba(0, 0, 0, 0.3));\n",
              "      fill: #FFFFFF;\n",
              "    }\n",
              "  </style>\n",
              "\n",
              "      <script>\n",
              "        const buttonEl =\n",
              "          document.querySelector('#df-4a1db5f9-ead8-4826-855e-927c1d895194 button.colab-df-convert');\n",
              "        buttonEl.style.display =\n",
              "          google.colab.kernel.accessAllowed ? 'block' : 'none';\n",
              "\n",
              "        async function convertToInteractive(key) {\n",
              "          const element = document.querySelector('#df-4a1db5f9-ead8-4826-855e-927c1d895194');\n",
              "          const dataTable =\n",
              "            await google.colab.kernel.invokeFunction('convertToInteractive',\n",
              "                                                     [key], {});\n",
              "          if (!dataTable) return;\n",
              "\n",
              "          const docLinkHtml = 'Like what you see? Visit the ' +\n",
              "            '<a target=\"_blank\" href=https://colab.research.google.com/notebooks/data_table.ipynb>data table notebook</a>'\n",
              "            + ' to learn more about interactive tables.';\n",
              "          element.innerHTML = '';\n",
              "          dataTable['output_type'] = 'display_data';\n",
              "          await google.colab.output.renderOutput(dataTable, element);\n",
              "          const docLink = document.createElement('div');\n",
              "          docLink.innerHTML = docLinkHtml;\n",
              "          element.appendChild(docLink);\n",
              "        }\n",
              "      </script>\n",
              "    </div>\n",
              "  </div>\n",
              "  "
            ]
          },
          "metadata": {},
          "execution_count": 13
        }
      ]
    },
    {
      "cell_type": "code",
      "source": [
        "# Dropping this value one row\n",
        "df.drop(df[df['umbrella_limit']==-1000000].index,inplace=True)"
      ],
      "metadata": {
        "id": "XQ6S3ckmN4Sk"
      },
      "execution_count": null,
      "outputs": []
    },
    {
      "cell_type": "code",
      "source": [
        "# Dividing ['incident_date'] into three other columns\n",
        "df['incident_Date']=df['incident_date'].str.split('-').str[0]\n",
        "df['incident_Month']=df['incident_date'].str.split('-').str[1]\n",
        "df['incident_Year']=df['incident_date'].str.split('-').str[2]"
      ],
      "metadata": {
        "id": "tupUTKMdN_AN"
      },
      "execution_count": null,
      "outputs": []
    },
    {
      "cell_type": "code",
      "source": [
        "# Dividing policy_bind_date into three other columns\n",
        "df['policy_bind_Date']=df['policy_bind_date'].str.split('-').str[0]\n",
        "df['policy_bind_Month']=df['policy_bind_date'].str.split('-').str[1]\n",
        "df['policy_bind_Year']=df['policy_bind_date'].str.split('-').str[2]"
      ],
      "metadata": {
        "id": "z6671EQVOCy0"
      },
      "execution_count": null,
      "outputs": []
    },
    {
      "cell_type": "code",
      "source": [
        "# Dropping policy_bind_date column\n",
        "df.drop('policy_bind_date',axis=1,inplace=True)"
      ],
      "metadata": {
        "id": "2MIaHJ2VOLB9"
      },
      "execution_count": null,
      "outputs": []
    },
    {
      "cell_type": "code",
      "source": [
        "df.head()"
      ],
      "metadata": {
        "id": "hDLeQgMfORUd",
        "colab": {
          "base_uri": "https://localhost:8080/",
          "height": 299
        },
        "outputId": "9a178f98-875e-4001-d318-0a86af5b7a93"
      },
      "execution_count": null,
      "outputs": [
        {
          "output_type": "execute_result",
          "data": {
            "text/plain": [
              "   months_as_customer  age  policy_number policy_state policy_csl  \\\n",
              "0                 328   48         521585           OH    250/500   \n",
              "1                 228   42         342868           IN    250/500   \n",
              "2                 134   29         687698           OH    100/300   \n",
              "3                 256   41         227811           IL    250/500   \n",
              "4                 228   44         367455           IL   500/1000   \n",
              "\n",
              "   policy_deductable  policy_annual_premium  umbrella_limit  insured_zip  \\\n",
              "0               1000                1406.91               0       466132   \n",
              "1               2000                1197.22         5000000       468176   \n",
              "2               2000                1413.14         5000000       430632   \n",
              "3               2000                1415.74         6000000       608117   \n",
              "4               1000                1583.91         6000000       610706   \n",
              "\n",
              "  insured_sex  ...  auto_make auto_model auto_year fraud_reported  \\\n",
              "0        MALE  ...       Saab        92x      2004              Y   \n",
              "1        MALE  ...   Mercedes       E400      2007              Y   \n",
              "2      FEMALE  ...      Dodge        RAM      2007              N   \n",
              "3      FEMALE  ...  Chevrolet      Tahoe      2014              Y   \n",
              "4        MALE  ...     Accura        RSX      2009              N   \n",
              "\n",
              "   incident_Date  incident_Month incident_Year policy_bind_Date  \\\n",
              "0             25              01          2015               17   \n",
              "1             21              01          2015               27   \n",
              "2             22              02          2015               06   \n",
              "3             10              01          2015               25   \n",
              "4             17              02          2015               06   \n",
              "\n",
              "  policy_bind_Month policy_bind_Year  \n",
              "0                10             2014  \n",
              "1                06             2006  \n",
              "2                09             2000  \n",
              "3                05             1990  \n",
              "4                06             2014  \n",
              "\n",
              "[5 rows x 44 columns]"
            ],
            "text/html": [
              "\n",
              "  <div id=\"df-2e695502-cdd9-4e58-98ba-689fc49225a0\">\n",
              "    <div class=\"colab-df-container\">\n",
              "      <div>\n",
              "<style scoped>\n",
              "    .dataframe tbody tr th:only-of-type {\n",
              "        vertical-align: middle;\n",
              "    }\n",
              "\n",
              "    .dataframe tbody tr th {\n",
              "        vertical-align: top;\n",
              "    }\n",
              "\n",
              "    .dataframe thead th {\n",
              "        text-align: right;\n",
              "    }\n",
              "</style>\n",
              "<table border=\"1\" class=\"dataframe\">\n",
              "  <thead>\n",
              "    <tr style=\"text-align: right;\">\n",
              "      <th></th>\n",
              "      <th>months_as_customer</th>\n",
              "      <th>age</th>\n",
              "      <th>policy_number</th>\n",
              "      <th>policy_state</th>\n",
              "      <th>policy_csl</th>\n",
              "      <th>policy_deductable</th>\n",
              "      <th>policy_annual_premium</th>\n",
              "      <th>umbrella_limit</th>\n",
              "      <th>insured_zip</th>\n",
              "      <th>insured_sex</th>\n",
              "      <th>...</th>\n",
              "      <th>auto_make</th>\n",
              "      <th>auto_model</th>\n",
              "      <th>auto_year</th>\n",
              "      <th>fraud_reported</th>\n",
              "      <th>incident_Date</th>\n",
              "      <th>incident_Month</th>\n",
              "      <th>incident_Year</th>\n",
              "      <th>policy_bind_Date</th>\n",
              "      <th>policy_bind_Month</th>\n",
              "      <th>policy_bind_Year</th>\n",
              "    </tr>\n",
              "  </thead>\n",
              "  <tbody>\n",
              "    <tr>\n",
              "      <th>0</th>\n",
              "      <td>328</td>\n",
              "      <td>48</td>\n",
              "      <td>521585</td>\n",
              "      <td>OH</td>\n",
              "      <td>250/500</td>\n",
              "      <td>1000</td>\n",
              "      <td>1406.91</td>\n",
              "      <td>0</td>\n",
              "      <td>466132</td>\n",
              "      <td>MALE</td>\n",
              "      <td>...</td>\n",
              "      <td>Saab</td>\n",
              "      <td>92x</td>\n",
              "      <td>2004</td>\n",
              "      <td>Y</td>\n",
              "      <td>25</td>\n",
              "      <td>01</td>\n",
              "      <td>2015</td>\n",
              "      <td>17</td>\n",
              "      <td>10</td>\n",
              "      <td>2014</td>\n",
              "    </tr>\n",
              "    <tr>\n",
              "      <th>1</th>\n",
              "      <td>228</td>\n",
              "      <td>42</td>\n",
              "      <td>342868</td>\n",
              "      <td>IN</td>\n",
              "      <td>250/500</td>\n",
              "      <td>2000</td>\n",
              "      <td>1197.22</td>\n",
              "      <td>5000000</td>\n",
              "      <td>468176</td>\n",
              "      <td>MALE</td>\n",
              "      <td>...</td>\n",
              "      <td>Mercedes</td>\n",
              "      <td>E400</td>\n",
              "      <td>2007</td>\n",
              "      <td>Y</td>\n",
              "      <td>21</td>\n",
              "      <td>01</td>\n",
              "      <td>2015</td>\n",
              "      <td>27</td>\n",
              "      <td>06</td>\n",
              "      <td>2006</td>\n",
              "    </tr>\n",
              "    <tr>\n",
              "      <th>2</th>\n",
              "      <td>134</td>\n",
              "      <td>29</td>\n",
              "      <td>687698</td>\n",
              "      <td>OH</td>\n",
              "      <td>100/300</td>\n",
              "      <td>2000</td>\n",
              "      <td>1413.14</td>\n",
              "      <td>5000000</td>\n",
              "      <td>430632</td>\n",
              "      <td>FEMALE</td>\n",
              "      <td>...</td>\n",
              "      <td>Dodge</td>\n",
              "      <td>RAM</td>\n",
              "      <td>2007</td>\n",
              "      <td>N</td>\n",
              "      <td>22</td>\n",
              "      <td>02</td>\n",
              "      <td>2015</td>\n",
              "      <td>06</td>\n",
              "      <td>09</td>\n",
              "      <td>2000</td>\n",
              "    </tr>\n",
              "    <tr>\n",
              "      <th>3</th>\n",
              "      <td>256</td>\n",
              "      <td>41</td>\n",
              "      <td>227811</td>\n",
              "      <td>IL</td>\n",
              "      <td>250/500</td>\n",
              "      <td>2000</td>\n",
              "      <td>1415.74</td>\n",
              "      <td>6000000</td>\n",
              "      <td>608117</td>\n",
              "      <td>FEMALE</td>\n",
              "      <td>...</td>\n",
              "      <td>Chevrolet</td>\n",
              "      <td>Tahoe</td>\n",
              "      <td>2014</td>\n",
              "      <td>Y</td>\n",
              "      <td>10</td>\n",
              "      <td>01</td>\n",
              "      <td>2015</td>\n",
              "      <td>25</td>\n",
              "      <td>05</td>\n",
              "      <td>1990</td>\n",
              "    </tr>\n",
              "    <tr>\n",
              "      <th>4</th>\n",
              "      <td>228</td>\n",
              "      <td>44</td>\n",
              "      <td>367455</td>\n",
              "      <td>IL</td>\n",
              "      <td>500/1000</td>\n",
              "      <td>1000</td>\n",
              "      <td>1583.91</td>\n",
              "      <td>6000000</td>\n",
              "      <td>610706</td>\n",
              "      <td>MALE</td>\n",
              "      <td>...</td>\n",
              "      <td>Accura</td>\n",
              "      <td>RSX</td>\n",
              "      <td>2009</td>\n",
              "      <td>N</td>\n",
              "      <td>17</td>\n",
              "      <td>02</td>\n",
              "      <td>2015</td>\n",
              "      <td>06</td>\n",
              "      <td>06</td>\n",
              "      <td>2014</td>\n",
              "    </tr>\n",
              "  </tbody>\n",
              "</table>\n",
              "<p>5 rows × 44 columns</p>\n",
              "</div>\n",
              "      <button class=\"colab-df-convert\" onclick=\"convertToInteractive('df-2e695502-cdd9-4e58-98ba-689fc49225a0')\"\n",
              "              title=\"Convert this dataframe to an interactive table.\"\n",
              "              style=\"display:none;\">\n",
              "        \n",
              "  <svg xmlns=\"http://www.w3.org/2000/svg\" height=\"24px\"viewBox=\"0 0 24 24\"\n",
              "       width=\"24px\">\n",
              "    <path d=\"M0 0h24v24H0V0z\" fill=\"none\"/>\n",
              "    <path d=\"M18.56 5.44l.94 2.06.94-2.06 2.06-.94-2.06-.94-.94-2.06-.94 2.06-2.06.94zm-11 1L8.5 8.5l.94-2.06 2.06-.94-2.06-.94L8.5 2.5l-.94 2.06-2.06.94zm10 10l.94 2.06.94-2.06 2.06-.94-2.06-.94-.94-2.06-.94 2.06-2.06.94z\"/><path d=\"M17.41 7.96l-1.37-1.37c-.4-.4-.92-.59-1.43-.59-.52 0-1.04.2-1.43.59L10.3 9.45l-7.72 7.72c-.78.78-.78 2.05 0 2.83L4 21.41c.39.39.9.59 1.41.59.51 0 1.02-.2 1.41-.59l7.78-7.78 2.81-2.81c.8-.78.8-2.07 0-2.86zM5.41 20L4 18.59l7.72-7.72 1.47 1.35L5.41 20z\"/>\n",
              "  </svg>\n",
              "      </button>\n",
              "      \n",
              "  <style>\n",
              "    .colab-df-container {\n",
              "      display:flex;\n",
              "      flex-wrap:wrap;\n",
              "      gap: 12px;\n",
              "    }\n",
              "\n",
              "    .colab-df-convert {\n",
              "      background-color: #E8F0FE;\n",
              "      border: none;\n",
              "      border-radius: 50%;\n",
              "      cursor: pointer;\n",
              "      display: none;\n",
              "      fill: #1967D2;\n",
              "      height: 32px;\n",
              "      padding: 0 0 0 0;\n",
              "      width: 32px;\n",
              "    }\n",
              "\n",
              "    .colab-df-convert:hover {\n",
              "      background-color: #E2EBFA;\n",
              "      box-shadow: 0px 1px 2px rgba(60, 64, 67, 0.3), 0px 1px 3px 1px rgba(60, 64, 67, 0.15);\n",
              "      fill: #174EA6;\n",
              "    }\n",
              "\n",
              "    [theme=dark] .colab-df-convert {\n",
              "      background-color: #3B4455;\n",
              "      fill: #D2E3FC;\n",
              "    }\n",
              "\n",
              "    [theme=dark] .colab-df-convert:hover {\n",
              "      background-color: #434B5C;\n",
              "      box-shadow: 0px 1px 3px 1px rgba(0, 0, 0, 0.15);\n",
              "      filter: drop-shadow(0px 1px 2px rgba(0, 0, 0, 0.3));\n",
              "      fill: #FFFFFF;\n",
              "    }\n",
              "  </style>\n",
              "\n",
              "      <script>\n",
              "        const buttonEl =\n",
              "          document.querySelector('#df-2e695502-cdd9-4e58-98ba-689fc49225a0 button.colab-df-convert');\n",
              "        buttonEl.style.display =\n",
              "          google.colab.kernel.accessAllowed ? 'block' : 'none';\n",
              "\n",
              "        async function convertToInteractive(key) {\n",
              "          const element = document.querySelector('#df-2e695502-cdd9-4e58-98ba-689fc49225a0');\n",
              "          const dataTable =\n",
              "            await google.colab.kernel.invokeFunction('convertToInteractive',\n",
              "                                                     [key], {});\n",
              "          if (!dataTable) return;\n",
              "\n",
              "          const docLinkHtml = 'Like what you see? Visit the ' +\n",
              "            '<a target=\"_blank\" href=https://colab.research.google.com/notebooks/data_table.ipynb>data table notebook</a>'\n",
              "            + ' to learn more about interactive tables.';\n",
              "          element.innerHTML = '';\n",
              "          dataTable['output_type'] = 'display_data';\n",
              "          await google.colab.output.renderOutput(dataTable, element);\n",
              "          const docLink = document.createElement('div');\n",
              "          docLink.innerHTML = docLinkHtml;\n",
              "          element.appendChild(docLink);\n",
              "        }\n",
              "      </script>\n",
              "    </div>\n",
              "  </div>\n",
              "  "
            ]
          },
          "metadata": {},
          "execution_count": 18
        }
      ]
    },
    {
      "cell_type": "markdown",
      "source": [
        "Dropping the policy_number and other useless columns as well"
      ],
      "metadata": {
        "id": "z5jhXUKvi7bJ"
      }
    },
    {
      "cell_type": "code",
      "source": [
        "\n",
        "df.drop(['policy_number','insured_zip','incident_location'],axis=1,inplace=True)\n",
        "df.shape"
      ],
      "metadata": {
        "id": "w4WQQo8_OU9d",
        "colab": {
          "base_uri": "https://localhost:8080/"
        },
        "outputId": "d3c7c74b-7a2e-4b6d-ed72-e156536c0af4"
      },
      "execution_count": null,
      "outputs": [
        {
          "output_type": "execute_result",
          "data": {
            "text/plain": [
              "(999, 41)"
            ]
          },
          "metadata": {},
          "execution_count": 19
        }
      ]
    },
    {
      "cell_type": "code",
      "source": [
        "df.head()"
      ],
      "metadata": {
        "colab": {
          "base_uri": "https://localhost:8080/",
          "height": 299
        },
        "id": "4zqinoYX20XA",
        "outputId": "a6604086-0e61-4dd6-edcb-b54c768aedbc"
      },
      "execution_count": null,
      "outputs": [
        {
          "output_type": "execute_result",
          "data": {
            "text/plain": [
              "   months_as_customer  age policy_state policy_csl  policy_deductable  \\\n",
              "0                 328   48           OH    250/500               1000   \n",
              "1                 228   42           IN    250/500               2000   \n",
              "2                 134   29           OH    100/300               2000   \n",
              "3                 256   41           IL    250/500               2000   \n",
              "4                 228   44           IL   500/1000               1000   \n",
              "\n",
              "   policy_annual_premium  umbrella_limit insured_sex insured_education_level  \\\n",
              "0                1406.91               0        MALE                      MD   \n",
              "1                1197.22         5000000        MALE                      MD   \n",
              "2                1413.14         5000000      FEMALE                     PhD   \n",
              "3                1415.74         6000000      FEMALE                     PhD   \n",
              "4                1583.91         6000000        MALE               Associate   \n",
              "\n",
              "  insured_occupation  ...  auto_make auto_model  auto_year  fraud_reported  \\\n",
              "0       craft-repair  ...       Saab        92x       2004               Y   \n",
              "1  machine-op-inspct  ...   Mercedes       E400       2007               Y   \n",
              "2              sales  ...      Dodge        RAM       2007               N   \n",
              "3       armed-forces  ...  Chevrolet      Tahoe       2014               Y   \n",
              "4              sales  ...     Accura        RSX       2009               N   \n",
              "\n",
              "  incident_Date incident_Month incident_Year policy_bind_Date  \\\n",
              "0            25             01          2015               17   \n",
              "1            21             01          2015               27   \n",
              "2            22             02          2015               06   \n",
              "3            10             01          2015               25   \n",
              "4            17             02          2015               06   \n",
              "\n",
              "  policy_bind_Month policy_bind_Year  \n",
              "0                10             2014  \n",
              "1                06             2006  \n",
              "2                09             2000  \n",
              "3                05             1990  \n",
              "4                06             2014  \n",
              "\n",
              "[5 rows x 41 columns]"
            ],
            "text/html": [
              "\n",
              "  <div id=\"df-ea7b3b75-fc70-4dc8-8923-5c52dea6dd3e\">\n",
              "    <div class=\"colab-df-container\">\n",
              "      <div>\n",
              "<style scoped>\n",
              "    .dataframe tbody tr th:only-of-type {\n",
              "        vertical-align: middle;\n",
              "    }\n",
              "\n",
              "    .dataframe tbody tr th {\n",
              "        vertical-align: top;\n",
              "    }\n",
              "\n",
              "    .dataframe thead th {\n",
              "        text-align: right;\n",
              "    }\n",
              "</style>\n",
              "<table border=\"1\" class=\"dataframe\">\n",
              "  <thead>\n",
              "    <tr style=\"text-align: right;\">\n",
              "      <th></th>\n",
              "      <th>months_as_customer</th>\n",
              "      <th>age</th>\n",
              "      <th>policy_state</th>\n",
              "      <th>policy_csl</th>\n",
              "      <th>policy_deductable</th>\n",
              "      <th>policy_annual_premium</th>\n",
              "      <th>umbrella_limit</th>\n",
              "      <th>insured_sex</th>\n",
              "      <th>insured_education_level</th>\n",
              "      <th>insured_occupation</th>\n",
              "      <th>...</th>\n",
              "      <th>auto_make</th>\n",
              "      <th>auto_model</th>\n",
              "      <th>auto_year</th>\n",
              "      <th>fraud_reported</th>\n",
              "      <th>incident_Date</th>\n",
              "      <th>incident_Month</th>\n",
              "      <th>incident_Year</th>\n",
              "      <th>policy_bind_Date</th>\n",
              "      <th>policy_bind_Month</th>\n",
              "      <th>policy_bind_Year</th>\n",
              "    </tr>\n",
              "  </thead>\n",
              "  <tbody>\n",
              "    <tr>\n",
              "      <th>0</th>\n",
              "      <td>328</td>\n",
              "      <td>48</td>\n",
              "      <td>OH</td>\n",
              "      <td>250/500</td>\n",
              "      <td>1000</td>\n",
              "      <td>1406.91</td>\n",
              "      <td>0</td>\n",
              "      <td>MALE</td>\n",
              "      <td>MD</td>\n",
              "      <td>craft-repair</td>\n",
              "      <td>...</td>\n",
              "      <td>Saab</td>\n",
              "      <td>92x</td>\n",
              "      <td>2004</td>\n",
              "      <td>Y</td>\n",
              "      <td>25</td>\n",
              "      <td>01</td>\n",
              "      <td>2015</td>\n",
              "      <td>17</td>\n",
              "      <td>10</td>\n",
              "      <td>2014</td>\n",
              "    </tr>\n",
              "    <tr>\n",
              "      <th>1</th>\n",
              "      <td>228</td>\n",
              "      <td>42</td>\n",
              "      <td>IN</td>\n",
              "      <td>250/500</td>\n",
              "      <td>2000</td>\n",
              "      <td>1197.22</td>\n",
              "      <td>5000000</td>\n",
              "      <td>MALE</td>\n",
              "      <td>MD</td>\n",
              "      <td>machine-op-inspct</td>\n",
              "      <td>...</td>\n",
              "      <td>Mercedes</td>\n",
              "      <td>E400</td>\n",
              "      <td>2007</td>\n",
              "      <td>Y</td>\n",
              "      <td>21</td>\n",
              "      <td>01</td>\n",
              "      <td>2015</td>\n",
              "      <td>27</td>\n",
              "      <td>06</td>\n",
              "      <td>2006</td>\n",
              "    </tr>\n",
              "    <tr>\n",
              "      <th>2</th>\n",
              "      <td>134</td>\n",
              "      <td>29</td>\n",
              "      <td>OH</td>\n",
              "      <td>100/300</td>\n",
              "      <td>2000</td>\n",
              "      <td>1413.14</td>\n",
              "      <td>5000000</td>\n",
              "      <td>FEMALE</td>\n",
              "      <td>PhD</td>\n",
              "      <td>sales</td>\n",
              "      <td>...</td>\n",
              "      <td>Dodge</td>\n",
              "      <td>RAM</td>\n",
              "      <td>2007</td>\n",
              "      <td>N</td>\n",
              "      <td>22</td>\n",
              "      <td>02</td>\n",
              "      <td>2015</td>\n",
              "      <td>06</td>\n",
              "      <td>09</td>\n",
              "      <td>2000</td>\n",
              "    </tr>\n",
              "    <tr>\n",
              "      <th>3</th>\n",
              "      <td>256</td>\n",
              "      <td>41</td>\n",
              "      <td>IL</td>\n",
              "      <td>250/500</td>\n",
              "      <td>2000</td>\n",
              "      <td>1415.74</td>\n",
              "      <td>6000000</td>\n",
              "      <td>FEMALE</td>\n",
              "      <td>PhD</td>\n",
              "      <td>armed-forces</td>\n",
              "      <td>...</td>\n",
              "      <td>Chevrolet</td>\n",
              "      <td>Tahoe</td>\n",
              "      <td>2014</td>\n",
              "      <td>Y</td>\n",
              "      <td>10</td>\n",
              "      <td>01</td>\n",
              "      <td>2015</td>\n",
              "      <td>25</td>\n",
              "      <td>05</td>\n",
              "      <td>1990</td>\n",
              "    </tr>\n",
              "    <tr>\n",
              "      <th>4</th>\n",
              "      <td>228</td>\n",
              "      <td>44</td>\n",
              "      <td>IL</td>\n",
              "      <td>500/1000</td>\n",
              "      <td>1000</td>\n",
              "      <td>1583.91</td>\n",
              "      <td>6000000</td>\n",
              "      <td>MALE</td>\n",
              "      <td>Associate</td>\n",
              "      <td>sales</td>\n",
              "      <td>...</td>\n",
              "      <td>Accura</td>\n",
              "      <td>RSX</td>\n",
              "      <td>2009</td>\n",
              "      <td>N</td>\n",
              "      <td>17</td>\n",
              "      <td>02</td>\n",
              "      <td>2015</td>\n",
              "      <td>06</td>\n",
              "      <td>06</td>\n",
              "      <td>2014</td>\n",
              "    </tr>\n",
              "  </tbody>\n",
              "</table>\n",
              "<p>5 rows × 41 columns</p>\n",
              "</div>\n",
              "      <button class=\"colab-df-convert\" onclick=\"convertToInteractive('df-ea7b3b75-fc70-4dc8-8923-5c52dea6dd3e')\"\n",
              "              title=\"Convert this dataframe to an interactive table.\"\n",
              "              style=\"display:none;\">\n",
              "        \n",
              "  <svg xmlns=\"http://www.w3.org/2000/svg\" height=\"24px\"viewBox=\"0 0 24 24\"\n",
              "       width=\"24px\">\n",
              "    <path d=\"M0 0h24v24H0V0z\" fill=\"none\"/>\n",
              "    <path d=\"M18.56 5.44l.94 2.06.94-2.06 2.06-.94-2.06-.94-.94-2.06-.94 2.06-2.06.94zm-11 1L8.5 8.5l.94-2.06 2.06-.94-2.06-.94L8.5 2.5l-.94 2.06-2.06.94zm10 10l.94 2.06.94-2.06 2.06-.94-2.06-.94-.94-2.06-.94 2.06-2.06.94z\"/><path d=\"M17.41 7.96l-1.37-1.37c-.4-.4-.92-.59-1.43-.59-.52 0-1.04.2-1.43.59L10.3 9.45l-7.72 7.72c-.78.78-.78 2.05 0 2.83L4 21.41c.39.39.9.59 1.41.59.51 0 1.02-.2 1.41-.59l7.78-7.78 2.81-2.81c.8-.78.8-2.07 0-2.86zM5.41 20L4 18.59l7.72-7.72 1.47 1.35L5.41 20z\"/>\n",
              "  </svg>\n",
              "      </button>\n",
              "      \n",
              "  <style>\n",
              "    .colab-df-container {\n",
              "      display:flex;\n",
              "      flex-wrap:wrap;\n",
              "      gap: 12px;\n",
              "    }\n",
              "\n",
              "    .colab-df-convert {\n",
              "      background-color: #E8F0FE;\n",
              "      border: none;\n",
              "      border-radius: 50%;\n",
              "      cursor: pointer;\n",
              "      display: none;\n",
              "      fill: #1967D2;\n",
              "      height: 32px;\n",
              "      padding: 0 0 0 0;\n",
              "      width: 32px;\n",
              "    }\n",
              "\n",
              "    .colab-df-convert:hover {\n",
              "      background-color: #E2EBFA;\n",
              "      box-shadow: 0px 1px 2px rgba(60, 64, 67, 0.3), 0px 1px 3px 1px rgba(60, 64, 67, 0.15);\n",
              "      fill: #174EA6;\n",
              "    }\n",
              "\n",
              "    [theme=dark] .colab-df-convert {\n",
              "      background-color: #3B4455;\n",
              "      fill: #D2E3FC;\n",
              "    }\n",
              "\n",
              "    [theme=dark] .colab-df-convert:hover {\n",
              "      background-color: #434B5C;\n",
              "      box-shadow: 0px 1px 3px 1px rgba(0, 0, 0, 0.15);\n",
              "      filter: drop-shadow(0px 1px 2px rgba(0, 0, 0, 0.3));\n",
              "      fill: #FFFFFF;\n",
              "    }\n",
              "  </style>\n",
              "\n",
              "      <script>\n",
              "        const buttonEl =\n",
              "          document.querySelector('#df-ea7b3b75-fc70-4dc8-8923-5c52dea6dd3e button.colab-df-convert');\n",
              "        buttonEl.style.display =\n",
              "          google.colab.kernel.accessAllowed ? 'block' : 'none';\n",
              "\n",
              "        async function convertToInteractive(key) {\n",
              "          const element = document.querySelector('#df-ea7b3b75-fc70-4dc8-8923-5c52dea6dd3e');\n",
              "          const dataTable =\n",
              "            await google.colab.kernel.invokeFunction('convertToInteractive',\n",
              "                                                     [key], {});\n",
              "          if (!dataTable) return;\n",
              "\n",
              "          const docLinkHtml = 'Like what you see? Visit the ' +\n",
              "            '<a target=\"_blank\" href=https://colab.research.google.com/notebooks/data_table.ipynb>data table notebook</a>'\n",
              "            + ' to learn more about interactive tables.';\n",
              "          element.innerHTML = '';\n",
              "          dataTable['output_type'] = 'display_data';\n",
              "          await google.colab.output.renderOutput(dataTable, element);\n",
              "          const docLink = document.createElement('div');\n",
              "          docLink.innerHTML = docLinkHtml;\n",
              "          element.appendChild(docLink);\n",
              "        }\n",
              "      </script>\n",
              "    </div>\n",
              "  </div>\n",
              "  "
            ]
          },
          "metadata": {},
          "execution_count": 20
        }
      ]
    },
    {
      "cell_type": "code",
      "source": [
        "df['fraud_reported'].value_counts()"
      ],
      "metadata": {
        "id": "TWcLcSGPOa5O",
        "colab": {
          "base_uri": "https://localhost:8080/"
        },
        "outputId": "2b28dfe1-e94b-4abe-d7bc-76894a5d04ae"
      },
      "execution_count": null,
      "outputs": [
        {
          "output_type": "execute_result",
          "data": {
            "text/plain": [
              "N    752\n",
              "Y    247\n",
              "Name: fraud_reported, dtype: int64"
            ]
          },
          "metadata": {},
          "execution_count": 21
        }
      ]
    },
    {
      "cell_type": "code",
      "source": [
        "plt.figure(figsize=(15,10))\n",
        "sns.heatmap(df.corr(), annot=True)"
      ],
      "metadata": {
        "id": "KuyWZuQLOyQV",
        "colab": {
          "base_uri": "https://localhost:8080/",
          "height": 750
        },
        "outputId": "6832b3c8-8e99-48e0-e38b-5c7b93dc6971"
      },
      "execution_count": null,
      "outputs": [
        {
          "output_type": "execute_result",
          "data": {
            "text/plain": [
              "<matplotlib.axes._subplots.AxesSubplot at 0x7ffbc86aae90>"
            ]
          },
          "metadata": {},
          "execution_count": 22
        },
        {
          "output_type": "display_data",
          "data": {
            "text/plain": [
              "<Figure size 1080x720 with 2 Axes>"
            ],
            "image/png": "[encoded data removed]"
          },
          "metadata": {
            "needs_background": "light"
          }
        }
      ]
    },
    {
      "cell_type": "markdown",
      "source": [
        "\n",
        "\n",
        "fraud reported claim is higher in Saab, Mercedes, Dodge, Chevrolet, Audi, Ford, Suburu, BMW and Volkswagen auto_make In Other Auto_make brand is less than others.\n",
        "Have done the analysis of all important features,some of features don't have much information to define it.\n",
        "Skewness Handling:\n",
        "skew and outliers will be handed in numerical columns only"
      ],
      "metadata": {
        "id": "JwWE1lssPINI"
      }
    },
    {
      "cell_type": "code",
      "source": [
        "# plotting for numerical columns only\n",
        "plt.figure(figsize=(30,25))\n",
        "for i in enumerate(df.select_dtypes(include=['int64', 'float', 'int32'])):\n",
        "    plt.subplot(8,4,i[0]+1)\n",
        "    sns.distplot(df[i[1]],color='blue')"
      ],
      "metadata": {
        "id": "KRiWxaLZO16d",
        "colab": {
          "base_uri": "https://localhost:8080/",
          "height": 580
        },
        "outputId": "7dfe28cf-3272-4147-f24c-f116476f57a2"
      },
      "execution_count": null,
      "outputs": [
        {
          "output_type": "display_data",
          "data": {
            "text/plain": [
              "<Figure size 2160x1800 with 16 Axes>"
            ],
            "image/png": "[encoded data removed]"
          },
          "metadata": {
            "needs_background": "light"
          }
        }
      ]
    },
    {
      "cell_type": "code",
      "source": [
        "# selecting datatypes\n",
        "df.select_dtypes(include=['int64', 'float','int32']).skew()"
      ],
      "metadata": {
        "id": "IbTBCL2jPO7P",
        "colab": {
          "base_uri": "https://localhost:8080/"
        },
        "outputId": "9845e295-4b3b-442c-cadf-f252754011bd"
      },
      "execution_count": null,
      "outputs": [
        {
          "output_type": "execute_result",
          "data": {
            "text/plain": [
              "months_as_customer             0.364014\n",
              "age                            0.479796\n",
              "policy_deductable              0.476426\n",
              "policy_annual_premium          0.005374\n",
              "umbrella_limit                 1.806100\n",
              "capital-gains                  0.477220\n",
              "capital-loss                  -0.389813\n",
              "incident_hour_of_the_day      -0.034990\n",
              "number_of_vehicles_involved    0.501009\n",
              "bodily_injuries                0.012940\n",
              "witnesses                      0.018399\n",
              "total_claim_amount            -0.595646\n",
              "injury_claim                   0.265382\n",
              "property_claim                 0.378121\n",
              "vehicle_claim                 -0.622627\n",
              "auto_year                     -0.049502\n",
              "dtype: float64"
            ]
          },
          "metadata": {},
          "execution_count": 24
        }
      ]
    },
    {
      "cell_type": "markdown",
      "source": [
        "\n",
        "\n",
        "    skewness more than+/- 0.5 will we treated\n",
        "\n",
        "    object and target variable columns will not be treated\n",
        "\n",
        "    we can see here most of the columns are skewed.\n",
        "\n",
        "    It will only deal with numerical columns umbrella_limit, total_claim_amount, vehicle_claim.\n",
        "\n"
      ],
      "metadata": {
        "id": "XYTDEkCjPabW"
      }
    },
    {
      "cell_type": "code",
      "source": [
        "from sklearn.preprocessing import power_transform\n",
        "\n",
        "df[['umbrella_limit','total_claim_amount','vehicle_claim']]=power_transform(\n",
        "    df[['umbrella_limit','total_claim_amount','vehicle_claim']],method='yeo-johnson')"
      ],
      "metadata": {
        "id": "UK3QhNE7PVbd"
      },
      "execution_count": null,
      "outputs": []
    },
    {
      "cell_type": "markdown",
      "source": [
        "Outliers Handling:"
      ],
      "metadata": {
        "id": "7y6P30N7PiQu"
      }
    },
    {
      "cell_type": "code",
      "source": [
        "plt.figure(figsize=(18,10))\n",
        "for o in enumerate(df.select_dtypes(include=['int64', 'float', 'int32'])):\n",
        "     plt.subplot(9,4,o[0]+1)\n",
        "     sns.boxplot(df[o[1]])"
      ],
      "metadata": {
        "id": "PlzV84cUPmV1",
        "colab": {
          "base_uri": "https://localhost:8080/",
          "height": 299
        },
        "outputId": "68787f16-cbb5-49af-cae5-9a66214214b9"
      },
      "execution_count": null,
      "outputs": [
        {
          "output_type": "display_data",
          "data": {
            "text/plain": [
              "<Figure size 1296x720 with 16 Axes>"
            ],
            "image/png": "[encoded data removed]"
          },
          "metadata": {
            "needs_background": "light"
          }
        }
      ]
    },
    {
      "cell_type": "markdown",
      "source": [
        "only some of columns seems having outliers after skewness removed.\n",
        "Outliers Removal:\n",
        "zscore"
      ],
      "metadata": {
        "id": "6b6xmVR7Pwnt"
      }
    },
    {
      "cell_type": "code",
      "source": [
        "from scipy.stats import zscore\n",
        "\n",
        "z=np.abs(zscore(df.select_dtypes(include=['int64', 'float','int32'])))\n",
        "\n",
        "print(np.where(z>3))"
      ],
      "metadata": {
        "id": "YgCzjRZgPq_V",
        "colab": {
          "base_uri": "https://localhost:8080/"
        },
        "outputId": "36535814-f57b-45e8-8324-190a743e20cd"
      },
      "execution_count": null,
      "outputs": [
        {
          "output_type": "stream",
          "name": "stdout",
          "text": [
            "(array([229, 248, 499, 762, 806]), array([ 3,  3, 13,  3,  6]))\n"
          ]
        }
      ]
    },
    {
      "cell_type": "code",
      "source": [
        "# getting outliers after removing outliers with new data frame for removing\n",
        "df_1=df[(z<3).all(axis=1)]\n",
        "print(\"with outliers::\",df.shape)\n",
        "print(\"After removing outliers::\",df_1.shape)"
      ],
      "metadata": {
        "id": "gWrmXZBpP5ZN",
        "colab": {
          "base_uri": "https://localhost:8080/"
        },
        "outputId": "7aa22207-d6e5-4e95-813e-f04f36b5a0d5"
      },
      "execution_count": null,
      "outputs": [
        {
          "output_type": "stream",
          "name": "stdout",
          "text": [
            "with outliers:: (999, 41)\n",
            "After removing outliers:: (994, 41)\n"
          ]
        }
      ]
    },
    {
      "cell_type": "markdown",
      "source": [
        "IQR"
      ],
      "metadata": {
        "id": "HRF6DbGKQGZc"
      }
    },
    {
      "cell_type": "code",
      "source": [
        "# using IQR method\n",
        "\n",
        "from scipy import stats\n",
        "IQR = stats.iqr(df.select_dtypes(include=['int64', 'float','int32'])) \n",
        "IQR"
      ],
      "metadata": {
        "id": "g2QkuX2qQBP0",
        "colab": {
          "base_uri": "https://localhost:8080/"
        },
        "outputId": "d51e8abf-391f-4308-8211-5b3e873b06c6"
      },
      "execution_count": null,
      "outputs": [
        {
          "output_type": "execute_result",
          "data": {
            "text/plain": [
              "1230.8691969059628"
            ]
          },
          "metadata": {},
          "execution_count": 29
        }
      ]
    },
    {
      "cell_type": "code",
      "source": [
        "Q1 = df.quantile(0.25)\n",
        "Q3 = df.quantile(0.75)\n",
        "df_out = df.select_dtypes(include=['int64', 'float','int32'])[~((df.select_dtypes(include=['int64', 'float','int32']) < (Q1 - 1.5 * IQR)) |(df.select_dtypes(include=['int64', 'float','int32']) > (Q3 + 1.5 * IQR))).any(axis=1)]\n",
        "print(df_out.shape)"
      ],
      "metadata": {
        "id": "N3bgjbS7QMtW",
        "colab": {
          "base_uri": "https://localhost:8080/"
        },
        "outputId": "15de694f-c337-4258-a3a8-3da4ef532f3f"
      },
      "execution_count": null,
      "outputs": [
        {
          "output_type": "stream",
          "name": "stdout",
          "text": [
            "(313, 16)\n"
          ]
        }
      ]
    },
    {
      "cell_type": "markdown",
      "source": [
        "Choosing ZScore because there is huge data loss in IQR."
      ],
      "metadata": {
        "id": "-WhAm1HbQbqP"
      }
    },
    {
      "cell_type": "code",
      "source": [
        "df=df_1"
      ],
      "metadata": {
        "id": "BRoQ5LeeQR2-"
      },
      "execution_count": null,
      "outputs": []
    },
    {
      "cell_type": "markdown",
      "source": [
        "Using LabelEncoder for convering categorical to numerical`"
      ],
      "metadata": {
        "id": "8JPz99h7Qg7_"
      }
    },
    {
      "cell_type": "code",
      "source": [
        "df.info()"
      ],
      "metadata": {
        "id": "A_GmUvcQQlfm",
        "colab": {
          "base_uri": "https://localhost:8080/"
        },
        "outputId": "d4f07b07-73e1-4bcd-ec3c-546f1d204e18"
      },
      "execution_count": null,
      "outputs": [
        {
          "output_type": "stream",
          "name": "stdout",
          "text": [
            "<class 'pandas.core.frame.DataFrame'>\n",
            "Int64Index: 994 entries, 0 to 999\n",
            "Data columns (total 41 columns):\n",
            " #   Column                       Non-Null Count  Dtype  \n",
            "---  ------                       --------------  -----  \n",
            " 0   months_as_customer           994 non-null    int64  \n",
            " 1   age                          994 non-null    int64  \n",
            " 2   policy_state                 994 non-null    object \n",
            " 3   policy_csl                   994 non-null    object \n",
            " 4   policy_deductable            994 non-null    int64  \n",
            " 5   policy_annual_premium        994 non-null    float64\n",
            " 6   umbrella_limit               994 non-null    float64\n",
            " 7   insured_sex                  994 non-null    object \n",
            " 8   insured_education_level      994 non-null    object \n",
            " 9   insured_occupation           994 non-null    object \n",
            " 10  insured_hobbies              994 non-null    object \n",
            " 11  insured_relationship         994 non-null    object \n",
            " 12  capital-gains                994 non-null    int64  \n",
            " 13  capital-loss                 994 non-null    int64  \n",
            " 14  incident_date                994 non-null    object \n",
            " 15  incident_type                994 non-null    object \n",
            " 16  collision_type               994 non-null    object \n",
            " 17  incident_severity            994 non-null    object \n",
            " 18  authorities_contacted        994 non-null    object \n",
            " 19  incident_state               994 non-null    object \n",
            " 20  incident_city                994 non-null    object \n",
            " 21  incident_hour_of_the_day     994 non-null    int64  \n",
            " 22  number_of_vehicles_involved  994 non-null    int64  \n",
            " 23  property_damage              994 non-null    object \n",
            " 24  bodily_injuries              994 non-null    int64  \n",
            " 25  witnesses                    994 non-null    int64  \n",
            " 26  police_report_available      994 non-null    object \n",
            " 27  total_claim_amount           994 non-null    float64\n",
            " 28  injury_claim                 994 non-null    int64  \n",
            " 29  property_claim               994 non-null    int64  \n",
            " 30  vehicle_claim                994 non-null    float64\n",
            " 31  auto_make                    994 non-null    object \n",
            " 32  auto_model                   994 non-null    object \n",
            " 33  auto_year                    994 non-null    int64  \n",
            " 34  fraud_reported               994 non-null    object \n",
            " 35  incident_Date                994 non-null    object \n",
            " 36  incident_Month               994 non-null    object \n",
            " 37  incident_Year                994 non-null    object \n",
            " 38  policy_bind_Date             994 non-null    object \n",
            " 39  policy_bind_Month            994 non-null    object \n",
            " 40  policy_bind_Year             994 non-null    object \n",
            "dtypes: float64(4), int64(12), object(25)\n",
            "memory usage: 326.2+ KB\n"
          ]
        }
      ]
    },
    {
      "cell_type": "code",
      "source": [
        "from sklearn.preprocessing import LabelEncoder"
      ],
      "metadata": {
        "id": "bGfxb8Z3Qp-_"
      },
      "execution_count": null,
      "outputs": []
    },
    {
      "cell_type": "code",
      "source": [
        "#Encoding object columns into Numeric Values in df\n",
        "from sklearn.preprocessing import LabelEncoder\n",
        "le=LabelEncoder()\n",
        "categ_data = df.select_dtypes(exclude=['int64', 'float','int32'])\n",
        "for val in categ_data:\n",
        "    df[val]=le.fit_transform(df[val].astype(str))"
      ],
      "metadata": {
        "id": "XmVkm9hdQxNu"
      },
      "execution_count": null,
      "outputs": []
    },
    {
      "cell_type": "code",
      "source": [
        "df.info()"
      ],
      "metadata": {
        "id": "AFvsEaA7Q1XF",
        "colab": {
          "base_uri": "https://localhost:8080/"
        },
        "outputId": "9e494a4d-4f12-41dc-e10d-701caf3b6290"
      },
      "execution_count": null,
      "outputs": [
        {
          "output_type": "stream",
          "name": "stdout",
          "text": [
            "<class 'pandas.core.frame.DataFrame'>\n",
            "Int64Index: 994 entries, 0 to 999\n",
            "Data columns (total 41 columns):\n",
            " #   Column                       Non-Null Count  Dtype  \n",
            "---  ------                       --------------  -----  \n",
            " 0   months_as_customer           994 non-null    int64  \n",
            " 1   age                          994 non-null    int64  \n",
            " 2   policy_state                 994 non-null    int64  \n",
            " 3   policy_csl                   994 non-null    int64  \n",
            " 4   policy_deductable            994 non-null    int64  \n",
            " 5   policy_annual_premium        994 non-null    float64\n",
            " 6   umbrella_limit               994 non-null    float64\n",
            " 7   insured_sex                  994 non-null    int64  \n",
            " 8   insured_education_level      994 non-null    int64  \n",
            " 9   insured_occupation           994 non-null    int64  \n",
            " 10  insured_hobbies              994 non-null    int64  \n",
            " 11  insured_relationship         994 non-null    int64  \n",
            " 12  capital-gains                994 non-null    int64  \n",
            " 13  capital-loss                 994 non-null    int64  \n",
            " 14  incident_date                994 non-null    int64  \n",
            " 15  incident_type                994 non-null    int64  \n",
            " 16  collision_type               994 non-null    int64  \n",
            " 17  incident_severity            994 non-null    int64  \n",
            " 18  authorities_contacted        994 non-null    int64  \n",
            " 19  incident_state               994 non-null    int64  \n",
            " 20  incident_city                994 non-null    int64  \n",
            " 21  incident_hour_of_the_day     994 non-null    int64  \n",
            " 22  number_of_vehicles_involved  994 non-null    int64  \n",
            " 23  property_damage              994 non-null    int64  \n",
            " 24  bodily_injuries              994 non-null    int64  \n",
            " 25  witnesses                    994 non-null    int64  \n",
            " 26  police_report_available      994 non-null    int64  \n",
            " 27  total_claim_amount           994 non-null    float64\n",
            " 28  injury_claim                 994 non-null    int64  \n",
            " 29  property_claim               994 non-null    int64  \n",
            " 30  vehicle_claim                994 non-null    float64\n",
            " 31  auto_make                    994 non-null    int64  \n",
            " 32  auto_model                   994 non-null    int64  \n",
            " 33  auto_year                    994 non-null    int64  \n",
            " 34  fraud_reported               994 non-null    int64  \n",
            " 35  incident_Date                994 non-null    int64  \n",
            " 36  incident_Month               994 non-null    int64  \n",
            " 37  incident_Year                994 non-null    int64  \n",
            " 38  policy_bind_Date             994 non-null    int64  \n",
            " 39  policy_bind_Month            994 non-null    int64  \n",
            " 40  policy_bind_Year             994 non-null    int64  \n",
            "dtypes: float64(4), int64(37)\n",
            "memory usage: 326.2 KB\n"
          ]
        }
      ]
    },
    {
      "cell_type": "markdown",
      "source": [
        "Dividing data into X and Y"
      ],
      "metadata": {
        "id": "IcqNo20zQ_ZV"
      }
    },
    {
      "cell_type": "code",
      "source": [
        "x=df.drop(['fraud_reported'],axis=1)\n",
        "y=df['fraud_reported']"
      ],
      "metadata": {
        "id": "5bgGLtwkQ6xV"
      },
      "execution_count": null,
      "outputs": []
    },
    {
      "cell_type": "code",
      "source": [
        "x.shape"
      ],
      "metadata": {
        "colab": {
          "base_uri": "https://localhost:8080/"
        },
        "id": "NJvqBTpi-AaL",
        "outputId": "532a47bc-c48f-46a6-ce54-0eb277950f4f"
      },
      "execution_count": null,
      "outputs": [
        {
          "output_type": "execute_result",
          "data": {
            "text/plain": [
              "(994, 40)"
            ]
          },
          "metadata": {},
          "execution_count": 37
        }
      ]
    },
    {
      "cell_type": "code",
      "source": [
        "\n",
        "y.shape"
      ],
      "metadata": {
        "id": "arqtMq8XREMG",
        "colab": {
          "base_uri": "https://localhost:8080/"
        },
        "outputId": "05a4c358-801d-420b-e6b2-c8687608da24"
      },
      "execution_count": null,
      "outputs": [
        {
          "output_type": "execute_result",
          "data": {
            "text/plain": [
              "(994,)"
            ]
          },
          "metadata": {},
          "execution_count": 38
        }
      ]
    },
    {
      "cell_type": "markdown",
      "source": [
        "Scaling X values:"
      ],
      "metadata": {
        "id": "ctDZaQa4RP9u"
      }
    },
    {
      "cell_type": "code",
      "source": [
        "from sklearn.preprocessing import MinMaxScaler\n",
        "sc=MinMaxScaler()\n",
        "x=sc.fit_transform(x)"
      ],
      "metadata": {
        "id": "2XaJX8R8RMaW"
      },
      "execution_count": null,
      "outputs": []
    },
    {
      "cell_type": "code",
      "source": [
        "pd.DataFrame(x).isnull().sum()"
      ],
      "metadata": {
        "id": "MYOxKXmJRVE9",
        "colab": {
          "base_uri": "https://localhost:8080/"
        },
        "outputId": "e190f677-9bf6-4841-df7d-ccb308b811e3"
      },
      "execution_count": null,
      "outputs": [
        {
          "output_type": "execute_result",
          "data": {
            "text/plain": [
              "0     0\n",
              "1     0\n",
              "2     0\n",
              "3     0\n",
              "4     0\n",
              "5     0\n",
              "6     0\n",
              "7     0\n",
              "8     0\n",
              "9     0\n",
              "10    0\n",
              "11    0\n",
              "12    0\n",
              "13    0\n",
              "14    0\n",
              "15    0\n",
              "16    0\n",
              "17    0\n",
              "18    0\n",
              "19    0\n",
              "20    0\n",
              "21    0\n",
              "22    0\n",
              "23    0\n",
              "24    0\n",
              "25    0\n",
              "26    0\n",
              "27    0\n",
              "28    0\n",
              "29    0\n",
              "30    0\n",
              "31    0\n",
              "32    0\n",
              "33    0\n",
              "34    0\n",
              "35    0\n",
              "36    0\n",
              "37    0\n",
              "38    0\n",
              "39    0\n",
              "dtype: int64"
            ]
          },
          "metadata": {},
          "execution_count": 40
        }
      ]
    },
    {
      "cell_type": "code",
      "source": [
        "pd.DataFrame(x).describe()"
      ],
      "metadata": {
        "id": "Cp3K3bSRRYpY",
        "colab": {
          "base_uri": "https://localhost:8080/",
          "height": 394
        },
        "outputId": "1610be43-7197-4389-c2a8-066cbac063f1"
      },
      "execution_count": null,
      "outputs": [
        {
          "output_type": "execute_result",
          "data": {
            "text/plain": [
              "               0           1           2           3           4           5   \\\n",
              "count  994.000000  994.000000  994.000000  994.000000  994.000000  994.000000   \n",
              "mean     0.426698    0.443975    0.507042    0.474849    0.424883    0.502476   \n",
              "std      0.240313    0.203319    0.415523    0.402499    0.408046    0.168078   \n",
              "min      0.000000    0.000000    0.000000    0.000000    0.000000    0.000000   \n",
              "25%      0.242171    0.288889    0.000000    0.000000    0.000000    0.385783   \n",
              "50%      0.417537    0.422222    0.500000    0.500000    0.333333    0.502305   \n",
              "75%      0.577766    0.572222    1.000000    1.000000    1.000000    0.613049   \n",
              "max      1.000000    1.000000    1.000000    1.000000    1.000000    1.000000   \n",
              "\n",
              "               6           7           8           9   ...          30  \\\n",
              "count  994.000000  994.000000  994.000000  994.000000  ...  994.000000   \n",
              "mean     0.201896    0.463783    0.494634    0.512692  ...    0.452576   \n",
              "std      0.401223    0.498938    0.324961    0.309271  ...    0.235036   \n",
              "min      0.000000    0.000000    0.000000    0.000000  ...    0.000000   \n",
              "25%      0.000000    0.000000    0.166667    0.230769  ...    0.349015   \n",
              "50%      0.000000    0.000000    0.500000    0.538462  ...    0.499869   \n",
              "75%      0.000000    1.000000    0.833333    0.769231  ...    0.612979   \n",
              "max      1.000000    1.000000    1.000000    1.000000  ...    1.000000   \n",
              "\n",
              "               31          32          33          34          35     36  \\\n",
              "count  994.000000  994.000000  994.000000  994.000000  994.000000  994.0   \n",
              "mean     0.504179    0.508790    0.505785    0.467270    0.248994    0.0   \n",
              "std      0.310061    0.293301    0.300326    0.288265    0.261924    0.0   \n",
              "min      0.000000    0.000000    0.000000    0.000000    0.000000    0.0   \n",
              "25%      0.230769    0.263158    0.250000    0.233333    0.000000    0.0   \n",
              "50%      0.538462    0.526316    0.500000    0.466667    0.000000    0.0   \n",
              "75%      0.769231    0.763158    0.750000    0.700000    0.500000    0.0   \n",
              "max      1.000000    1.000000    1.000000    1.000000    1.000000    0.0   \n",
              "\n",
              "               37          38          39  \n",
              "count  994.000000  994.000000  994.000000  \n",
              "mean     0.480751    0.506585    0.463380  \n",
              "std      0.293300    0.318378    0.294742  \n",
              "min      0.000000    0.000000    0.000000  \n",
              "25%      0.233333    0.181818    0.200000  \n",
              "50%      0.483333    0.545455    0.480000  \n",
              "75%      0.733333    0.818182    0.720000  \n",
              "max      1.000000    1.000000    1.000000  \n",
              "\n",
              "[8 rows x 40 columns]"
            ],
            "text/html": [
              "\n",
              "  <div id=\"df-0dd8f69f-82cf-41a1-83d2-2169be716926\">\n",
              "    <div class=\"colab-df-container\">\n",
              "      <div>\n",
              "<style scoped>\n",
              "    .dataframe tbody tr th:only-of-type {\n",
              "        vertical-align: middle;\n",
              "    }\n",
              "\n",
              "    .dataframe tbody tr th {\n",
              "        vertical-align: top;\n",
              "    }\n",
              "\n",
              "    .dataframe thead th {\n",
              "        text-align: right;\n",
              "    }\n",
              "</style>\n",
              "<table border=\"1\" class=\"dataframe\">\n",
              "  <thead>\n",
              "    <tr style=\"text-align: right;\">\n",
              "      <th></th>\n",
              "      <th>0</th>\n",
              "      <th>1</th>\n",
              "      <th>2</th>\n",
              "      <th>3</th>\n",
              "      <th>4</th>\n",
              "      <th>5</th>\n",
              "      <th>6</th>\n",
              "      <th>7</th>\n",
              "      <th>8</th>\n",
              "      <th>9</th>\n",
              "      <th>...</th>\n",
              "      <th>30</th>\n",
              "      <th>31</th>\n",
              "      <th>32</th>\n",
              "      <th>33</th>\n",
              "      <th>34</th>\n",
              "      <th>35</th>\n",
              "      <th>36</th>\n",
              "      <th>37</th>\n",
              "      <th>38</th>\n",
              "      <th>39</th>\n",
              "    </tr>\n",
              "  </thead>\n",
              "  <tbody>\n",
              "    <tr>\n",
              "      <th>count</th>\n",
              "      <td>994.000000</td>\n",
              "      <td>994.000000</td>\n",
              "      <td>994.000000</td>\n",
              "      <td>994.000000</td>\n",
              "      <td>994.000000</td>\n",
              "      <td>994.000000</td>\n",
              "      <td>994.000000</td>\n",
              "      <td>994.000000</td>\n",
              "      <td>994.000000</td>\n",
              "      <td>994.000000</td>\n",
              "      <td>...</td>\n",
              "      <td>994.000000</td>\n",
              "      <td>994.000000</td>\n",
              "      <td>994.000000</td>\n",
              "      <td>994.000000</td>\n",
              "      <td>994.000000</td>\n",
              "      <td>994.000000</td>\n",
              "      <td>994.0</td>\n",
              "      <td>994.000000</td>\n",
              "      <td>994.000000</td>\n",
              "      <td>994.000000</td>\n",
              "    </tr>\n",
              "    <tr>\n",
              "      <th>mean</th>\n",
              "      <td>0.426698</td>\n",
              "      <td>0.443975</td>\n",
              "      <td>0.507042</td>\n",
              "      <td>0.474849</td>\n",
              "      <td>0.424883</td>\n",
              "      <td>0.502476</td>\n",
              "      <td>0.201896</td>\n",
              "      <td>0.463783</td>\n",
              "      <td>0.494634</td>\n",
              "      <td>0.512692</td>\n",
              "      <td>...</td>\n",
              "      <td>0.452576</td>\n",
              "      <td>0.504179</td>\n",
              "      <td>0.508790</td>\n",
              "      <td>0.505785</td>\n",
              "      <td>0.467270</td>\n",
              "      <td>0.248994</td>\n",
              "      <td>0.0</td>\n",
              "      <td>0.480751</td>\n",
              "      <td>0.506585</td>\n",
              "      <td>0.463380</td>\n",
              "    </tr>\n",
              "    <tr>\n",
              "      <th>std</th>\n",
              "      <td>0.240313</td>\n",
              "      <td>0.203319</td>\n",
              "      <td>0.415523</td>\n",
              "      <td>0.402499</td>\n",
              "      <td>0.408046</td>\n",
              "      <td>0.168078</td>\n",
              "      <td>0.401223</td>\n",
              "      <td>0.498938</td>\n",
              "      <td>0.324961</td>\n",
              "      <td>0.309271</td>\n",
              "      <td>...</td>\n",
              "      <td>0.235036</td>\n",
              "      <td>0.310061</td>\n",
              "      <td>0.293301</td>\n",
              "      <td>0.300326</td>\n",
              "      <td>0.288265</td>\n",
              "      <td>0.261924</td>\n",
              "      <td>0.0</td>\n",
              "      <td>0.293300</td>\n",
              "      <td>0.318378</td>\n",
              "      <td>0.294742</td>\n",
              "    </tr>\n",
              "    <tr>\n",
              "      <th>min</th>\n",
              "      <td>0.000000</td>\n",
              "      <td>0.000000</td>\n",
              "      <td>0.000000</td>\n",
              "      <td>0.000000</td>\n",
              "      <td>0.000000</td>\n",
              "      <td>0.000000</td>\n",
              "      <td>0.000000</td>\n",
              "      <td>0.000000</td>\n",
              "      <td>0.000000</td>\n",
              "      <td>0.000000</td>\n",
              "      <td>...</td>\n",
              "      <td>0.000000</td>\n",
              "      <td>0.000000</td>\n",
              "      <td>0.000000</td>\n",
              "      <td>0.000000</td>\n",
              "      <td>0.000000</td>\n",
              "      <td>0.000000</td>\n",
              "      <td>0.0</td>\n",
              "      <td>0.000000</td>\n",
              "      <td>0.000000</td>\n",
              "      <td>0.000000</td>\n",
              "    </tr>\n",
              "    <tr>\n",
              "      <th>25%</th>\n",
              "      <td>0.242171</td>\n",
              "      <td>0.288889</td>\n",
              "      <td>0.000000</td>\n",
              "      <td>0.000000</td>\n",
              "      <td>0.000000</td>\n",
              "      <td>0.385783</td>\n",
              "      <td>0.000000</td>\n",
              "      <td>0.000000</td>\n",
              "      <td>0.166667</td>\n",
              "      <td>0.230769</td>\n",
              "      <td>...</td>\n",
              "      <td>0.349015</td>\n",
              "      <td>0.230769</td>\n",
              "      <td>0.263158</td>\n",
              "      <td>0.250000</td>\n",
              "      <td>0.233333</td>\n",
              "      <td>0.000000</td>\n",
              "      <td>0.0</td>\n",
              "      <td>0.233333</td>\n",
              "      <td>0.181818</td>\n",
              "      <td>0.200000</td>\n",
              "    </tr>\n",
              "    <tr>\n",
              "      <th>50%</th>\n",
              "      <td>0.417537</td>\n",
              "      <td>0.422222</td>\n",
              "      <td>0.500000</td>\n",
              "      <td>0.500000</td>\n",
              "      <td>0.333333</td>\n",
              "      <td>0.502305</td>\n",
              "      <td>0.000000</td>\n",
              "      <td>0.000000</td>\n",
              "      <td>0.500000</td>\n",
              "      <td>0.538462</td>\n",
              "      <td>...</td>\n",
              "      <td>0.499869</td>\n",
              "      <td>0.538462</td>\n",
              "      <td>0.526316</td>\n",
              "      <td>0.500000</td>\n",
              "      <td>0.466667</td>\n",
              "      <td>0.000000</td>\n",
              "      <td>0.0</td>\n",
              "      <td>0.483333</td>\n",
              "      <td>0.545455</td>\n",
              "      <td>0.480000</td>\n",
              "    </tr>\n",
              "    <tr>\n",
              "      <th>75%</th>\n",
              "      <td>0.577766</td>\n",
              "      <td>0.572222</td>\n",
              "      <td>1.000000</td>\n",
              "      <td>1.000000</td>\n",
              "      <td>1.000000</td>\n",
              "      <td>0.613049</td>\n",
              "      <td>0.000000</td>\n",
              "      <td>1.000000</td>\n",
              "      <td>0.833333</td>\n",
              "      <td>0.769231</td>\n",
              "      <td>...</td>\n",
              "      <td>0.612979</td>\n",
              "      <td>0.769231</td>\n",
              "      <td>0.763158</td>\n",
              "      <td>0.750000</td>\n",
              "      <td>0.700000</td>\n",
              "      <td>0.500000</td>\n",
              "      <td>0.0</td>\n",
              "      <td>0.733333</td>\n",
              "      <td>0.818182</td>\n",
              "      <td>0.720000</td>\n",
              "    </tr>\n",
              "    <tr>\n",
              "      <th>max</th>\n",
              "      <td>1.000000</td>\n",
              "      <td>1.000000</td>\n",
              "      <td>1.000000</td>\n",
              "      <td>1.000000</td>\n",
              "      <td>1.000000</td>\n",
              "      <td>1.000000</td>\n",
              "      <td>1.000000</td>\n",
              "      <td>1.000000</td>\n",
              "      <td>1.000000</td>\n",
              "      <td>1.000000</td>\n",
              "      <td>...</td>\n",
              "      <td>1.000000</td>\n",
              "      <td>1.000000</td>\n",
              "      <td>1.000000</td>\n",
              "      <td>1.000000</td>\n",
              "      <td>1.000000</td>\n",
              "      <td>1.000000</td>\n",
              "      <td>0.0</td>\n",
              "      <td>1.000000</td>\n",
              "      <td>1.000000</td>\n",
              "      <td>1.000000</td>\n",
              "    </tr>\n",
              "  </tbody>\n",
              "</table>\n",
              "<p>8 rows × 40 columns</p>\n",
              "</div>\n",
              "      <button class=\"colab-df-convert\" onclick=\"convertToInteractive('df-0dd8f69f-82cf-41a1-83d2-2169be716926')\"\n",
              "              title=\"Convert this dataframe to an interactive table.\"\n",
              "              style=\"display:none;\">\n",
              "        \n",
              "  <svg xmlns=\"http://www.w3.org/2000/svg\" height=\"24px\"viewBox=\"0 0 24 24\"\n",
              "       width=\"24px\">\n",
              "    <path d=\"M0 0h24v24H0V0z\" fill=\"none\"/>\n",
              "    <path d=\"M18.56 5.44l.94 2.06.94-2.06 2.06-.94-2.06-.94-.94-2.06-.94 2.06-2.06.94zm-11 1L8.5 8.5l.94-2.06 2.06-.94-2.06-.94L8.5 2.5l-.94 2.06-2.06.94zm10 10l.94 2.06.94-2.06 2.06-.94-2.06-.94-.94-2.06-.94 2.06-2.06.94z\"/><path d=\"M17.41 7.96l-1.37-1.37c-.4-.4-.92-.59-1.43-.59-.52 0-1.04.2-1.43.59L10.3 9.45l-7.72 7.72c-.78.78-.78 2.05 0 2.83L4 21.41c.39.39.9.59 1.41.59.51 0 1.02-.2 1.41-.59l7.78-7.78 2.81-2.81c.8-.78.8-2.07 0-2.86zM5.41 20L4 18.59l7.72-7.72 1.47 1.35L5.41 20z\"/>\n",
              "  </svg>\n",
              "      </button>\n",
              "      \n",
              "  <style>\n",
              "    .colab-df-container {\n",
              "      display:flex;\n",
              "      flex-wrap:wrap;\n",
              "      gap: 12px;\n",
              "    }\n",
              "\n",
              "    .colab-df-convert {\n",
              "      background-color: #E8F0FE;\n",
              "      border: none;\n",
              "      border-radius: 50%;\n",
              "      cursor: pointer;\n",
              "      display: none;\n",
              "      fill: #1967D2;\n",
              "      height: 32px;\n",
              "      padding: 0 0 0 0;\n",
              "      width: 32px;\n",
              "    }\n",
              "\n",
              "    .colab-df-convert:hover {\n",
              "      background-color: #E2EBFA;\n",
              "      box-shadow: 0px 1px 2px rgba(60, 64, 67, 0.3), 0px 1px 3px 1px rgba(60, 64, 67, 0.15);\n",
              "      fill: #174EA6;\n",
              "    }\n",
              "\n",
              "    [theme=dark] .colab-df-convert {\n",
              "      background-color: #3B4455;\n",
              "      fill: #D2E3FC;\n",
              "    }\n",
              "\n",
              "    [theme=dark] .colab-df-convert:hover {\n",
              "      background-color: #434B5C;\n",
              "      box-shadow: 0px 1px 3px 1px rgba(0, 0, 0, 0.15);\n",
              "      filter: drop-shadow(0px 1px 2px rgba(0, 0, 0, 0.3));\n",
              "      fill: #FFFFFF;\n",
              "    }\n",
              "  </style>\n",
              "\n",
              "      <script>\n",
              "        const buttonEl =\n",
              "          document.querySelector('#df-0dd8f69f-82cf-41a1-83d2-2169be716926 button.colab-df-convert');\n",
              "        buttonEl.style.display =\n",
              "          google.colab.kernel.accessAllowed ? 'block' : 'none';\n",
              "\n",
              "        async function convertToInteractive(key) {\n",
              "          const element = document.querySelector('#df-0dd8f69f-82cf-41a1-83d2-2169be716926');\n",
              "          const dataTable =\n",
              "            await google.colab.kernel.invokeFunction('convertToInteractive',\n",
              "                                                     [key], {});\n",
              "          if (!dataTable) return;\n",
              "\n",
              "          const docLinkHtml = 'Like what you see? Visit the ' +\n",
              "            '<a target=\"_blank\" href=https://colab.research.google.com/notebooks/data_table.ipynb>data table notebook</a>'\n",
              "            + ' to learn more about interactive tables.';\n",
              "          element.innerHTML = '';\n",
              "          dataTable['output_type'] = 'display_data';\n",
              "          await google.colab.output.renderOutput(dataTable, element);\n",
              "          const docLink = document.createElement('div');\n",
              "          docLink.innerHTML = docLinkHtml;\n",
              "          element.appendChild(docLink);\n",
              "        }\n",
              "      </script>\n",
              "    </div>\n",
              "  </div>\n",
              "  "
            ]
          },
          "metadata": {},
          "execution_count": 41
        }
      ]
    },
    {
      "cell_type": "code",
      "source": [
        "sns.set_style(\"whitegrid\")\n",
        "sns.countplot(x=\"fraud_reported\", data=df)"
      ],
      "metadata": {
        "id": "pXchGMR04p1m",
        "colab": {
          "base_uri": "https://localhost:8080/",
          "height": 298
        },
        "outputId": "388a6be0-b78d-4aff-edfb-44cecf401f47"
      },
      "execution_count": null,
      "outputs": [
        {
          "output_type": "execute_result",
          "data": {
            "text/plain": [
              "<matplotlib.axes._subplots.AxesSubplot at 0x7ffbc0f61c90>"
            ]
          },
          "metadata": {},
          "execution_count": 42
        },
        {
          "output_type": "display_data",
          "data": {
            "text/plain": [
              "<Figure size 432x288 with 1 Axes>"
            ],
            "image/png": "[encoded data removed]"
          },
          "metadata": {}
        }
      ]
    },
    {
      "cell_type": "markdown",
      "source": [
        "Total data would be scalled using\n",
        "Imbalanced learn\n",
        "Using OverSampling_Borderline *SMOTE*"
      ],
      "metadata": {
        "id": "7LYk9a86RsTF"
      }
    },
    {
      "cell_type": "code",
      "source": [
        "from imblearn.over_sampling import BorderlineSMOTE\n",
        "x_rus, y_rus =BorderlineSMOTE().fit_resample(x, y)\n",
        "print('original  Target dataset shape:',y.shape)\n",
        "print('Resample Target dataset shape',y_rus.shape)"
      ],
      "metadata": {
        "id": "8eGxXhtYR1f4",
        "colab": {
          "base_uri": "https://localhost:8080/"
        },
        "outputId": "3fd40419-5a99-4d90-9117-127ed58e4fdb"
      },
      "execution_count": null,
      "outputs": [
        {
          "output_type": "stream",
          "name": "stdout",
          "text": [
            "original  Target dataset shape: (994,)\n",
            "Resample Target dataset shape (1496,)\n"
          ]
        }
      ]
    },
    {
      "cell_type": "code",
      "source": [
        "sns.set_style(\"whitegrid\")\n",
        "sns.countplot(y_rus)"
      ],
      "metadata": {
        "id": "KDCzShmOR9VF",
        "colab": {
          "base_uri": "https://localhost:8080/",
          "height": 298
        },
        "outputId": "9634d63e-579e-41ae-8499-0ae7ac46fb2f"
      },
      "execution_count": null,
      "outputs": [
        {
          "output_type": "execute_result",
          "data": {
            "text/plain": [
              "<matplotlib.axes._subplots.AxesSubplot at 0x7ffbc0ee9b90>"
            ]
          },
          "metadata": {},
          "execution_count": 44
        },
        {
          "output_type": "display_data",
          "data": {
            "text/plain": [
              "<Figure size 432x288 with 1 Axes>"
            ],
            "image/png": "[encoded data removed]"
          },
          "metadata": {}
        }
      ]
    },
    {
      "cell_type": "markdown",
      "source": [
        "Now we have balanced data for model training\n",
        "Spliting Train and Test data"
      ],
      "metadata": {
        "id": "Fb_rLK5rSJAt"
      }
    },
    {
      "cell_type": "code",
      "source": [
        "from sklearn.model_selection import train_test_split"
      ],
      "metadata": {
        "id": "Ucwrb805SAvn"
      },
      "execution_count": null,
      "outputs": []
    },
    {
      "cell_type": "code",
      "source": [
        "x_train,x_test,y_train,y_test=train_test_split(x_rus,y_rus,test_size=.27,random_state=42)"
      ],
      "metadata": {
        "id": "FQ18c61fSR0v"
      },
      "execution_count": null,
      "outputs": []
    },
    {
      "cell_type": "code",
      "source": [
        "x_train.shape"
      ],
      "metadata": {
        "id": "2H28XeTGSVxt",
        "colab": {
          "base_uri": "https://localhost:8080/"
        },
        "outputId": "adea7d40-8213-4cb8-9873-f384a3427dba"
      },
      "execution_count": null,
      "outputs": [
        {
          "output_type": "execute_result",
          "data": {
            "text/plain": [
              "(1092, 40)"
            ]
          },
          "metadata": {},
          "execution_count": 47
        }
      ]
    },
    {
      "cell_type": "code",
      "source": [
        "y_train.shape\n",
        "x_test.shape\n",
        "y_test.shape"
      ],
      "metadata": {
        "id": "KaHwpe6_SZgd",
        "colab": {
          "base_uri": "https://localhost:8080/"
        },
        "outputId": "06613f16-8f13-4ba9-985e-9274524fe947"
      },
      "execution_count": null,
      "outputs": [
        {
          "output_type": "execute_result",
          "data": {
            "text/plain": [
              "(404,)"
            ]
          },
          "metadata": {},
          "execution_count": 48
        }
      ]
    },
    {
      "cell_type": "markdown",
      "source": [
        "MODEL BUILDING:"
      ],
      "metadata": {
        "id": "e9dIS83-StN3"
      }
    },
    {
      "cell_type": "code",
      "source": [
        "# importing necessary libraries\n",
        "    \n",
        "from sklearn.linear_model import LogisticRegression             #classification model\n",
        "from sklearn.svm import SVC                                     #classification model\n",
        "from sklearn.tree import DecisionTreeClassifier                 #classification model\n",
        "from sklearn.neighbors import KNeighborsClassifier\n",
        "from sklearn.model_selection import train_test_split            #for splitting dataset into training and testing\n",
        "from sklearn.metrics import accuracy_score                      #for checking model accuracy\n",
        "from sklearn.metrics import roc_auc_score                       #for checking model accuracy\n",
        "from sklearn.metrics import confusion_matrix, classification_report      #for checking model accuracy\n",
        "from sklearn.ensemble import RandomForestClassifier             #classification model\n",
        "from sklearn.ensemble import AdaBoostClassifier\n",
        "from sklearn.ensemble import BaggingClassifier\n",
        "from sklearn.ensemble import GradientBoostingClassifier\n",
        "from sklearn.model_selection import GridSearchCV\n",
        "from sklearn.metrics import precision_score\n",
        "from sklearn.metrics import recall_score\n",
        "from sklearn.metrics import f1_score\n",
        "\n",
        "import warnings\n",
        "from sklearn.model_selection import cross_val_score\n",
        "warnings.filterwarnings('ignore')"
      ],
      "metadata": {
        "id": "xXGnszaMSpyY"
      },
      "execution_count": null,
      "outputs": []
    },
    {
      "cell_type": "markdown",
      "source": [
        "LogisticRegression"
      ],
      "metadata": {
        "id": "V62-hspdSy6N"
      }
    },
    {
      "cell_type": "code",
      "source": [
        "logreg=LogisticRegression()\n",
        "logreg_score=cross_val_score(logreg,x_rus,y_rus,cv=5,scoring='accuracy')\n",
        "print(\"cross validation score:\",np.mean(logreg_score))"
      ],
      "metadata": {
        "id": "dGScEZ4iS31D",
        "colab": {
          "base_uri": "https://localhost:8080/"
        },
        "outputId": "6e1ff694-9424-466c-c853-c1553ae54e82"
      },
      "execution_count": null,
      "outputs": [
        {
          "output_type": "stream",
          "name": "stdout",
          "text": [
            "cross validation score: 0.7386532887402453\n"
          ]
        }
      ]
    },
    {
      "cell_type": "code",
      "source": [
        "logreg.fit(x_train,y_train)\n",
        "LR_predicted=logreg.predict(x_test)\n",
        "\n",
        "print(accuracy_score(y_test,LR_predicted))\n",
        "print(confusion_matrix(y_test,LR_predicted))\n",
        "print(classification_report(y_test,LR_predicted))\n",
        "print(\"Training accuracy::\",logreg.score(x_train,y_train))\n",
        "print(\"Test accuracy::\",logreg.score(x_test,y_test))"
      ],
      "metadata": {
        "id": "XS5Cz9LlS9jm",
        "colab": {
          "base_uri": "https://localhost:8080/"
        },
        "outputId": "931cfbfe-6dfe-40ed-9aa1-c4292801d9ab"
      },
      "execution_count": null,
      "outputs": [
        {
          "output_type": "stream",
          "name": "stdout",
          "text": [
            "0.6905940594059405\n",
            "[[126  60]\n",
            " [ 65 153]]\n",
            "              precision    recall  f1-score   support\n",
            "\n",
            "           0       0.66      0.68      0.67       186\n",
            "           1       0.72      0.70      0.71       218\n",
            "\n",
            "    accuracy                           0.69       404\n",
            "   macro avg       0.69      0.69      0.69       404\n",
            "weighted avg       0.69      0.69      0.69       404\n",
            "\n",
            "Training accuracy:: 0.7582417582417582\n",
            "Test accuracy:: 0.6905940594059405\n"
          ]
        }
      ]
    },
    {
      "cell_type": "markdown",
      "source": [
        "KNeighborsClassifier"
      ],
      "metadata": {
        "id": "yxSDXBc2TGVe"
      }
    },
    {
      "cell_type": "code",
      "source": [
        "# getting to know the validation score\n",
        "knn=KNeighborsClassifier()\n",
        "knn_score=cross_val_score(knn,x_rus,y_rus,cv=5,scoring='accuracy')\n",
        "print(\"cross validation score for knn:\",np.mean(knn_score))"
      ],
      "metadata": {
        "id": "ev8YZE1GTC0G",
        "colab": {
          "base_uri": "https://localhost:8080/"
        },
        "outputId": "f5ee6c13-2bb0-49dc-dcd7-2419230ad6c3"
      },
      "execution_count": null,
      "outputs": [
        {
          "output_type": "stream",
          "name": "stdout",
          "text": [
            "cross validation score for knn: 0.6597770345596432\n"
          ]
        }
      ]
    },
    {
      "cell_type": "code",
      "source": [
        "knn.fit(x_train,y_train)\n",
        "predicted_knn=knn.predict(x_test)\n",
        "print(accuracy_score(y_test,predicted_knn))\n",
        "print(confusion_matrix(y_test,predicted_knn))\n",
        "print(classification_report(y_test,predicted_knn))\n",
        "print(\"Training accuracy::\",knn.score(x_train,y_train))\n",
        "print(\"Test accuracy::\",knn.score(x_test,y_test))"
      ],
      "metadata": {
        "id": "3_Cw6aYJTlEe",
        "colab": {
          "base_uri": "https://localhost:8080/"
        },
        "outputId": "005f7819-e9af-428e-86d0-fdfa6b3838d9"
      },
      "execution_count": null,
      "outputs": [
        {
          "output_type": "stream",
          "name": "stdout",
          "text": [
            "0.6831683168316832\n",
            "[[ 68 118]\n",
            " [ 10 208]]\n",
            "              precision    recall  f1-score   support\n",
            "\n",
            "           0       0.87      0.37      0.52       186\n",
            "           1       0.64      0.95      0.76       218\n",
            "\n",
            "    accuracy                           0.68       404\n",
            "   macro avg       0.75      0.66      0.64       404\n",
            "weighted avg       0.75      0.68      0.65       404\n",
            "\n",
            "Training accuracy:: 0.7362637362637363\n",
            "Test accuracy:: 0.6831683168316832\n"
          ]
        }
      ]
    },
    {
      "cell_type": "markdown",
      "source": [
        "RandomForestClassifier"
      ],
      "metadata": {
        "id": "DkAlIpQsTsoY"
      }
    },
    {
      "cell_type": "code",
      "source": [
        "# getting to know the score of RFC cross validation score\n",
        "rfc=RandomForestClassifier()\n",
        "rfc_score=cross_val_score(rfc,x_rus,y_rus,cv=5,scoring='accuracy')\n",
        "print(\"cross validation score for rfc:\",np.mean(rfc_score))"
      ],
      "metadata": {
        "id": "BJgmjvKeTpIG",
        "colab": {
          "base_uri": "https://localhost:8080/"
        },
        "outputId": "ad401c02-069c-4dc5-d024-c93687c8c9b6"
      },
      "execution_count": null,
      "outputs": [
        {
          "output_type": "stream",
          "name": "stdout",
          "text": [
            "cross validation score for rfc: 0.8777725752508362\n"
          ]
        }
      ]
    },
    {
      "cell_type": "markdown",
      "source": [],
      "metadata": {
        "id": "GJYtodK1Q-Ys"
      }
    },
    {
      "cell_type": "code",
      "source": [
        "rfc.fit(x_train,y_train)\n",
        "predicted_rfc=rfc.predict(x_test)\n",
        "print(accuracy_score(y_test,predicted_rfc))\n",
        "print(confusion_matrix(y_test,predicted_rfc))\n",
        "print(classification_report(y_test,predicted_rfc))\n",
        "print(\"Training accuracy::\",rfc.score(x_train,y_train))\n",
        "print(\"Test accuracy::\",rfc.score(x_test,y_test))"
      ],
      "metadata": {
        "id": "kAhe1K_gTyat",
        "colab": {
          "base_uri": "https://localhost:8080/"
        },
        "outputId": "bc2964dc-ae76-43e4-f27f-997ae6a7068e"
      },
      "execution_count": null,
      "outputs": [
        {
          "output_type": "stream",
          "name": "stdout",
          "text": [
            "0.8564356435643564\n",
            "[[160  26]\n",
            " [ 32 186]]\n",
            "              precision    recall  f1-score   support\n",
            "\n",
            "           0       0.83      0.86      0.85       186\n",
            "           1       0.88      0.85      0.87       218\n",
            "\n",
            "    accuracy                           0.86       404\n",
            "   macro avg       0.86      0.86      0.86       404\n",
            "weighted avg       0.86      0.86      0.86       404\n",
            "\n",
            "Training accuracy:: 1.0\n",
            "Test accuracy:: 0.8564356435643564\n"
          ]
        }
      ]
    },
    {
      "cell_type": "markdown",
      "source": [
        "\n",
        "ENSEMBLE TECHNIQUES:\n",
        "1.ADA BOOST CLASSIFIER"
      ],
      "metadata": {
        "id": "dF7qCyjWT6yF"
      }
    },
    {
      "cell_type": "code",
      "source": [
        "# using ADA boost classifier\n",
        "adb=AdaBoostClassifier()\n",
        "adb_score=cross_val_score(adb,x_rus,y_rus,cv=10,scoring='accuracy')\n",
        "print(\"cross validation score for Ada boost:\",np.mean(adb_score))"
      ],
      "metadata": {
        "id": "SBvcspfMT3B9",
        "colab": {
          "base_uri": "https://localhost:8080/"
        },
        "outputId": "2aa753be-b4c0-4a73-8143-e567d63124ae"
      },
      "execution_count": null,
      "outputs": [
        {
          "output_type": "stream",
          "name": "stdout",
          "text": [
            "cross validation score for Ada boost: 0.8578076062639821\n"
          ]
        }
      ]
    },
    {
      "cell_type": "code",
      "source": [
        "adb.fit(x_train,y_train)\n",
        "predicted_adb=adb.predict(x_test)\n",
        "print(accuracy_score(y_test,predicted_adb))\n",
        "print(confusion_matrix(y_test,predicted_adb))\n",
        "print(classification_report(y_test,predicted_adb))\n",
        "print(\"Training accuracy::\",adb.score(x_train,y_train))\n",
        "print(\"Test accuracy::\",adb.score(x_test,y_test))"
      ],
      "metadata": {
        "id": "FdBmKX11UARv",
        "colab": {
          "base_uri": "https://localhost:8080/"
        },
        "outputId": "cf8e9191-13fe-48d9-c5a5-e85c7876664e"
      },
      "execution_count": null,
      "outputs": [
        {
          "output_type": "stream",
          "name": "stdout",
          "text": [
            "0.849009900990099\n",
            "[[159  27]\n",
            " [ 34 184]]\n",
            "              precision    recall  f1-score   support\n",
            "\n",
            "           0       0.82      0.85      0.84       186\n",
            "           1       0.87      0.84      0.86       218\n",
            "\n",
            "    accuracy                           0.85       404\n",
            "   macro avg       0.85      0.85      0.85       404\n",
            "weighted avg       0.85      0.85      0.85       404\n",
            "\n",
            "Training accuracy:: 0.9084249084249084\n",
            "Test accuracy:: 0.849009900990099\n"
          ]
        }
      ]
    },
    {
      "cell_type": "markdown",
      "source": [
        "2.Bagging Classifier:"
      ],
      "metadata": {
        "id": "JACYo6DmUILW"
      }
    },
    {
      "cell_type": "code",
      "source": [
        "# using Bagging classifier\n",
        "bgc=BaggingClassifier()\n",
        "bgc_score=cross_val_score(bgc,x_rus,y_rus,cv=10,scoring='accuracy')\n",
        "print(\"cross validation score for BAGGING Classifier:\",np.mean(bgc_score))"
      ],
      "metadata": {
        "id": "IgFkwssDUElO",
        "colab": {
          "base_uri": "https://localhost:8080/"
        },
        "outputId": "418a4cce-61ed-49aa-9f6d-fd85ed59afd8"
      },
      "execution_count": null,
      "outputs": [
        {
          "output_type": "stream",
          "name": "stdout",
          "text": [
            "cross validation score for BAGGING Classifier: 0.8637807606263982\n"
          ]
        }
      ]
    },
    {
      "cell_type": "code",
      "source": [
        "bgc.fit(x_train,y_train)\n",
        "predicted_bgc=bgc.predict(x_test)\n",
        "print(accuracy_score(y_test,predicted_bgc))\n",
        "print(confusion_matrix(y_test,predicted_bgc))\n",
        "print(classification_report(y_test,predicted_bgc))\n",
        "print(\"Training accuracy::\",bgc.score(x_train,y_train))\n",
        "print(\"Test accuracy::\",bgc.score(x_test,y_test))"
      ],
      "metadata": {
        "id": "EyEOwEn2UOhA",
        "colab": {
          "base_uri": "https://localhost:8080/"
        },
        "outputId": "146281af-6913-41cc-d7b2-dfe943db9850"
      },
      "execution_count": null,
      "outputs": [
        {
          "output_type": "stream",
          "name": "stdout",
          "text": [
            "0.849009900990099\n",
            "[[156  30]\n",
            " [ 31 187]]\n",
            "              precision    recall  f1-score   support\n",
            "\n",
            "           0       0.83      0.84      0.84       186\n",
            "           1       0.86      0.86      0.86       218\n",
            "\n",
            "    accuracy                           0.85       404\n",
            "   macro avg       0.85      0.85      0.85       404\n",
            "weighted avg       0.85      0.85      0.85       404\n",
            "\n",
            "Training accuracy:: 0.9926739926739927\n",
            "Test accuracy:: 0.849009900990099\n"
          ]
        }
      ]
    },
    {
      "cell_type": "markdown",
      "source": [
        "3.Gradient Boosting classifier:"
      ],
      "metadata": {
        "id": "-mq510TYUYW2"
      }
    },
    {
      "cell_type": "code",
      "source": [
        "# using Gradient Boosting Classifier\n",
        "grbc=GradientBoostingClassifier()\n",
        "grbc_score=cross_val_score(grbc,x_rus,y_rus,cv=10,scoring='accuracy')\n",
        "print(\"cross validation score for Gradient Boosting Classifier:\",np.mean(grbc_score))"
      ],
      "metadata": {
        "id": "Jqg0xApbUSU2",
        "colab": {
          "base_uri": "https://localhost:8080/"
        },
        "outputId": "7f23bb41-0f2b-42ed-d395-5fb0b1383bd6"
      },
      "execution_count": null,
      "outputs": [
        {
          "output_type": "stream",
          "name": "stdout",
          "text": [
            "cross validation score for Gradient Boosting Classifier: 0.8898434004474274\n"
          ]
        }
      ]
    },
    {
      "cell_type": "code",
      "source": [
        "grbc.fit(x_train,y_train)\n",
        "predicted_grbc=grbc.predict(x_test)\n",
        "print(accuracy_score(y_test,predicted_grbc))\n",
        "print(confusion_matrix(y_test,predicted_grbc))\n",
        "print(classification_report(y_test,predicted_grbc))\n",
        "print(\"Training accuracy::\",grbc.score(x_train,y_train))\n",
        "print(\"Test accuracy::\",grbc.score(x_test,y_test))"
      ],
      "metadata": {
        "id": "zOQl2fLsUek-",
        "colab": {
          "base_uri": "https://localhost:8080/"
        },
        "outputId": "1aa3246a-773f-47a2-e2b3-bc778538b7ed"
      },
      "execution_count": null,
      "outputs": [
        {
          "output_type": "stream",
          "name": "stdout",
          "text": [
            "0.8861386138613861\n",
            "[[157  29]\n",
            " [ 17 201]]\n",
            "              precision    recall  f1-score   support\n",
            "\n",
            "           0       0.90      0.84      0.87       186\n",
            "           1       0.87      0.92      0.90       218\n",
            "\n",
            "    accuracy                           0.89       404\n",
            "   macro avg       0.89      0.88      0.88       404\n",
            "weighted avg       0.89      0.89      0.89       404\n",
            "\n",
            "Training accuracy:: 0.9743589743589743\n",
            "Test accuracy:: 0.8861386138613861\n"
          ]
        }
      ]
    },
    {
      "cell_type": "markdown",
      "source": [
        "\n",
        "\n",
        "GradientBoostingClassifier as final model\n",
        "\n",
        "for HYPER PARAMETER TUNING because both train and test accuracies are pretty close and highest as well.\n",
        "HYPER PARAMETER TUNING:\n",
        "GradientBoostingClassifier"
      ],
      "metadata": {
        "id": "3jZndR6tUmsW"
      }
    },
    {
      "cell_type": "code",
      "source": [
        "adb=GradientBoostingClassifier()\n",
        "param_grid={\n",
        "    'criterion' : ['mse', 'mae'],\n",
        "    'n_estimators':[100,200],\n",
        "    'learning_rate':[0.1,0.5,1.0],\n",
        "     'random_state':[5]              \n",
        "}"
      ],
      "metadata": {
        "id": "N3uLWaL-Uiwm"
      },
      "execution_count": null,
      "outputs": []
    },
    {
      "cell_type": "code",
      "source": [
        "adb_grid=GridSearchCV(GradientBoostingClassifier(),param_grid,cv=4,scoring='accuracy',n_jobs=-1,verbose=1)"
      ],
      "metadata": {
        "id": "QX8aRcI4UtUH"
      },
      "execution_count": null,
      "outputs": []
    },
    {
      "cell_type": "code",
      "source": [
        "# Accuracy after parameter tuning\n",
        "adb_grid.fit(x_train,y_train)\n",
        "adb_pred=adb_grid.best_estimator_.predict(x_test)\n",
        "print(\"Accuracy after parameter tuning::\",accuracy_score(y_test,adb_pred))"
      ],
      "metadata": {
        "id": "20VgjcZHUzLu",
        "colab": {
          "base_uri": "https://localhost:8080/"
        },
        "outputId": "5c808a6b-6562-4733-d25c-3c58b0431a3e"
      },
      "execution_count": null,
      "outputs": [
        {
          "output_type": "stream",
          "name": "stdout",
          "text": [
            "Fitting 4 folds for each of 12 candidates, totalling 48 fits\n",
            "Accuracy after parameter tuning:: 0.8539603960396039\n"
          ]
        }
      ]
    },
    {
      "cell_type": "code",
      "source": [
        "adb_grid.best_params_"
      ],
      "metadata": {
        "id": "K9qnhwFkU3R-",
        "colab": {
          "base_uri": "https://localhost:8080/"
        },
        "outputId": "04f7ded2-f99d-41b5-d2bc-35e1b50c7576"
      },
      "execution_count": null,
      "outputs": [
        {
          "output_type": "execute_result",
          "data": {
            "text/plain": [
              "{'criterion': 'mse',\n",
              " 'learning_rate': 1.0,\n",
              " 'n_estimators': 100,\n",
              " 'random_state': 5}"
            ]
          },
          "metadata": {},
          "execution_count": 65
        }
      ]
    },
    {
      "cell_type": "markdown",
      "source": [
        "model training with best parameters"
      ],
      "metadata": {
        "id": "lPuHnxW7U_jO"
      }
    },
    {
      "cell_type": "code",
      "source": [
        "best_param={\n",
        "    'criterion' : ['mse'],\n",
        "    'n_estimators':[100],\n",
        "    'learning_rate':[0.5],\n",
        "     'random_state':[5]   \n",
        "}"
      ],
      "metadata": {
        "id": "3xtwoOzsU7b2"
      },
      "execution_count": null,
      "outputs": []
    },
    {
      "cell_type": "code",
      "source": [
        "best_adb_grid=GridSearchCV(GradientBoostingClassifier(),best_param,cv=4,scoring='accuracy',n_jobs=-1,verbose=2)"
      ],
      "metadata": {
        "id": "zsDoPkdVVHwW"
      },
      "execution_count": null,
      "outputs": []
    },
    {
      "cell_type": "code",
      "source": [
        "best_adb_grid.fit(x_train,y_train)\n",
        "best_adb_pred=best_adb_grid.best_estimator_.predict(x_test)\n",
        "print(\"Accuracy after parameter tuning::\",accuracy_score(y_test,best_adb_pred))"
      ],
      "metadata": {
        "id": "xIPvZyECVLi9",
        "colab": {
          "base_uri": "https://localhost:8080/"
        },
        "outputId": "acaf0bb1-9528-44ff-a884-df0ce2d60fca"
      },
      "execution_count": null,
      "outputs": [
        {
          "output_type": "stream",
          "name": "stdout",
          "text": [
            "Fitting 4 folds for each of 1 candidates, totalling 4 fits\n",
            "Accuracy after parameter tuning:: 0.8836633663366337\n"
          ]
        }
      ]
    },
    {
      "cell_type": "markdown",
      "source": [
        "As we notice after HYPER PARAMETER TUNING models accuracy score got increased.\n",
        "Report of GradientBoostingClassifier:"
      ],
      "metadata": {
        "id": "HrT98UnhVWNt"
      }
    },
    {
      "cell_type": "code",
      "source": [
        "print(\"CLASSIFICATION REPORT::\\n\",classification_report(y_test,best_adb_pred))"
      ],
      "metadata": {
        "id": "bGyRNDnKVR5t",
        "colab": {
          "base_uri": "https://localhost:8080/"
        },
        "outputId": "700b5575-bb6a-46f6-eba3-2ff4d13845d7"
      },
      "execution_count": null,
      "outputs": [
        {
          "output_type": "stream",
          "name": "stdout",
          "text": [
            "CLASSIFICATION REPORT::\n",
            "               precision    recall  f1-score   support\n",
            "\n",
            "           0       0.89      0.85      0.87       186\n",
            "           1       0.88      0.91      0.89       218\n",
            "\n",
            "    accuracy                           0.88       404\n",
            "   macro avg       0.88      0.88      0.88       404\n",
            "weighted avg       0.88      0.88      0.88       404\n",
            "\n"
          ]
        }
      ]
    },
    {
      "cell_type": "code",
      "source": [
        "clsf_repo = classification_report(y_test,best_adb_pred,output_dict=True)\n",
        "sns.heatmap(pd.DataFrame(clsf_repo).T, annot=True)"
      ],
      "metadata": {
        "id": "j6YTNIgZVdV1",
        "colab": {
          "base_uri": "https://localhost:8080/",
          "height": 284
        },
        "outputId": "a4b8b22f-4695-4d17-d2df-ddf0cbc1d135"
      },
      "execution_count": null,
      "outputs": [
        {
          "output_type": "execute_result",
          "data": {
            "text/plain": [
              "<matplotlib.axes._subplots.AxesSubplot at 0x7ffbc0fbe650>"
            ]
          },
          "metadata": {},
          "execution_count": 70
        },
        {
          "output_type": "display_data",
          "data": {
            "text/plain": [
              "<Figure size 432x288 with 2 Axes>"
            ],
            "image/png": "[encoded data removed]"
          },
          "metadata": {}
        }
      ]
    },
    {
      "cell_type": "code",
      "source": [
        "from sklearn.metrics import roc_auc_score"
      ],
      "metadata": {
        "id": "aVajMNNqVg8F"
      },
      "execution_count": null,
      "outputs": []
    },
    {
      "cell_type": "code",
      "source": [
        "print(\"roc auc score::\",roc_auc_score(y_test, best_adb_pred))"
      ],
      "metadata": {
        "id": "GBQS8h9HVlCI",
        "colab": {
          "base_uri": "https://localhost:8080/"
        },
        "outputId": "3465ae98-279b-4f1a-84a3-b09a9da98cc8"
      },
      "execution_count": null,
      "outputs": [
        {
          "output_type": "stream",
          "name": "stdout",
          "text": [
            "roc auc score:: 0.8811532011443227\n"
          ]
        }
      ]
    },
    {
      "cell_type": "code",
      "source": [
        "from sklearn.metrics import roc_curve"
      ],
      "metadata": {
        "id": "Cm7b7dLsVoWE"
      },
      "execution_count": null,
      "outputs": []
    },
    {
      "cell_type": "code",
      "source": [
        "fpr1, tpr1, thresh1 = roc_curve(y_test, best_adb_pred, pos_label=1)"
      ],
      "metadata": {
        "id": "XG-3wihGVtdH"
      },
      "execution_count": null,
      "outputs": []
    },
    {
      "cell_type": "code",
      "source": [
        "#plotting ROC CURVE\n",
        "sns.set_theme(style=\"darkgrid\")\n",
        "plt.plot(fpr1, tpr1, linestyle='--',color='red', label='GradientBoostingClassifier')\n",
        "\n",
        "plt.title('ROC curve')\n",
        "plt.xlabel('False Positive Rate')\n",
        "plt.ylabel('True Positive rate')\n",
        "plt.legend(loc='best')"
      ],
      "metadata": {
        "id": "S4f4zS1fVxfu",
        "colab": {
          "base_uri": "https://localhost:8080/",
          "height": 318
        },
        "outputId": "bdb34477-9f83-43fe-b86d-79b369212a45"
      },
      "execution_count": null,
      "outputs": [
        {
          "output_type": "execute_result",
          "data": {
            "text/plain": [
              "<matplotlib.legend.Legend at 0x7ffbc570add0>"
            ]
          },
          "metadata": {},
          "execution_count": 75
        },
        {
          "output_type": "display_data",
          "data": {
            "text/plain": [
              "<Figure size 432x288 with 1 Axes>"
            ],
            "image/png": "[encoded data removed]"
          },
          "metadata": {}
        }
      ]
    },
    {
      "cell_type": "code",
      "source": [],
      "metadata": {
        "id": "TkwTxvv7V1vO"
      },
      "execution_count": null,
      "outputs": []
    }
  ]
}