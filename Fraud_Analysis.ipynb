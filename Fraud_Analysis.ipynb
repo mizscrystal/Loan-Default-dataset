{
  "nbformat": 4,
  "nbformat_minor": 5,
  "metadata": {
    "kernelspec": {
      "display_name": "Python 3",
      "language": "python",
      "name": "python3"
    },
    "language_info": {
      "codemirror_mode": {
        "name": "ipython",
        "version": 3
      },
      "file_extension": ".py",
      "mimetype": "text/x-python",
      "name": "python",
      "nbconvert_exporter": "python",
      "pygments_lexer": "ipython3",
      "version": "3.7.9"
    },
    "colab": {
      "provenance": []
    }
  },
  "cells": [
    {
      "cell_type": "code",
      "metadata": {
        "id": "generous-corps"
      },
      "source": [
        "import pandas as pd\n",
        "import numpy as np\n",
        "import matplotlib.pyplot as plt\n",
        "import seaborn as sb\n",
        "import warnings\n",
        "warnings.filterwarnings(\"ignore\")"
      ],
      "id": "generous-corps",
      "execution_count": null,
      "outputs": []
    },
    {
      "cell_type": "code",
      "metadata": {
        "id": "turned-malawi"
      },
      "source": [
        "sb.set(rc={'figure.figsize':(12,8)})"
      ],
      "id": "turned-malawi",
      "execution_count": null,
      "outputs": []
    },
    {
      "cell_type": "code",
      "metadata": {
        "id": "recreational-slave"
      },
      "source": [
        "df = pd.read_excel(\"C:/Users/admin/Desktop/Fraud Analysis.xlsx\", sheet_name = None)"
      ],
      "id": "recreational-slave",
      "execution_count": null,
      "outputs": []
    },
    {
      "cell_type": "code",
      "metadata": {
        "id": "married-finance",
        "outputId": "1f2131cf-4dcb-4bb2-d6af-c1f21c5607d1"
      },
      "source": [
        "df.keys()"
      ],
      "id": "married-finance",
      "execution_count": null,
      "outputs": [
        {
          "data": {
            "text/plain": [
              "dict_keys(['Information', 'Order Data'])"
            ]
          },
          "execution_count": 13,
          "metadata": {},
          "output_type": "execute_result"
        }
      ]
    },
    {
      "cell_type": "code",
      "metadata": {
        "id": "respected-messenger"
      },
      "source": [
        "df = df[\"Order Data\"]"
      ],
      "id": "respected-messenger",
      "execution_count": null,
      "outputs": []
    },
    {
      "cell_type": "code",
      "metadata": {
        "id": "caroline-jewel"
      },
      "source": [
        "data = df.copy()"
      ],
      "id": "caroline-jewel",
      "execution_count": null,
      "outputs": []
    },
    {
      "cell_type": "code",
      "metadata": {
        "id": "noticed-integration"
      },
      "source": [
        "data = data.iloc[:, :-3]"
      ],
      "id": "noticed-integration",
      "execution_count": null,
      "outputs": []
    },
    {
      "cell_type": "code",
      "metadata": {
        "id": "bound-regard",
        "outputId": "c7f7f44e-d69d-4e39-b38a-2c7a9fb092f0"
      },
      "source": [
        "data"
      ],
      "id": "bound-regard",
      "execution_count": null,
      "outputs": [
        {
          "data": {
            "text/html": [
              "<div>\n",
              "<style scoped>\n",
              "    .dataframe tbody tr th:only-of-type {\n",
              "        vertical-align: middle;\n",
              "    }\n",
              "\n",
              "    .dataframe tbody tr th {\n",
              "        vertical-align: top;\n",
              "    }\n",
              "\n",
              "    .dataframe thead th {\n",
              "        text-align: right;\n",
              "    }\n",
              "</style>\n",
              "<table border=\"1\" class=\"dataframe\">\n",
              "  <thead>\n",
              "    <tr style=\"text-align: right;\">\n",
              "      <th></th>\n",
              "      <th>Event Time</th>\n",
              "      <th>Investigator Action</th>\n",
              "      <th>Order ID</th>\n",
              "      <th>PAYMENT_TYPE</th>\n",
              "      <th>PAYMENT_TYPE 2</th>\n",
              "      <th>BUSINESS_CHANNEL</th>\n",
              "      <th>BPN_NUMBER</th>\n",
              "      <th>Shipping Method</th>\n",
              "      <th>Feedback Type</th>\n",
              "    </tr>\n",
              "  </thead>\n",
              "  <tbody>\n",
              "    <tr>\n",
              "      <th>0</th>\n",
              "      <td>2020-01-16</td>\n",
              "      <td>Accepted by System</td>\n",
              "      <td>PB10878417</td>\n",
              "      <td>reserveAccount</td>\n",
              "      <td>reserveAccount</td>\n",
              "      <td>Product A</td>\n",
              "      <td>10000144</td>\n",
              "      <td>ground</td>\n",
              "      <td>Genuine Customer</td>\n",
              "    </tr>\n",
              "    <tr>\n",
              "      <th>1</th>\n",
              "      <td>2020-01-13</td>\n",
              "      <td>Accepted by System</td>\n",
              "      <td>PB10861140</td>\n",
              "      <td>PB Invoice</td>\n",
              "      <td>PB Invoice</td>\n",
              "      <td>Product B</td>\n",
              "      <td>10000203</td>\n",
              "      <td>ground</td>\n",
              "      <td>Genuine Customer</td>\n",
              "    </tr>\n",
              "    <tr>\n",
              "      <th>2</th>\n",
              "      <td>2020-03-25</td>\n",
              "      <td>Accepted by System</td>\n",
              "      <td>PB11212392</td>\n",
              "      <td>PurchasePower</td>\n",
              "      <td>PurchasePower</td>\n",
              "      <td>Product A</td>\n",
              "      <td>10000203</td>\n",
              "      <td>ground</td>\n",
              "      <td>Genuine Customer</td>\n",
              "    </tr>\n",
              "    <tr>\n",
              "      <th>3</th>\n",
              "      <td>2020-03-01</td>\n",
              "      <td>Reject</td>\n",
              "      <td>PB11096014</td>\n",
              "      <td>PurchasePower</td>\n",
              "      <td>PurchasePower</td>\n",
              "      <td>Product B</td>\n",
              "      <td>10000238</td>\n",
              "      <td>ground</td>\n",
              "      <td>Genuine Customer</td>\n",
              "    </tr>\n",
              "    <tr>\n",
              "      <th>4</th>\n",
              "      <td>2020-03-01</td>\n",
              "      <td>Reject</td>\n",
              "      <td>PB11096015</td>\n",
              "      <td>PurchasePower</td>\n",
              "      <td>PurchasePower</td>\n",
              "      <td>Product B</td>\n",
              "      <td>10000238</td>\n",
              "      <td>ground</td>\n",
              "      <td>Genuine Customer</td>\n",
              "    </tr>\n",
              "    <tr>\n",
              "      <th>...</th>\n",
              "      <td>...</td>\n",
              "      <td>...</td>\n",
              "      <td>...</td>\n",
              "      <td>...</td>\n",
              "      <td>...</td>\n",
              "      <td>...</td>\n",
              "      <td>...</td>\n",
              "      <td>...</td>\n",
              "      <td>...</td>\n",
              "    </tr>\n",
              "    <tr>\n",
              "      <th>105802</th>\n",
              "      <td>2020-03-30</td>\n",
              "      <td>Reject</td>\n",
              "      <td>PB11238250</td>\n",
              "      <td>VISA</td>\n",
              "      <td>Visa / Mastercard</td>\n",
              "      <td>Product E</td>\n",
              "      <td>New Customer</td>\n",
              "      <td>unknown</td>\n",
              "      <td>Genuine Customer</td>\n",
              "    </tr>\n",
              "    <tr>\n",
              "      <th>105803</th>\n",
              "      <td>2020-03-30</td>\n",
              "      <td>Reject</td>\n",
              "      <td>PB11244366</td>\n",
              "      <td>VISA</td>\n",
              "      <td>Visa / Mastercard</td>\n",
              "      <td>Product A</td>\n",
              "      <td>New Customer</td>\n",
              "      <td>ground</td>\n",
              "      <td>Genuine Customer</td>\n",
              "    </tr>\n",
              "    <tr>\n",
              "      <th>105804</th>\n",
              "      <td>2020-03-30</td>\n",
              "      <td>Reject</td>\n",
              "      <td>PB11244366</td>\n",
              "      <td>VISA</td>\n",
              "      <td>Visa / Mastercard</td>\n",
              "      <td>Product A</td>\n",
              "      <td>New Customer</td>\n",
              "      <td>ground</td>\n",
              "      <td>Genuine Customer</td>\n",
              "    </tr>\n",
              "    <tr>\n",
              "      <th>105805</th>\n",
              "      <td>2020-03-30</td>\n",
              "      <td>Reject</td>\n",
              "      <td>PB11244366</td>\n",
              "      <td>VISA</td>\n",
              "      <td>Visa / Mastercard</td>\n",
              "      <td>Product A</td>\n",
              "      <td>New Customer</td>\n",
              "      <td>ground</td>\n",
              "      <td>Genuine Customer</td>\n",
              "    </tr>\n",
              "    <tr>\n",
              "      <th>105806</th>\n",
              "      <td>2020-03-30</td>\n",
              "      <td>Reject</td>\n",
              "      <td>PB11245532</td>\n",
              "      <td>VISA</td>\n",
              "      <td>Visa / Mastercard</td>\n",
              "      <td>Product E</td>\n",
              "      <td>New Customer</td>\n",
              "      <td>unknown</td>\n",
              "      <td>Genuine Customer</td>\n",
              "    </tr>\n",
              "  </tbody>\n",
              "</table>\n",
              "<p>105807 rows × 9 columns</p>\n",
              "</div>"
            ],
            "text/plain": [
              "       Event Time Investigator Action    Order ID    PAYMENT_TYPE  \\\n",
              "0      2020-01-16  Accepted by System  PB10878417  reserveAccount   \n",
              "1      2020-01-13  Accepted by System  PB10861140      PB Invoice   \n",
              "2      2020-03-25  Accepted by System  PB11212392   PurchasePower   \n",
              "3      2020-03-01              Reject  PB11096014   PurchasePower   \n",
              "4      2020-03-01              Reject  PB11096015   PurchasePower   \n",
              "...           ...                 ...         ...             ...   \n",
              "105802 2020-03-30              Reject  PB11238250            VISA   \n",
              "105803 2020-03-30              Reject  PB11244366            VISA   \n",
              "105804 2020-03-30              Reject  PB11244366            VISA   \n",
              "105805 2020-03-30              Reject  PB11244366            VISA   \n",
              "105806 2020-03-30              Reject  PB11245532            VISA   \n",
              "\n",
              "           PAYMENT_TYPE 2 BUSINESS_CHANNEL    BPN_NUMBER Shipping Method  \\\n",
              "0          reserveAccount        Product A      10000144          ground   \n",
              "1              PB Invoice        Product B      10000203          ground   \n",
              "2           PurchasePower        Product A      10000203          ground   \n",
              "3           PurchasePower        Product B      10000238          ground   \n",
              "4           PurchasePower        Product B      10000238          ground   \n",
              "...                   ...              ...           ...             ...   \n",
              "105802  Visa / Mastercard        Product E  New Customer         unknown   \n",
              "105803  Visa / Mastercard        Product A  New Customer          ground   \n",
              "105804  Visa / Mastercard        Product A  New Customer          ground   \n",
              "105805  Visa / Mastercard        Product A  New Customer          ground   \n",
              "105806  Visa / Mastercard        Product E  New Customer         unknown   \n",
              "\n",
              "           Feedback Type  \n",
              "0       Genuine Customer  \n",
              "1       Genuine Customer  \n",
              "2       Genuine Customer  \n",
              "3       Genuine Customer  \n",
              "4       Genuine Customer  \n",
              "...                  ...  \n",
              "105802  Genuine Customer  \n",
              "105803  Genuine Customer  \n",
              "105804  Genuine Customer  \n",
              "105805  Genuine Customer  \n",
              "105806  Genuine Customer  \n",
              "\n",
              "[105807 rows x 9 columns]"
            ]
          },
          "execution_count": 20,
          "metadata": {},
          "output_type": "execute_result"
        }
      ]
    },
    {
      "cell_type": "markdown",
      "metadata": {
        "id": "spread-netscape"
      },
      "source": [
        "# Exploratory data analysis"
      ],
      "id": "spread-netscape"
    },
    {
      "cell_type": "code",
      "metadata": {
        "id": "known-smith",
        "outputId": "5d438ffc-04d8-4b3a-8126-6866bb1732e7"
      },
      "source": [
        "data.isnull().sum()"
      ],
      "id": "known-smith",
      "execution_count": null,
      "outputs": [
        {
          "data": {
            "text/plain": [
              "Event Time             0\n",
              "Investigator Action    0\n",
              "Order ID               0\n",
              "PAYMENT_TYPE           0\n",
              "PAYMENT_TYPE 2         0\n",
              "BUSINESS_CHANNEL       0\n",
              "BPN_NUMBER             0\n",
              "Shipping Method        0\n",
              "Feedback Type          0\n",
              "dtype: int64"
            ]
          },
          "execution_count": 21,
          "metadata": {},
          "output_type": "execute_result"
        }
      ]
    },
    {
      "cell_type": "markdown",
      "metadata": {
        "id": "ordinary-behavior"
      },
      "source": [
        "Observation No missing data in the datasets"
      ],
      "id": "ordinary-behavior"
    },
    {
      "cell_type": "code",
      "metadata": {
        "id": "distinguished-turner",
        "outputId": "6f8229a4-e776-4f30-9b0d-0e475693df4e"
      },
      "source": [
        "data.info()"
      ],
      "id": "distinguished-turner",
      "execution_count": null,
      "outputs": [
        {
          "name": "stdout",
          "output_type": "stream",
          "text": [
            "<class 'pandas.core.frame.DataFrame'>\n",
            "RangeIndex: 105807 entries, 0 to 105806\n",
            "Data columns (total 9 columns):\n",
            " #   Column               Non-Null Count   Dtype         \n",
            "---  ------               --------------   -----         \n",
            " 0   Event Time           105807 non-null  datetime64[ns]\n",
            " 1   Investigator Action  105807 non-null  object        \n",
            " 2   Order ID             105807 non-null  object        \n",
            " 3   PAYMENT_TYPE         105807 non-null  object        \n",
            " 4   PAYMENT_TYPE 2       105807 non-null  object        \n",
            " 5   BUSINESS_CHANNEL     105807 non-null  object        \n",
            " 6   BPN_NUMBER           105807 non-null  object        \n",
            " 7   Shipping Method      105807 non-null  object        \n",
            " 8   Feedback Type        105807 non-null  object        \n",
            "dtypes: datetime64[ns](1), object(8)\n",
            "memory usage: 7.3+ MB\n"
          ]
        }
      ]
    },
    {
      "cell_type": "markdown",
      "metadata": {
        "id": "prompt-burning"
      },
      "source": [
        "Observation\n",
        "\n",
        "105807 line Items in the data with all features being an object and a datetime with no continuous data"
      ],
      "id": "prompt-burning"
    },
    {
      "cell_type": "code",
      "metadata": {
        "id": "broken-killer",
        "outputId": "239c04d8-e0f8-4839-95d1-2c155abfb46a"
      },
      "source": [
        "data.describe().T"
      ],
      "id": "broken-killer",
      "execution_count": null,
      "outputs": [
        {
          "data": {
            "text/html": [
              "<div>\n",
              "<style scoped>\n",
              "    .dataframe tbody tr th:only-of-type {\n",
              "        vertical-align: middle;\n",
              "    }\n",
              "\n",
              "    .dataframe tbody tr th {\n",
              "        vertical-align: top;\n",
              "    }\n",
              "\n",
              "    .dataframe thead th {\n",
              "        text-align: right;\n",
              "    }\n",
              "</style>\n",
              "<table border=\"1\" class=\"dataframe\">\n",
              "  <thead>\n",
              "    <tr style=\"text-align: right;\">\n",
              "      <th></th>\n",
              "      <th>count</th>\n",
              "      <th>mean</th>\n",
              "      <th>std</th>\n",
              "      <th>min</th>\n",
              "      <th>25%</th>\n",
              "      <th>50%</th>\n",
              "      <th>75%</th>\n",
              "      <th>max</th>\n",
              "    </tr>\n",
              "  </thead>\n",
              "  <tbody>\n",
              "    <tr>\n",
              "      <th>Year</th>\n",
              "      <td>105807.0</td>\n",
              "      <td>2020.000000</td>\n",
              "      <td>0.000000</td>\n",
              "      <td>2020.0</td>\n",
              "      <td>2020.0</td>\n",
              "      <td>2020.0</td>\n",
              "      <td>2020.0</td>\n",
              "      <td>2020.0</td>\n",
              "    </tr>\n",
              "    <tr>\n",
              "      <th>Month</th>\n",
              "      <td>105807.0</td>\n",
              "      <td>1.971533</td>\n",
              "      <td>0.831721</td>\n",
              "      <td>1.0</td>\n",
              "      <td>1.0</td>\n",
              "      <td>2.0</td>\n",
              "      <td>3.0</td>\n",
              "      <td>3.0</td>\n",
              "    </tr>\n",
              "    <tr>\n",
              "      <th>Day</th>\n",
              "      <td>105807.0</td>\n",
              "      <td>15.274178</td>\n",
              "      <td>8.506585</td>\n",
              "      <td>1.0</td>\n",
              "      <td>7.0</td>\n",
              "      <td>15.0</td>\n",
              "      <td>23.0</td>\n",
              "      <td>30.0</td>\n",
              "    </tr>\n",
              "  </tbody>\n",
              "</table>\n",
              "</div>"
            ],
            "text/plain": [
              "          count         mean       std     min     25%     50%     75%     max\n",
              "Year   105807.0  2020.000000  0.000000  2020.0  2020.0  2020.0  2020.0  2020.0\n",
              "Month  105807.0     1.971533  0.831721     1.0     1.0     2.0     3.0     3.0\n",
              "Day    105807.0    15.274178  8.506585     1.0     7.0    15.0    23.0    30.0"
            ]
          },
          "execution_count": 79,
          "metadata": {},
          "output_type": "execute_result"
        }
      ]
    },
    {
      "cell_type": "code",
      "metadata": {
        "id": "cleared-metro"
      },
      "source": [
        "# no viable information here since all the features are categorical data"
      ],
      "id": "cleared-metro",
      "execution_count": null,
      "outputs": []
    },
    {
      "cell_type": "code",
      "metadata": {
        "id": "rotary-documentation",
        "outputId": "88a82e5f-cf0c-4c42-9013-78a114ffa267"
      },
      "source": [
        "for i in list(data.drop(\"Event Time\", axis = 1)):\n",
        "    print(data[i].value_counts())"
      ],
      "id": "rotary-documentation",
      "execution_count": null,
      "outputs": [
        {
          "name": "stdout",
          "output_type": "stream",
          "text": [
            "Accepted by System    97688\n",
            "Approve                7224\n",
            "Reject                  895\n",
            "Name: Investigator Action, dtype: int64\n",
            "PB10813464    19\n",
            "PB10974965    18\n",
            "PB10910261    17\n",
            "PB11070296    16\n",
            "PB11097094    15\n",
            "              ..\n",
            "PB11045243     1\n",
            "PB10928415     1\n",
            "PB11213757     1\n",
            "PB11004728     1\n",
            "PB11065933     1\n",
            "Name: Order ID, Length: 85654, dtype: int64\n",
            "PurchasePower      40201\n",
            "PB Invoice         28531\n",
            "VISA               19221\n",
            "Master Card         7725\n",
            "AMEX                7147\n",
            "reserveAccount      2325\n",
            "Discover             300\n",
            "Techincal Issue      230\n",
            "ZPBI                  98\n",
            "ACH                   24\n",
            "PayLater               5\n",
            "Name: PAYMENT_TYPE, dtype: int64\n",
            "PurchasePower        40201\n",
            "PB Invoice           28629\n",
            "Visa / Mastercard    26946\n",
            "AMEX                  7147\n",
            "reserveAccount        2325\n",
            "Discover               300\n",
            "Techincal Issue        230\n",
            "ACH                     24\n",
            "PayLater                 5\n",
            "Name: PAYMENT_TYPE 2, dtype: int64\n",
            "Product B    88112\n",
            "Product A    15103\n",
            "Product E     1922\n",
            "Product F      633\n",
            "Product D       24\n",
            "Product C       13\n",
            "Name: BUSINESS_CHANNEL, dtype: int64\n",
            "New Customer    14877\n",
            "17041201          129\n",
            "17218932           70\n",
            "17059489           57\n",
            "18138809           49\n",
            "                ...  \n",
            "17482839            1\n",
            "13157464            1\n",
            "10798170            1\n",
            "11453531            1\n",
            "10618962            1\n",
            "Name: BPN_NUMBER, Length: 69514, dtype: int64\n",
            "ground       95938\n",
            "overnight     4995\n",
            "unknown       4874\n",
            "Name: Shipping Method, dtype: int64\n",
            "Genuine Customer    105625\n",
            "Fraud                  164\n",
            "False Positive          18\n",
            "Name: Feedback Type, dtype: int64\n"
          ]
        }
      ]
    },
    {
      "cell_type": "code",
      "metadata": {
        "id": "incorporated-ranking",
        "outputId": "8cfa2b85-765b-4176-da79-eacae89f3d92"
      },
      "source": [
        "data[\"Feedback Type\"].value_counts(normalize = True)* 100"
      ],
      "id": "incorporated-ranking",
      "execution_count": null,
      "outputs": [
        {
          "data": {
            "text/plain": [
              "Genuine Customer    99.827989\n",
              "Fraud                0.154999\n",
              "False Positive       0.017012\n",
              "Name: Feedback Type, dtype: float64"
            ]
          },
          "execution_count": 32,
          "metadata": {},
          "output_type": "execute_result"
        }
      ]
    },
    {
      "cell_type": "markdown",
      "metadata": {
        "id": "threatened-lounge"
      },
      "source": [
        "Observation\n",
        "\n",
        "99.8% of the Feedback gotten from the system are Genuine customers.\n",
        "This Create an imbalance datasets in the data.\n"
      ],
      "id": "threatened-lounge"
    },
    {
      "cell_type": "markdown",
      "metadata": {
        "id": "further-shakespeare"
      },
      "source": [
        "Another Observation, if an Observation is False Positive, That means, the system generally detect the transcating customer is not a genuine customer.\n",
        "Making Fraud and False positive overlap as same target\n",
        "\n"
      ],
      "id": "further-shakespeare"
    },
    {
      "cell_type": "code",
      "metadata": {
        "id": "religious-transition"
      },
      "source": [
        "data[\"Feedback Type\"]= np.where(data[\"Feedback Type\"] == \"False Positive\", \"Fraud\", data[\"Feedback Type\"])       "
      ],
      "id": "religious-transition",
      "execution_count": null,
      "outputs": []
    },
    {
      "cell_type": "code",
      "metadata": {
        "id": "opening-speaker",
        "outputId": "22b94a0c-6ddc-41ea-b265-28a40a8a30e0"
      },
      "source": [
        "data[\"Feedback Type\"].value_counts(normalize = True)* 100"
      ],
      "id": "opening-speaker",
      "execution_count": null,
      "outputs": [
        {
          "data": {
            "text/plain": [
              "Genuine Customer    99.827989\n",
              "Fraud                0.172011\n",
              "Name: Feedback Type, dtype: float64"
            ]
          },
          "execution_count": 73,
          "metadata": {},
          "output_type": "execute_result"
        }
      ]
    },
    {
      "cell_type": "code",
      "metadata": {
        "id": "selected-knock"
      },
      "source": [],
      "id": "selected-knock",
      "execution_count": null,
      "outputs": []
    },
    {
      "cell_type": "code",
      "metadata": {
        "id": "pointed-think",
        "outputId": "77ef1596-7386-450e-d9fc-ff989f122547"
      },
      "source": [
        "sb.countplot(x = \"Feedback Type\", data = data)"
      ],
      "id": "pointed-think",
      "execution_count": null,
      "outputs": [
        {
          "data": {
            "text/plain": [
              "<AxesSubplot:xlabel='Feedback Type', ylabel='count'>"
            ]
          },
          "execution_count": 74,
          "metadata": {},
          "output_type": "execute_result"
        },
        {
          "data": {
            "image/png": "[encoded data removed]",
            "text/plain": [
              "<Figure size 864x576 with 1 Axes>"
            ]
          },
          "metadata": {},
          "output_type": "display_data"
        }
      ]
    },
    {
      "cell_type": "code",
      "metadata": {
        "id": "lyric-emerald"
      },
      "source": [],
      "id": "lyric-emerald",
      "execution_count": null,
      "outputs": []
    },
    {
      "cell_type": "code",
      "metadata": {
        "id": "light-house",
        "outputId": "3466c47c-865c-49cb-b65e-b7e183576450"
      },
      "source": [
        " sb.countplot(y = \"BUSINESS_CHANNEL\", data = data) "
      ],
      "id": "light-house",
      "execution_count": null,
      "outputs": [
        {
          "data": {
            "text/plain": [
              "<AxesSubplot:xlabel='count', ylabel='BUSINESS_CHANNEL'>"
            ]
          },
          "execution_count": 39,
          "metadata": {},
          "output_type": "execute_result"
        },
        {
          "data": {
            "image/png": "[encoded data removed]",
            "text/plain": [
              "<Figure size 864x576 with 1 Axes>"
            ]
          },
          "metadata": {},
          "output_type": "display_data"
        }
      ]
    },
    {
      "cell_type": "markdown",
      "metadata": {
        "id": "adequate-lying"
      },
      "source": [
        "Observation\n",
        "\n",
        "Over 80,000 are carried out through Business Channel B. this is followed by product A at close to 20,000 with Channel  C and D rarely used\n",
        "to order by the customers."
      ],
      "id": "adequate-lying"
    },
    {
      "cell_type": "code",
      "metadata": {
        "id": "greater-turkey",
        "outputId": "90b710a0-3335-4c24-89ac-7f6f50dd8466"
      },
      "source": [
        "print(*list(data))"
      ],
      "id": "greater-turkey",
      "execution_count": null,
      "outputs": [
        {
          "name": "stdout",
          "output_type": "stream",
          "text": [
            "Event Time Investigator Action Order ID PAYMENT_TYPE PAYMENT_TYPE 2 BUSINESS_CHANNEL BPN_NUMBER Shipping Method Feedback Type\n"
          ]
        }
      ]
    },
    {
      "cell_type": "code",
      "metadata": {
        "id": "determined-beverage"
      },
      "source": [
        "# Dealing with datetime\n",
        "\n",
        "\n",
        "data[\"Event Time\"] = pd.to_datetime(data['Event Time'])\n",
        "data[\"Year\"] = data[\"Event Time\"].dt.year\n",
        "data[\"Month\"] = data[\"Event Time\"].dt.month\n",
        "data[\"Day\"] = data[\"Event Time\"].dt.day\n",
        "data[\"Month name\"] = data[\"Event Time\"].dt.month_name()\n",
        "data[\"Weekday\"] = data[\"Event Time\"].dt.day_name()"
      ],
      "id": "determined-beverage",
      "execution_count": null,
      "outputs": []
    },
    {
      "cell_type": "code",
      "metadata": {
        "id": "german-alaska",
        "outputId": "37142f79-b6db-4b5b-9a01-478e0eab1f20"
      },
      "source": [
        "data.head()"
      ],
      "id": "german-alaska",
      "execution_count": null,
      "outputs": [
        {
          "data": {
            "text/html": [
              "<div>\n",
              "<style scoped>\n",
              "    .dataframe tbody tr th:only-of-type {\n",
              "        vertical-align: middle;\n",
              "    }\n",
              "\n",
              "    .dataframe tbody tr th {\n",
              "        vertical-align: top;\n",
              "    }\n",
              "\n",
              "    .dataframe thead th {\n",
              "        text-align: right;\n",
              "    }\n",
              "</style>\n",
              "<table border=\"1\" class=\"dataframe\">\n",
              "  <thead>\n",
              "    <tr style=\"text-align: right;\">\n",
              "      <th></th>\n",
              "      <th>Event Time</th>\n",
              "      <th>Investigator Action</th>\n",
              "      <th>Order ID</th>\n",
              "      <th>PAYMENT_TYPE</th>\n",
              "      <th>PAYMENT_TYPE 2</th>\n",
              "      <th>BUSINESS_CHANNEL</th>\n",
              "      <th>BPN_NUMBER</th>\n",
              "      <th>Shipping Method</th>\n",
              "      <th>Feedback Type</th>\n",
              "      <th>Year</th>\n",
              "      <th>Month</th>\n",
              "      <th>Day</th>\n",
              "      <th>Month name</th>\n",
              "      <th>Weekday</th>\n",
              "    </tr>\n",
              "  </thead>\n",
              "  <tbody>\n",
              "    <tr>\n",
              "      <th>0</th>\n",
              "      <td>2020-01-16</td>\n",
              "      <td>Accepted by System</td>\n",
              "      <td>PB10878417</td>\n",
              "      <td>reserveAccount</td>\n",
              "      <td>reserveAccount</td>\n",
              "      <td>Product A</td>\n",
              "      <td>10000144</td>\n",
              "      <td>ground</td>\n",
              "      <td>Genuine Customer</td>\n",
              "      <td>2020</td>\n",
              "      <td>1</td>\n",
              "      <td>16</td>\n",
              "      <td>January</td>\n",
              "      <td>Thursday</td>\n",
              "    </tr>\n",
              "    <tr>\n",
              "      <th>1</th>\n",
              "      <td>2020-01-13</td>\n",
              "      <td>Accepted by System</td>\n",
              "      <td>PB10861140</td>\n",
              "      <td>PB Invoice</td>\n",
              "      <td>PB Invoice</td>\n",
              "      <td>Product B</td>\n",
              "      <td>10000203</td>\n",
              "      <td>ground</td>\n",
              "      <td>Genuine Customer</td>\n",
              "      <td>2020</td>\n",
              "      <td>1</td>\n",
              "      <td>13</td>\n",
              "      <td>January</td>\n",
              "      <td>Monday</td>\n",
              "    </tr>\n",
              "    <tr>\n",
              "      <th>2</th>\n",
              "      <td>2020-03-25</td>\n",
              "      <td>Accepted by System</td>\n",
              "      <td>PB11212392</td>\n",
              "      <td>PurchasePower</td>\n",
              "      <td>PurchasePower</td>\n",
              "      <td>Product A</td>\n",
              "      <td>10000203</td>\n",
              "      <td>ground</td>\n",
              "      <td>Genuine Customer</td>\n",
              "      <td>2020</td>\n",
              "      <td>3</td>\n",
              "      <td>25</td>\n",
              "      <td>March</td>\n",
              "      <td>Wednesday</td>\n",
              "    </tr>\n",
              "    <tr>\n",
              "      <th>3</th>\n",
              "      <td>2020-03-01</td>\n",
              "      <td>Reject</td>\n",
              "      <td>PB11096014</td>\n",
              "      <td>PurchasePower</td>\n",
              "      <td>PurchasePower</td>\n",
              "      <td>Product B</td>\n",
              "      <td>10000238</td>\n",
              "      <td>ground</td>\n",
              "      <td>Genuine Customer</td>\n",
              "      <td>2020</td>\n",
              "      <td>3</td>\n",
              "      <td>1</td>\n",
              "      <td>March</td>\n",
              "      <td>Sunday</td>\n",
              "    </tr>\n",
              "    <tr>\n",
              "      <th>4</th>\n",
              "      <td>2020-03-01</td>\n",
              "      <td>Reject</td>\n",
              "      <td>PB11096015</td>\n",
              "      <td>PurchasePower</td>\n",
              "      <td>PurchasePower</td>\n",
              "      <td>Product B</td>\n",
              "      <td>10000238</td>\n",
              "      <td>ground</td>\n",
              "      <td>Genuine Customer</td>\n",
              "      <td>2020</td>\n",
              "      <td>3</td>\n",
              "      <td>1</td>\n",
              "      <td>March</td>\n",
              "      <td>Sunday</td>\n",
              "    </tr>\n",
              "  </tbody>\n",
              "</table>\n",
              "</div>"
            ],
            "text/plain": [
              "  Event Time Investigator Action    Order ID    PAYMENT_TYPE  PAYMENT_TYPE 2  \\\n",
              "0 2020-01-16  Accepted by System  PB10878417  reserveAccount  reserveAccount   \n",
              "1 2020-01-13  Accepted by System  PB10861140      PB Invoice      PB Invoice   \n",
              "2 2020-03-25  Accepted by System  PB11212392   PurchasePower   PurchasePower   \n",
              "3 2020-03-01              Reject  PB11096014   PurchasePower   PurchasePower   \n",
              "4 2020-03-01              Reject  PB11096015   PurchasePower   PurchasePower   \n",
              "\n",
              "  BUSINESS_CHANNEL BPN_NUMBER Shipping Method     Feedback Type  Year  Month  \\\n",
              "0        Product A   10000144          ground  Genuine Customer  2020      1   \n",
              "1        Product B   10000203          ground  Genuine Customer  2020      1   \n",
              "2        Product A   10000203          ground  Genuine Customer  2020      3   \n",
              "3        Product B   10000238          ground  Genuine Customer  2020      3   \n",
              "4        Product B   10000238          ground  Genuine Customer  2020      3   \n",
              "\n",
              "   Day Month name    Weekday  \n",
              "0   16    January   Thursday  \n",
              "1   13    January     Monday  \n",
              "2   25      March  Wednesday  \n",
              "3    1      March     Sunday  \n",
              "4    1      March     Sunday  "
            ]
          },
          "execution_count": 66,
          "metadata": {},
          "output_type": "execute_result"
        }
      ]
    },
    {
      "cell_type": "code",
      "metadata": {
        "id": "simplified-shaft"
      },
      "source": [],
      "id": "simplified-shaft",
      "execution_count": null,
      "outputs": []
    },
    {
      "cell_type": "code",
      "metadata": {
        "id": "polish-dutch",
        "outputId": "b2dd113e-d288-4387-8f8b-e6b29b858c33"
      },
      "source": [
        "sb.countplot(y = \"PAYMENT_TYPE\", data = data) \n",
        "plt.title(\"Payment Type Distribution\", size = 18)\n"
      ],
      "id": "polish-dutch",
      "execution_count": null,
      "outputs": [
        {
          "data": {
            "text/plain": [
              "Text(0.5, 1.0, 'Payment Type Distribution')"
            ]
          },
          "execution_count": 86,
          "metadata": {},
          "output_type": "execute_result"
        },
        {
          "data": {
            "image/png": "[encoded data removed]",
            "text/plain": [
              "<Figure size 864x576 with 1 Axes>"
            ]
          },
          "metadata": {},
          "output_type": "display_data"
        }
      ]
    },
    {
      "cell_type": "markdown",
      "metadata": {
        "id": "fifth-skill"
      },
      "source": [
        "\n",
        "O\n",
        "Purchase Power and top the payment type for all orders with 40,000 records follow by PB invoice doing 250000.\n",
        "ACH, Pay:ater, Technical Issue are the least Payment type use by customers"
      ],
      "id": "fifth-skill"
    },
    {
      "cell_type": "code",
      "metadata": {
        "id": "electronic-location"
      },
      "source": [],
      "id": "electronic-location",
      "execution_count": null,
      "outputs": []
    },
    {
      "cell_type": "code",
      "metadata": {
        "id": "proper-peeing",
        "outputId": "a03f6440-d6a1-4212-a855-e86fb894d2e1"
      },
      "source": [
        "sb.countplot(x = \"Investigator Action\", data = data) \n",
        "plt.title(\"Investigation Action Distribution\", size = 18)"
      ],
      "id": "proper-peeing",
      "execution_count": null,
      "outputs": [
        {
          "data": {
            "text/plain": [
              "Text(0.5, 1.0, 'Investigation Action Distribution')"
            ]
          },
          "execution_count": 90,
          "metadata": {},
          "output_type": "execute_result"
        },
        {
          "data": {
            "image/png": "[encoded data removed]",
            "text/plain": [
              "<Figure size 864x576 with 1 Axes>"
            ]
          },
          "metadata": {},
          "output_type": "display_data"
        }
      ]
    },
    {
      "cell_type": "markdown",
      "metadata": {
        "id": "computational-china"
      },
      "source": [
        "Most of the order are accepted by the system. close to 1000000 are accepted by the system by the investigator action. just few around 10000 of the \n",
        "total order by the customers are rejected and around 10000 approved by the system"
      ],
      "id": "computational-china"
    },
    {
      "cell_type": "code",
      "metadata": {
        "id": "resistant-incentive"
      },
      "source": [],
      "id": "resistant-incentive",
      "execution_count": null,
      "outputs": []
    },
    {
      "cell_type": "code",
      "metadata": {
        "id": "weird-eagle",
        "outputId": "db694c5f-8db1-4648-832f-0665a454e1c0"
      },
      "source": [
        "sb.countplot(x = \"Shipping Method\", data = data) \n",
        "plt.title(\"Shipping Distribution\", size = 18)"
      ],
      "id": "weird-eagle",
      "execution_count": null,
      "outputs": [
        {
          "data": {
            "text/plain": [
              "Text(0.5, 1.0, 'Shipping Distribution')"
            ]
          },
          "execution_count": 118,
          "metadata": {},
          "output_type": "execute_result"
        },
        {
          "data": {
            "image/png": "[encoded data removed]",
            "text/plain": [
              "<Figure size 864x576 with 1 Axes>"
            ]
          },
          "metadata": {},
          "output_type": "display_data"
        }
      ]
    },
    {
      "cell_type": "code",
      "metadata": {
        "id": "demographic-application"
      },
      "source": [],
      "id": "demographic-application",
      "execution_count": null,
      "outputs": []
    },
    {
      "cell_type": "code",
      "metadata": {
        "id": "minus-peninsula"
      },
      "source": [],
      "id": "minus-peninsula",
      "execution_count": null,
      "outputs": []
    },
    {
      "cell_type": "markdown",
      "metadata": {
        "id": "controversial-material"
      },
      "source": [
        "# Dealing with Fraudulent Feedback"
      ],
      "id": "controversial-material"
    },
    {
      "cell_type": "code",
      "metadata": {
        "id": "verified-response"
      },
      "source": [],
      "id": "verified-response",
      "execution_count": null,
      "outputs": []
    },
    {
      "cell_type": "code",
      "metadata": {
        "id": "official-annual",
        "outputId": "87360960-9937-492c-a31f-f73782fe4bfc",
        "colab": {
          "base_uri": "https://localhost:8080/",
          "height": 189
        }
      },
      "source": [
        "Fraud = data.loc[data[\"Feedback Type\"]==\"Fraud\"]\n",
        "Fraud"
      ],
      "id": "official-annual",
      "execution_count": null,
      "outputs": [
        {
          "output_type": "error",
          "ename": "NameError",
          "evalue": "ignored",
          "traceback": [
            "\u001b[0;31m---------------------------------------------------------------------------\u001b[0m",
            "\u001b[0;31mNameError\u001b[0m                                 Traceback (most recent call last)",
            "\u001b[0;32m<ipython-input-1-eb3e8d111035>\u001b[0m in \u001b[0;36m<module>\u001b[0;34m()\u001b[0m\n\u001b[0;32m----> 1\u001b[0;31m \u001b[0mFraud\u001b[0m \u001b[0;34m=\u001b[0m \u001b[0mdata\u001b[0m\u001b[0;34m.\u001b[0m\u001b[0mloc\u001b[0m\u001b[0;34m[\u001b[0m\u001b[0mdata\u001b[0m\u001b[0;34m[\u001b[0m\u001b[0;34m\"Feedback Type\"\u001b[0m\u001b[0;34m]\u001b[0m\u001b[0;34m==\u001b[0m\u001b[0;34m\"Fraud\"\u001b[0m\u001b[0;34m]\u001b[0m\u001b[0;34m\u001b[0m\u001b[0;34m\u001b[0m\u001b[0m\n\u001b[0m\u001b[1;32m      2\u001b[0m \u001b[0mFraud\u001b[0m\u001b[0;34m\u001b[0m\u001b[0;34m\u001b[0m\u001b[0m\n",
            "\u001b[0;31mNameError\u001b[0m: name 'data' is not defined"
          ]
        }
      ]
    },
    {
      "cell_type": "code",
      "metadata": {
        "id": "cognitive-firewall"
      },
      "source": [
        "Fraud.groupby([\"Year\", \"Month name\"])[\"Feedback Type\"].size().unstack(0).plot(kind = \"bar\", color = \"green\", legend = None)"
      ],
      "id": "cognitive-firewall",
      "execution_count": null,
      "outputs": []
    },
    {
      "cell_type": "markdown",
      "metadata": {
        "id": "voluntary-forum"
      },
      "source": [
        "Observation\n",
        "\n",
        "Most of the Fraudulent transcation are carried out in January totalling 90. This reduce back in Febraury to close to 40 before increasing again\n",
        "in match to about 60"
      ],
      "id": "voluntary-forum"
    },
    {
      "cell_type": "code",
      "metadata": {
        "id": "italic-school"
      },
      "source": [],
      "id": "italic-school",
      "execution_count": null,
      "outputs": []
    },
    {
      "cell_type": "code",
      "metadata": {
        "id": "official-style"
      },
      "source": [
        "pd.DataFrame(Fraud.groupby(\"Shipping Method\")['Feedback Type'].size()).plot(kind = \"bar\")"
      ],
      "id": "official-style",
      "execution_count": null,
      "outputs": []
    },
    {
      "cell_type": "markdown",
      "metadata": {
        "id": "emerging-comparison"
      },
      "source": [
        "Observation\n",
        "\n",
        "Most Fraudulent transactuon are carried out using shipping method\n",
        "\n"
      ],
      "id": "emerging-comparison"
    },
    {
      "cell_type": "code",
      "metadata": {
        "id": "recovered-dinner"
      },
      "source": [
        "list(Fraud)"
      ],
      "id": "recovered-dinner",
      "execution_count": null,
      "outputs": []
    },
    {
      "cell_type": "code",
      "metadata": {
        "id": "charming-clothing"
      },
      "source": [],
      "id": "charming-clothing",
      "execution_count": null,
      "outputs": []
    },
    {
      "cell_type": "code",
      "metadata": {
        "id": "signal-asian"
      },
      "source": [
        "pd.DataFrame(Fraud.groupby([\"Weekday\"])['Feedback Type'].size()).plot(kind = \"bar\", legend = None, color = \"gold\")"
      ],
      "id": "signal-asian",
      "execution_count": null,
      "outputs": []
    },
    {
      "cell_type": "markdown",
      "metadata": {
        "id": "adjusted-bidding"
      },
      "source": [
        "Observation:\n",
        "    \n",
        "    Fraudulent order are carried out on Thursday.\n",
        "    Least occurence happens during saturdau and sunday"
      ],
      "id": "adjusted-bidding"
    },
    {
      "cell_type": "code",
      "metadata": {
        "id": "prepared-collect"
      },
      "source": [],
      "id": "prepared-collect",
      "execution_count": null,
      "outputs": []
    },
    {
      "cell_type": "code",
      "metadata": {
        "id": "blind-faculty"
      },
      "source": [
        "pd.DataFrame(Fraud.groupby([\"BUSINESS_CHANNEL\"])['Feedback Type'].size()).plot(kind = \"barh\", legend = None, color = \"orange\")\n",
        "plt.title(\"Fraudulent Order by Days and Channel\", size = 18)"
      ],
      "id": "blind-faculty",
      "execution_count": null,
      "outputs": []
    },
    {
      "cell_type": "markdown",
      "metadata": {
        "id": "assigned-aerospace"
      },
      "source": [
        "obseration:\n",
        "    Fraudulent Transcations are majorly arried out thorugh Business Channel Product B accounting for over 120 of the fraud perpetrated follow\n",
        "    by product A coverng over 40 fraud.\n",
        "    The least channel used for Fraudulent order is product E.\n",
        "    \n",
        "    "
      ],
      "id": "assigned-aerospace"
    },
    {
      "cell_type": "code",
      "metadata": {
        "id": "derived-scholarship"
      },
      "source": [],
      "id": "derived-scholarship",
      "execution_count": null,
      "outputs": []
    },
    {
      "cell_type": "code",
      "metadata": {
        "id": "opened-steam"
      },
      "source": [
        "pd.DataFrame(Fraud.groupby([\"Weekday\", \"BUSINESS_CHANNEL\"])['Feedback Type'].size()).plot(kind = \"barh\", legend = None, color = \"orange\")\n",
        "plt.title(\"Fraudulent Order by Days and Channel\", size = 18)"
      ],
      "id": "opened-steam",
      "execution_count": null,
      "outputs": []
    },
    {
      "cell_type": "markdown",
      "metadata": {
        "id": "recreational-romance"
      },
      "source": [
        "Observation:\n",
        "    Fraudulent transcation ostly carried out on Thrsday are carried out most with Business Channel B with close to 60 frauds.\n",
        "    least occur on Channel E on Wednesday with less 10 fraud"
      ],
      "id": "recreational-romance"
    },
    {
      "cell_type": "code",
      "metadata": {
        "id": "thick-storage"
      },
      "source": [],
      "id": "thick-storage",
      "execution_count": null,
      "outputs": []
    },
    {
      "cell_type": "code",
      "metadata": {
        "id": "level-imperial"
      },
      "source": [
        "pd.DataFrame(Fraud.groupby([\"Month name\", \"BUSINESS_CHANNEL\"])['Feedback Type'].size()).plot(kind = \"barh\", legend = None, color = \"orange\")\n",
        "plt.title(\"Fraudulent Order by Channel and Month\", size = 18)"
      ],
      "id": "level-imperial",
      "execution_count": null,
      "outputs": []
    },
    {
      "cell_type": "markdown",
      "metadata": {
        "id": "insured-starter"
      },
      "source": [
        "Observation:\n",
        "    Fraudulent order are majorly carried in channel B in march follow by January."
      ],
      "id": "insured-starter"
    },
    {
      "cell_type": "markdown",
      "metadata": {
        "id": "miniature-mainland"
      },
      "source": [],
      "id": "miniature-mainland"
    },
    {
      "cell_type": "code",
      "metadata": {
        "id": "stretch-thirty"
      },
      "source": [],
      "id": "stretch-thirty",
      "execution_count": null,
      "outputs": []
    }
  ]
}